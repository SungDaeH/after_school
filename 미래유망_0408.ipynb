{
 "cells": [
  {
   "cell_type": "markdown",
   "id": "51537907",
   "metadata": {},
   "source": [
    "### 1. 두 개의 변수 a와 b에 각각 5와 3을 할당하고, 그 합을 출력하는 코드를 작성하세요."
   ]
  },
  {
   "cell_type": "code",
   "execution_count": 42,
   "id": "aab90da5",
   "metadata": {
    "scrolled": true
   },
   "outputs": [
    {
     "name": "stdout",
     "output_type": "stream",
     "text": [
      "8\n"
     ]
    }
   ],
   "source": [
    "a = 5\n",
    "b = 3\n",
    "\n",
    "print(f'{a+b}')"
   ]
  },
  {
   "cell_type": "markdown",
   "id": "1b32b93b",
   "metadata": {},
   "source": [
    "### 2. 사용자로부터 이름을 입력 받아 환영 메시지를 출력하는 프로그램을 작성하세요."
   ]
  },
  {
   "cell_type": "code",
   "execution_count": 2,
   "id": "9b5a916c",
   "metadata": {
    "scrolled": true
   },
   "outputs": [
    {
     "name": "stdout",
     "output_type": "stream",
     "text": [
      "이름을 입력해주세요 : 성대\n",
      "성대님 안녕하세요.\n"
     ]
    }
   ],
   "source": [
    "name = input(\"이름을 입력해주세요 : \")\n",
    "print(f\"{name}님 안녕하세요.\")"
   ]
  },
  {
   "cell_type": "markdown",
   "id": "7f8814f9",
   "metadata": {},
   "source": [
    "### 3. 1부터 10까지의 숫자 중에서 짝수만 출력하는 코드를 작성하세요."
   ]
  },
  {
   "cell_type": "code",
   "execution_count": 3,
   "id": "c6df7b14",
   "metadata": {},
   "outputs": [
    {
     "name": "stdout",
     "output_type": "stream",
     "text": [
      "2 4 6 8 10 "
     ]
    }
   ],
   "source": [
    "for i in range(1, 10+1):\n",
    "    if i%2 == 0 :\n",
    "        print(i, end=\" \")"
   ]
  },
  {
   "cell_type": "markdown",
   "id": "9c1bbe44",
   "metadata": {},
   "source": [
    "### 4. 주어진 리스트 [1, 2, 3, 4, 5]를 출력하는 코드를 작성하세요."
   ]
  },
  {
   "cell_type": "code",
   "execution_count": 4,
   "id": "400f9b5e",
   "metadata": {},
   "outputs": [
    {
     "name": "stdout",
     "output_type": "stream",
     "text": [
      "[1, 2, 3, 4, 5]\n"
     ]
    }
   ],
   "source": [
    "list = [1,2,3,4,5]\n",
    "print(f\"{list}\")"
   ]
  },
  {
   "cell_type": "markdown",
   "id": "54c70552",
   "metadata": {},
   "source": [
    "### 5. 문자열 \"Hello, World!\"를 역순으로 출ㄺ하는 코드를 작성하세요."
   ]
  },
  {
   "cell_type": "code",
   "execution_count": 39,
   "id": "9d9cecd2",
   "metadata": {},
   "outputs": [
    {
     "name": "stdout",
     "output_type": "stream",
     "text": [
      "dlroW ,olleH\n"
     ]
    }
   ],
   "source": [
    "str1 = \"Hello, World\"\n",
    "print(str1[::-1])"
   ]
  },
  {
   "cell_type": "markdown",
   "id": "cd2269ce",
   "metadata": {},
   "source": [
    "### 6. 사용자로부터 두 개의 숫자를 입력 받아 두 숫자를 곱한 결과를 출력하는 프로그램을 작성하세요."
   ]
  },
  {
   "cell_type": "code",
   "execution_count": 9,
   "id": "3465f2de",
   "metadata": {},
   "outputs": [
    {
     "name": "stdout",
     "output_type": "stream",
     "text": [
      "5 5\n",
      "25\n"
     ]
    }
   ],
   "source": [
    "a, b = map(int, input().split())\n",
    "print(f\"{a*b}\")"
   ]
  },
  {
   "cell_type": "markdown",
   "id": "7b34125f",
   "metadata": {},
   "source": [
    "### 7. 다음 리스트 [1, 2, 3, 4, 5]에서 3의 인덱스를 출력하는 코드를 작성하세요."
   ]
  },
  {
   "cell_type": "code",
   "execution_count": 10,
   "id": "dc0f7a90",
   "metadata": {},
   "outputs": [
    {
     "data": {
      "text/plain": [
       "3"
      ]
     },
     "execution_count": 10,
     "metadata": {},
     "output_type": "execute_result"
    }
   ],
   "source": [
    "list[2]"
   ]
  },
  {
   "cell_type": "markdown",
   "id": "32356a84",
   "metadata": {},
   "source": [
    "### 8. 주어진 리스트 [1, 2, 3, 4, 5]에서 모든 요소를 더한 값을 출력하는 코드를 작성하세요."
   ]
  },
  {
   "cell_type": "code",
   "execution_count": 25,
   "id": "aa3332f4",
   "metadata": {},
   "outputs": [
    {
     "name": "stdout",
     "output_type": "stream",
     "text": [
      "1\n",
      "3\n",
      "6\n",
      "10\n",
      "15\n"
     ]
    }
   ],
   "source": [
    "a = 0\n",
    "for i in range(5):\n",
    "    a = a + list[i]\n",
    "    print(a)"
   ]
  },
  {
   "cell_type": "markdown",
   "id": "6362e9b6",
   "metadata": {},
   "source": [
    "### 9. 주어진 문자열 \"python\"을 세 번 반복하여 출력하는 코드를 작성하세요."
   ]
  },
  {
   "cell_type": "code",
   "execution_count": 17,
   "id": "37b67d13",
   "metadata": {},
   "outputs": [
    {
     "name": "stdout",
     "output_type": "stream",
     "text": [
      "\"python\"\n",
      "\"python\"\n",
      "\"python\"\n"
     ]
    }
   ],
   "source": [
    "for i in range(3):\n",
    "    print('\"python\"')"
   ]
  },
  {
   "cell_type": "code",
   "execution_count": 41,
   "id": "2a4f26a9",
   "metadata": {},
   "outputs": [
    {
     "data": {
      "text/plain": [
       "str"
      ]
     },
     "execution_count": 41,
     "metadata": {},
     "output_type": "execute_result"
    }
   ],
   "source": [
    "d = 'd s d'\n",
    "type(d)"
   ]
  },
  {
   "cell_type": "code",
   "execution_count": 48,
   "id": "c6ffdd48",
   "metadata": {},
   "outputs": [
    {
     "name": "stdout",
     "output_type": "stream",
     "text": [
      "<class 'int'>\n",
      "1\n"
     ]
    }
   ],
   "source": [
    "a = 5\n",
    "b = 3\n",
    "c = a // b\n",
    "print(type(c))\n",
    "print(c)"
   ]
  },
  {
   "cell_type": "code",
   "execution_count": 51,
   "id": "a1448e0b",
   "metadata": {},
   "outputs": [
    {
     "name": "stdout",
     "output_type": "stream",
     "text": [
      "3\n"
     ]
    },
    {
     "data": {
      "text/plain": [
       "int"
      ]
     },
     "execution_count": 51,
     "metadata": {},
     "output_type": "execute_result"
    }
   ],
   "source": [
    "name = int(input())\n",
    "type(name)"
   ]
  },
  {
   "cell_type": "code",
   "execution_count": 56,
   "id": "91d1d180",
   "metadata": {},
   "outputs": [
    {
     "name": "stdout",
     "output_type": "stream",
     "text": [
      "25\n"
     ]
    }
   ],
   "source": [
    "s = 0\n",
    "for i in range(1, 11):\n",
    "    if i % 2 == 1 :\n",
    "        s += i\n",
    "print(s)"
   ]
  },
  {
   "cell_type": "code",
   "execution_count": 65,
   "id": "93f2407f",
   "metadata": {},
   "outputs": [
    {
     "name": "stdout",
     "output_type": "stream",
     "text": [
      "짝수의 합은 30입니다.\n",
      "홀수의 합은 25입니다.\n"
     ]
    }
   ],
   "source": [
    "e = 0\n",
    "o = 0\n",
    "for i in range(1, 11):\n",
    "    if i % 2 == 0 :\n",
    "        e = e + i\n",
    "    elif i % 2 == 1:\n",
    "        o += i\n",
    "print(f\"짝수의 합은 {e}입니다.\")\n",
    "print(f\"홀수의 합은 {o}입니다.\")"
   ]
  },
  {
   "cell_type": "code",
   "execution_count": 67,
   "id": "f36d6d1a",
   "metadata": {},
   "outputs": [
    {
     "name": "stdout",
     "output_type": "stream",
     "text": [
      "30\n",
      "25\n",
      "0\n"
     ]
    }
   ],
   "source": [
    "s1 = 0\n",
    "s2 = 0\n",
    "s3 = 0\n",
    "for i in range(1, 11):\n",
    "    if i % 2== 0:\n",
    "        s1 += i\n",
    "    elif i % 2 == 1:\n",
    "        s2 += i\n",
    "    else :\n",
    "        s3 += i\n",
    "print(s1)\n",
    "print(s2)\n",
    "print(s3)"
   ]
  },
  {
   "cell_type": "code",
   "execution_count": 70,
   "id": "7908887b",
   "metadata": {},
   "outputs": [
    {
     "name": "stdout",
     "output_type": "stream",
     "text": [
      "1:2:3:4:5:"
     ]
    }
   ],
   "source": [
    "for i in list:\n",
    "    print(i, end=\":\")"
   ]
  },
  {
   "cell_type": "code",
   "execution_count": 72,
   "id": "31812ad6",
   "metadata": {},
   "outputs": [
    {
     "data": {
      "text/plain": [
       "[5, 4, 3, 2, 1]"
      ]
     },
     "execution_count": 72,
     "metadata": {},
     "output_type": "execute_result"
    }
   ],
   "source": [
    "reversed_list = list[::-1]\n",
    "reversed_list"
   ]
  },
  {
   "cell_type": "code",
   "execution_count": 76,
   "id": "bdadfad0",
   "metadata": {},
   "outputs": [
    {
     "data": {
      "text/plain": [
       "['a', 2, [], 0.5]"
      ]
     },
     "execution_count": 76,
     "metadata": {},
     "output_type": "execute_result"
    }
   ],
   "source": [
    "my_list = [\"a\", 2, [], 0.5]\n",
    "my_list"
   ]
  },
  {
   "cell_type": "code",
   "execution_count": 77,
   "id": "5619c38d",
   "metadata": {},
   "outputs": [],
   "source": [
    "my_tuple = (1, \"a\", [], ())"
   ]
  },
  {
   "cell_type": "code",
   "execution_count": 79,
   "id": "fd06c915",
   "metadata": {},
   "outputs": [
    {
     "name": "stdout",
     "output_type": "stream",
     "text": [
      "<class 'list'>\n",
      "<class 'tuple'>\n"
     ]
    }
   ],
   "source": [
    "print(type(my_list))\n",
    "print(type(my_tuple))"
   ]
  },
  {
   "cell_type": "code",
   "execution_count": 80,
   "id": "e9ec2894",
   "metadata": {},
   "outputs": [
    {
     "name": "stdout",
     "output_type": "stream",
     "text": [
      "!dlroW ,olleH\n"
     ]
    }
   ],
   "source": [
    "t = \"Hello, World!\"\n",
    "print(t[::-1])"
   ]
  },
  {
   "cell_type": "code",
   "execution_count": 85,
   "id": "47adb19e",
   "metadata": {},
   "outputs": [],
   "source": [
    "s1 = 'Hello world'\n",
    "s2 = \"Hello world\"\n",
    "s3 = \"\"\"Hello world\"\"\""
   ]
  },
  {
   "cell_type": "code",
   "execution_count": 86,
   "id": "2840a2c1",
   "metadata": {},
   "outputs": [
    {
     "data": {
      "text/plain": [
       "'Hello world'"
      ]
     },
     "execution_count": 86,
     "metadata": {},
     "output_type": "execute_result"
    }
   ],
   "source": [
    "s1"
   ]
  },
  {
   "cell_type": "code",
   "execution_count": 87,
   "id": "03ceaddd",
   "metadata": {},
   "outputs": [
    {
     "data": {
      "text/plain": [
       "'Hello world'"
      ]
     },
     "execution_count": 87,
     "metadata": {},
     "output_type": "execute_result"
    }
   ],
   "source": [
    "s2"
   ]
  },
  {
   "cell_type": "code",
   "execution_count": 88,
   "id": "756ce33f",
   "metadata": {},
   "outputs": [
    {
     "data": {
      "text/plain": [
       "'Hello world'"
      ]
     },
     "execution_count": 88,
     "metadata": {},
     "output_type": "execute_result"
    }
   ],
   "source": [
    "s3"
   ]
  },
  {
   "cell_type": "code",
   "execution_count": 100,
   "id": "d1ef5552",
   "metadata": {},
   "outputs": [
    {
     "data": {
      "text/plain": [
       "8"
      ]
     },
     "execution_count": 100,
     "metadata": {},
     "output_type": "execute_result"
    }
   ],
   "source": [
    "def my_func(a, b):\n",
    "    return a + b\n",
    "my_func(3, 5)"
   ]
  },
  {
   "cell_type": "code",
   "execution_count": 103,
   "id": "ca11137e",
   "metadata": {},
   "outputs": [
    {
     "name": "stdout",
     "output_type": "stream",
     "text": [
      "2\n",
      "2 * 1 = 2\n",
      "2 * 2 = 4\n",
      "2 * 3 = 6\n",
      "2 * 4 = 8\n",
      "2 * 5 = 10\n",
      "2 * 6 = 12\n",
      "2 * 7 = 14\n",
      "2 * 8 = 16\n",
      "2 * 9 = 18\n"
     ]
    }
   ],
   "source": [
    "n = int(input())\n",
    "for i in range(1,10):\n",
    "    print(f\"{n} * {i} = {n*i}\")"
   ]
  },
  {
   "cell_type": "code",
   "execution_count": null,
   "id": "b55a7ab5",
   "metadata": {},
   "outputs": [],
   "source": []
  }
 ],
 "metadata": {
  "kernelspec": {
   "display_name": "Python 3 (ipykernel)",
   "language": "python",
   "name": "python3"
  },
  "language_info": {
   "codemirror_mode": {
    "name": "ipython",
    "version": 3
   },
   "file_extension": ".py",
   "mimetype": "text/x-python",
   "name": "python",
   "nbconvert_exporter": "python",
   "pygments_lexer": "ipython3",
   "version": "3.10.9"
  }
 },
 "nbformat": 4,
 "nbformat_minor": 5
}
