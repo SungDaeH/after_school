{
 "cells": [
  {
   "cell_type": "code",
   "execution_count": 1,
   "id": "ed110a68",
   "metadata": {},
   "outputs": [
    {
     "data": {
      "text/plain": [
       "{1, 2, 3, 4, 5}"
      ]
     },
     "execution_count": 1,
     "metadata": {},
     "output_type": "execute_result"
    }
   ],
   "source": [
    "my_list = [1,2,3,4,5,2]\n",
    "\n",
    "my_set = set(my_list)\n",
    "\n",
    "my_set"
   ]
  },
  {
   "cell_type": "code",
   "execution_count": 2,
   "id": "c965ebd1",
   "metadata": {},
   "outputs": [
    {
     "data": {
      "text/plain": [
       "list"
      ]
     },
     "execution_count": 2,
     "metadata": {},
     "output_type": "execute_result"
    }
   ],
   "source": [
    "type(my_list)"
   ]
  },
  {
   "cell_type": "markdown",
   "id": "5edb41d3",
   "metadata": {},
   "source": [
    "Q1 홍길동 씨의 과목별 점수는 다음과 같다. 홍길동 씨의 평균 점수를 구해 보자."
   ]
  },
  {
   "cell_type": "code",
   "execution_count": 7,
   "id": "a7170024",
   "metadata": {},
   "outputs": [
    {
     "name": "stdout",
     "output_type": "stream",
     "text": [
      "i: 90\n",
      "합계 90\n",
      "i: 75\n",
      "합계 165\n",
      "i: 55\n",
      "합계 220\n"
     ]
    }
   ],
   "source": [
    "grade = [90, 75, 55]\n",
    "hap = 0\n",
    "\n",
    "for i in grade :\n",
    "    print(\"i:\",i)\n",
    "    hap = hap + i\n",
    "    \n",
    "    print(f'합계 %d'% hap)"
   ]
  },
  {
   "cell_type": "markdown",
   "id": "3f4f742f",
   "metadata": {},
   "source": [
    "Q2 자연수 13이 홀수인지 짝수인지 판별할 수 있는 방법에 대해 말해 보자."
   ]
  },
  {
   "cell_type": "code",
   "execution_count": 9,
   "id": "2bb9f245",
   "metadata": {},
   "outputs": [
    {
     "name": "stdout",
     "output_type": "stream",
     "text": [
      "Odd\n"
     ]
    }
   ],
   "source": [
    "if 13 % 2 == 0 :\n",
    "    print(\"Even\")\n",
    "else :\n",
    "    print(\"Odd\")"
   ]
  },
  {
   "cell_type": "markdown",
   "id": "d9bb818f",
   "metadata": {},
   "source": [
    "Q3. 홍길동 씨의 주민등록번호는 881120-1068234이다. 홍길동 씨의 주민등록번호를 연월일(YYYYMMDD) 부분과 그 뒤의 숫자 부분으로 나누어 출력해 보자"
   ]
  },
  {
   "cell_type": "code",
   "execution_count": 27,
   "id": "39213a5f",
   "metadata": {},
   "outputs": [
    {
     "name": "stdout",
     "output_type": "stream",
     "text": [
      "당신은 881120생 입니다.\n"
     ]
    }
   ],
   "source": [
    "a =\"881120-1068234\"\n",
    "\n",
    "a = a.split(\"-\")\n",
    "\n",
    "num1 = a[0][:]\n",
    "num2 = a[1][:]\n",
    "\n",
    "print(f\"당신은 {num1}생 입니다.\")"
   ]
  },
  {
   "cell_type": "code",
   "execution_count": 28,
   "id": "db51b2c4",
   "metadata": {},
   "outputs": [
    {
     "data": {
      "text/plain": [
       "'88'"
      ]
     },
     "execution_count": 28,
     "metadata": {},
     "output_type": "execute_result"
    }
   ],
   "source": [
    "year = num1[0:2]\n",
    "month = num1[2:4]\n",
    "day = num1[4:]\n",
    "year"
   ]
  },
  {
   "cell_type": "markdown",
   "id": "6f73db18",
   "metadata": {},
   "source": [
    "Q4. 주민등록번호 뒷자리의 맨 첫 번째 숫자는 성별을 나타낸다. 주민등록번호에서 성별을 나타내는 숫자를 출력해보자."
   ]
  },
  {
   "cell_type": "code",
   "execution_count": 14,
   "id": "ce6f6104",
   "metadata": {},
   "outputs": [
    {
     "data": {
      "text/plain": [
       "'1'"
      ]
     },
     "execution_count": 14,
     "metadata": {},
     "output_type": "execute_result"
    }
   ],
   "source": [
    "pin = \"881120-1068234\"\n",
    "\n",
    "pin = pin.split(\"-\")\n",
    "\n",
    "pin[1][0]"
   ]
  },
  {
   "cell_type": "markdown",
   "id": "70890900",
   "metadata": {},
   "source": [
    "Q5. 다음과 같은 문자열 a:b:c:d가 있다. 문자열의 replace 함수를 사용하여 a#b#c#d로 바꿔서 출력해보자."
   ]
  },
  {
   "cell_type": "code",
   "execution_count": 15,
   "id": "aa5c92c8",
   "metadata": {},
   "outputs": [
    {
     "data": {
      "text/plain": [
       "'a#b#c#d'"
      ]
     },
     "execution_count": 15,
     "metadata": {},
     "output_type": "execute_result"
    }
   ],
   "source": [
    "a = \"a:b:c:d\"\n",
    "a.replace(\":\",\"#\")"
   ]
  },
  {
   "cell_type": "markdown",
   "id": "2e719460",
   "metadata": {},
   "source": [
    "Q6. [1,3,5,4,2] 리스트를 [5,4,3,2,1]로 만들어 보자."
   ]
  },
  {
   "cell_type": "code",
   "execution_count": 21,
   "id": "d1a685fc",
   "metadata": {},
   "outputs": [
    {
     "data": {
      "text/plain": [
       "[5, 4, 3, 2, 1]"
      ]
     },
     "execution_count": 21,
     "metadata": {},
     "output_type": "execute_result"
    }
   ],
   "source": [
    "li = [1,3,5,4,2]\n",
    "li.sort()\n",
    "li[::-1]"
   ]
  },
  {
   "cell_type": "markdown",
   "id": "f1d10976",
   "metadata": {},
   "source": [
    "Q7. [\"Like\", \"is\", \"too\", \"short\"] 리스트를 Life is too short 문자열로 만들어 출력해 보자."
   ]
  },
  {
   "cell_type": "code",
   "execution_count": 23,
   "id": "7123227e",
   "metadata": {},
   "outputs": [
    {
     "data": {
      "text/plain": [
       "'Like is too short'"
      ]
     },
     "execution_count": 23,
     "metadata": {},
     "output_type": "execute_result"
    }
   ],
   "source": [
    "s = [\"Like\", \"is\", \"too\", \"short\"]\n",
    "\" \".join(s)"
   ]
  },
  {
   "cell_type": "code",
   "execution_count": 29,
   "id": "b5b24d6b",
   "metadata": {},
   "outputs": [
    {
     "name": "stdout",
     "output_type": "stream",
     "text": [
      "친구들과 놀러간다\n"
     ]
    }
   ],
   "source": [
    "money = True\n",
    "\n",
    "if money :\n",
    "    print(\"친구들과 놀러간다\")\n",
    "else : \n",
    "    print(\"집에 박혀 있는다.\")"
   ]
  },
  {
   "cell_type": "code",
   "execution_count": 30,
   "id": "e62a8485",
   "metadata": {},
   "outputs": [
    {
     "name": "stdout",
     "output_type": "stream",
     "text": [
      "여행을 간다.\n",
      "여행 상품을 산다.\n"
     ]
    }
   ],
   "source": [
    "money = True\n",
    "\n",
    "if money:\n",
    "    print(\"여행을 간다.\")\n",
    "    print(\"여행 상품을 산다.\")\n",
    "else :\n",
    "    print('회사를 간다.')\n",
    "    print('개같이 일한다.')"
   ]
  },
  {
   "cell_type": "code",
   "execution_count": 36,
   "id": "56a861c5",
   "metadata": {},
   "outputs": [
    {
     "name": "stdout",
     "output_type": "stream",
     "text": [
      "돈 대신 카드를 쓴다.\n"
     ]
    }
   ],
   "source": [
    "money = None\n",
    "card = True\n",
    "\n",
    "if money >= 300 :\n",
    "    if card:\n",
    "        print(\"카드를 사용한다.\")\n",
    "    else : \n",
    "        print(\"돈을 사용한다.\")\n",
    "else:\n",
    "    if card:\n",
    "        print(\"돈 대신 카드를 쓴다.\")\n",
    "    else : \n",
    "        print(\"식사를 거른다.\")\n"
   ]
  },
  {
   "cell_type": "code",
   "execution_count": 37,
   "id": "a3702037",
   "metadata": {},
   "outputs": [
    {
     "data": {
      "text/plain": [
       "True"
      ]
     },
     "execution_count": 37,
     "metadata": {},
     "output_type": "execute_result"
    }
   ],
   "source": [
    "l = [1,2,3,4]\n",
    "\n",
    "1 in l"
   ]
  },
  {
   "cell_type": "code",
   "execution_count": 52,
   "id": "d4f492aa",
   "metadata": {},
   "outputs": [
    {
     "name": "stdout",
     "output_type": "stream",
     "text": [
      "sort() 사용 결과 : [1, 2, 3, 4, 5]\n"
     ]
    }
   ],
   "source": [
    "my_list = [1,5,3,4,2]\n",
    "r = my_list.sort()\n",
    "print(f\"sort() 사용 결과 : {my_list}\")"
   ]
  },
  {
   "cell_type": "code",
   "execution_count": 54,
   "id": "ecc4feee",
   "metadata": {},
   "outputs": [
    {
     "name": "stdout",
     "output_type": "stream",
     "text": [
      "길이는 : 5\n"
     ]
    }
   ],
   "source": [
    "print(f\"길이는 : {len(my_list)}\")"
   ]
  },
  {
   "cell_type": "code",
   "execution_count": 64,
   "id": "f9dbfd98",
   "metadata": {},
   "outputs": [],
   "source": [
    "middle = len(my_list) // 2"
   ]
  },
  {
   "cell_type": "code",
   "execution_count": 65,
   "id": "697b4fb9",
   "metadata": {},
   "outputs": [
    {
     "data": {
      "text/plain": [
       "3"
      ]
     },
     "execution_count": 65,
     "metadata": {},
     "output_type": "execute_result"
    }
   ],
   "source": [
    "my_list[middle]"
   ]
  },
  {
   "cell_type": "code",
   "execution_count": 76,
   "id": "7beb6b35",
   "metadata": {},
   "outputs": [
    {
     "name": "stdout",
     "output_type": "stream",
     "text": [
      "홀수 : 1 짝수 : 2\n",
      "홀수 : 3 짝수 : 4\n",
      "홀수 : 5 "
     ]
    }
   ],
   "source": [
    "for i in li:\n",
    "    if my_list[i-1] % 2 == 0 :\n",
    "        print(f'짝수 : {i}')\n",
    "    else :\n",
    "        print(f'홀수 : {i}', end=\" \")"
   ]
  },
  {
   "cell_type": "code",
   "execution_count": 77,
   "id": "f5bd4139",
   "metadata": {},
   "outputs": [
    {
     "name": "stdout",
     "output_type": "stream",
     "text": [
      "Collecting opencv-python\n",
      "  Downloading opencv_python-4.9.0.80-cp37-abi3-win_amd64.whl (38.6 MB)\n",
      "     --------------------------------------- 38.6/38.6 MB 38.5 MB/s eta 0:00:00\n",
      "Requirement already satisfied: numpy>=1.19.3 in c:\\users\\user\\anaconda3\\lib\\site-packages (from opencv-python) (1.23.5)\n",
      "Installing collected packages: opencv-python\n",
      "Successfully installed opencv-python-4.9.0.80\n"
     ]
    }
   ],
   "source": [
    "!pip install opencv-python"
   ]
  },
  {
   "cell_type": "code",
   "execution_count": 89,
   "id": "67f4f95f",
   "metadata": {},
   "outputs": [
    {
     "ename": "AttributeError",
     "evalue": "module 'cv2' has no attribute 'destroyAIIWindows'",
     "output_type": "error",
     "traceback": [
      "\u001b[1;31m---------------------------------------------------------------------------\u001b[0m",
      "\u001b[1;31mAttributeError\u001b[0m                            Traceback (most recent call last)",
      "Cell \u001b[1;32mIn[89], line 14\u001b[0m\n\u001b[0;32m     12\u001b[0m cv2\u001b[38;5;241m.\u001b[39mwaitKey(\u001b[38;5;241m0\u001b[39m)\n\u001b[0;32m     13\u001b[0m \u001b[38;5;66;03m# 모든 윈도우 닫기\u001b[39;00m\n\u001b[1;32m---> 14\u001b[0m \u001b[43mcv2\u001b[49m\u001b[38;5;241;43m.\u001b[39;49m\u001b[43mdestroyAIIWindows\u001b[49m()\n",
      "\u001b[1;31mAttributeError\u001b[0m: module 'cv2' has no attribute 'destroyAIIWindows'"
     ]
    }
   ],
   "source": [
    "import cv2\n",
    "# 이미지 파일 경로\n",
    "image_path = 'sample.jpg'\n",
    "# 이미지 로드\n",
    "image = cv2.imread(image_path)\n",
    "# 이미지 흑백 변환\n",
    "gray_image = cv2.cvtColor(image, cv2.COLOR_BGR2GRAY)\n",
    "# 윈도우에 이미지 표시\n",
    "# cv2.imshow(\"Original Image\", image)\n",
    "cv2.imshow(\"Gray Image\", gray_image)\n",
    "# 키 입력 대기 (아무 키나 누르면 윈도우 닫힘)\n",
    "cv2.waitKey(0)\n",
    "# 모든 윈도우 닫기\n",
    "cv2.destroyAIIWindows()"
   ]
  },
  {
   "cell_type": "code",
   "execution_count": 98,
   "id": "80118089",
   "metadata": {},
   "outputs": [
    {
     "data": {
      "text/plain": [
       "array([[[244, 225, 220],\n",
       "        [244, 225, 220],\n",
       "        [244, 225, 220],\n",
       "        ...,\n",
       "        [158, 156, 176],\n",
       "        [158, 156, 176],\n",
       "        [158, 156, 176]],\n",
       "\n",
       "       [[244, 225, 220],\n",
       "        [244, 225, 220],\n",
       "        [245, 226, 221],\n",
       "        ...,\n",
       "        [158, 156, 176],\n",
       "        [158, 156, 176],\n",
       "        [158, 156, 176]],\n",
       "\n",
       "       [[244, 225, 220],\n",
       "        [245, 226, 221],\n",
       "        [245, 226, 221],\n",
       "        ...,\n",
       "        [157, 155, 175],\n",
       "        [158, 156, 176],\n",
       "        [158, 156, 176]],\n",
       "\n",
       "       ...,\n",
       "\n",
       "       [[201, 178, 186],\n",
       "        [198, 175, 183],\n",
       "        [194, 171, 179],\n",
       "        ...,\n",
       "        [169, 147, 149],\n",
       "        [177, 155, 157],\n",
       "        [180, 156, 158]],\n",
       "\n",
       "       [[194, 170, 180],\n",
       "        [195, 172, 180],\n",
       "        [194, 171, 179],\n",
       "        ...,\n",
       "        [168, 146, 148],\n",
       "        [171, 149, 151],\n",
       "        [176, 152, 154]],\n",
       "\n",
       "       [[195, 171, 181],\n",
       "        [197, 173, 183],\n",
       "        [198, 175, 183],\n",
       "        ...,\n",
       "        [207, 185, 187],\n",
       "        [206, 184, 186],\n",
       "        [196, 172, 174]]], dtype=uint8)"
      ]
     },
     "execution_count": 98,
     "metadata": {},
     "output_type": "execute_result"
    }
   ],
   "source": [
    "image"
   ]
  },
  {
   "cell_type": "code",
   "execution_count": 94,
   "id": "7b787d32",
   "metadata": {},
   "outputs": [
    {
     "name": "stdout",
     "output_type": "stream",
     "text": [
      "Both x and y are positive\n"
     ]
    }
   ],
   "source": [
    "x = 5\n",
    "y = -1\n",
    "\n",
    "if x > 0 or y > 0:\n",
    "    print(\"Both x and y are positive\")\n",
    "else :\n",
    "    print(\"Both x and y are negative\")"
   ]
  },
  {
   "cell_type": "code",
   "execution_count": 97,
   "id": "aac868bc",
   "metadata": {},
   "outputs": [
    {
     "name": "stdout",
     "output_type": "stream",
     "text": [
      "It's raining\n"
     ]
    }
   ],
   "source": [
    "is_raining = False\n",
    "\n",
    "if not is_raining :\n",
    "    print(\"It's not raining.\")\n",
    "else :\n",
    "    print(\"It's raining\")"
   ]
  },
  {
   "cell_type": "code",
   "execution_count": 101,
   "id": "4c2c0aa4",
   "metadata": {},
   "outputs": [
    {
     "ename": "AttributeError",
     "evalue": "module 'cv2' has no attribute 'destroyAIIWindows'",
     "output_type": "error",
     "traceback": [
      "\u001b[1;31m---------------------------------------------------------------------------\u001b[0m",
      "\u001b[1;31mAttributeError\u001b[0m                            Traceback (most recent call last)",
      "Cell \u001b[1;32mIn[101], line 14\u001b[0m\n\u001b[0;32m     12\u001b[0m cv2\u001b[38;5;241m.\u001b[39mimshow(\u001b[38;5;124m'\u001b[39m\u001b[38;5;124mGreen Image\u001b[39m\u001b[38;5;124m'\u001b[39m, green_color)\n\u001b[0;32m     13\u001b[0m cv2\u001b[38;5;241m.\u001b[39mwaitKey(\u001b[38;5;241m0\u001b[39m)\n\u001b[1;32m---> 14\u001b[0m \u001b[43mcv2\u001b[49m\u001b[38;5;241;43m.\u001b[39;49m\u001b[43mdestroyAIIWindows\u001b[49m()\n",
      "\u001b[1;31mAttributeError\u001b[0m: module 'cv2' has no attribute 'destroyAIIWindows'"
     ]
    }
   ],
   "source": [
    "import numpy as np\n",
    "import cv2\n",
    "\n",
    "# 이미지 크기 설정\n",
    "width = 400\n",
    "height = 300\n",
    "\n",
    "# 붉은색을 나타내는 numpy 배경 생성\n",
    "green_color = np.full((height, width, 3), (0,255,0), dtype = np.uint8)\n",
    "\n",
    "# 이미지 윈도우에 표시\n",
    "cv2.imshow('Green Image', green_color)\n",
    "cv2.waitKey(0)\n",
    "cv2.destroyAIIWindows()"
   ]
  },
  {
   "cell_type": "code",
   "execution_count": null,
   "id": "b7cc9694",
   "metadata": {},
   "outputs": [],
   "source": []
  }
 ],
 "metadata": {
  "kernelspec": {
   "display_name": "Python 3 (ipykernel)",
   "language": "python",
   "name": "python3"
  },
  "language_info": {
   "codemirror_mode": {
    "name": "ipython",
    "version": 3
   },
   "file_extension": ".py",
   "mimetype": "text/x-python",
   "name": "python",
   "nbconvert_exporter": "python",
   "pygments_lexer": "ipython3",
   "version": "3.10.9"
  }
 },
 "nbformat": 4,
 "nbformat_minor": 5
}
