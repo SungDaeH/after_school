{
 "cells": [
  {
   "cell_type": "markdown",
   "id": "97fd5c40",
   "metadata": {},
   "source": [
    "# DFS\n",
    "### Depth First Search\n",
    "\n",
    "1. 탐색 시작 노드를 스택에 삽입하고 방문 처리. (이미 방문(탐색)했던 노드를 재방문하지 않기 위해)\n",
    "\n",
    "2. 스택의 최상단 노드에 방문하지 않은 인접 노드가 있다면 그 노드를 스택에 넣고 방문 처리. 만약 방문하지 않은 인접 노드가 없으면 스택에서 최상단 노드를 꺼냄. \n",
    "\n",
    "3. 2번의 과정을 더 이상 수행할 수 없을 때까지 반복. "
   ]
  },
  {
   "cell_type": "code",
   "execution_count": 1,
   "id": "1054fa9d",
   "metadata": {},
   "outputs": [
    {
     "name": "stdout",
     "output_type": "stream",
     "text": [
      "1 2 4 5 3 6 7 "
     ]
    }
   ],
   "source": [
    "graph = [\n",
    "    [],      # 0\n",
    "    [2, 3],  # 1 \n",
    "    [4, 5],  # 2\n",
    "    [6],     # 3\n",
    "    [2, 5],  # 4\n",
    "    [2, 4],  # 5\n",
    "    [3, 7],  # 6\n",
    "    [6]      # 7\n",
    "]\n",
    "\n",
    "# 방문 정보를 기록하기 위한 리스트\n",
    "visited = [False] * 8\n",
    "\n",
    "def dfs(v):\n",
    "    # 방문 표시\n",
    "    visited[v] = True\n",
    "    print(v, end=' ')\n",
    "    # 그래프를 순환하면서 인접 노드들을 방문\n",
    "    for i in graph[v]:\n",
    "        # 만약 방문하지 않은 노드가 있다면\n",
    "        if not visited[i]:\n",
    "            # 탐색 시작\n",
    "            dfs(i)\n",
    "\n",
    "# 탐색 시작 노드 1을 넣어주며 dfs() 실행\n",
    "dfs(1)"
   ]
  },
  {
   "cell_type": "markdown",
   "id": "154502e1",
   "metadata": {},
   "source": [
    "# BFS\n",
    "\n",
    "### Breath First Search\n",
    "\n",
    "1. 탐색 시작 노드를 큐에 삽입하고 방문 처리.\n",
    "\n",
    "2. 큐에서 노드를 꺼내 해당 노드의 방문하지 않은 모든 인접 노드를 모두 쿠에 삽입하고 방문 처리.\n",
    "\n",
    "3. 2번 과정을 더 이상 수행할 수 없을 때까지 반복."
   ]
  },
  {
   "cell_type": "code",
   "execution_count": 2,
   "id": "ff025fef",
   "metadata": {},
   "outputs": [
    {
     "name": "stdout",
     "output_type": "stream",
     "text": [
      "1 2 3 4 5 6 7 "
     ]
    }
   ],
   "source": [
    "from collections import deque\n",
    "\n",
    "graph = [\n",
    "    [],      # 0\n",
    "    [2, 3],  # 1 \n",
    "    [4, 5],  # 2\n",
    "    [6],     # 3\n",
    "    [2, 5],  # 4\n",
    "    [2, 4],  # 5\n",
    "    [3, 7],  # 6\n",
    "    [6]      # 7\n",
    "]\n",
    "\n",
    "visited = [False] * 8\n",
    "\n",
    "def bfs(v):\n",
    "    # 큐 생성 및 큐에 시작 노드 삽입\n",
    "    q = deque()\n",
    "    q.append(v)\n",
    "    # 아직 방문해야 하는 노드가 있다면\n",
    "    while q:\n",
    "        # 큐에서 노드를 꺼내서 x에 저장\n",
    "        x = q.popleft()\n",
    "        print(x, end=' ')\n",
    "        # 그래프를 탐색하다가 방문하지 않은 노드가 있다면\n",
    "        for i in graph[x]:\n",
    "            if not visited[i]:\n",
    "                # 큐에 방문하라고 삽입하고 방문 처리\n",
    "                q.append(i)\n",
    "                visited[i] = True\n",
    "\n",
    "bfs(1)"
   ]
  },
  {
   "cell_type": "code",
   "execution_count": 3,
   "id": "3188f93a",
   "metadata": {},
   "outputs": [
    {
     "name": "stdout",
     "output_type": "stream",
     "text": [
      "[1, 2, 3, 4, 5, 6, 7, 8, 9, 10]\n"
     ]
    }
   ],
   "source": [
    "# 위의 그래프를 예시로 삼아서 인접 리스트 방식으로 표현\n",
    "graph = {\n",
    "    1 : [2,5,9],\n",
    "    2 : [1, 3],\n",
    "    3 : [2, 4],\n",
    "    4 : [3],\n",
    "    5 : [1, 6, 8],\n",
    "    6 : [5, 7],\n",
    "    7 : [6],\n",
    "    8 : [5],\n",
    "    9 : [1, 10],\n",
    "    10 : [9]\n",
    "}\n",
    "\n",
    "visited = []\n",
    "\n",
    "def dfs_recursion(adjacent_graph, cur_node, visited_array):\n",
    "    visited_array.append(cur_node)\n",
    "    \n",
    "    for i in adjacent_graph[cur_node]:\n",
    "        if i not in visited_array:\n",
    "            dfs_recursion(adjacent_graph, i, visited_array)\n",
    "            \n",
    "    return\n",
    "\n",
    "dfs_recursion(graph, 1, visited)\n",
    "print(visited)"
   ]
  },
  {
   "cell_type": "code",
   "execution_count": 4,
   "id": "095e260a",
   "metadata": {},
   "outputs": [],
   "source": [
    "visited = [False] * 8"
   ]
  },
  {
   "cell_type": "code",
   "execution_count": 6,
   "id": "6d299151",
   "metadata": {},
   "outputs": [
    {
     "name": "stdout",
     "output_type": "stream",
     "text": [
      "[False, False, False, False, False, False, False, False]\n",
      "<class 'list'>\n"
     ]
    }
   ],
   "source": [
    "print(visited)\n",
    "print(type(visited))"
   ]
  },
  {
   "cell_type": "markdown",
   "id": "b2e8f3b8",
   "metadata": {},
   "source": [
    "# 파이썬에서 큐(queue) 자료 구조 사용하기\n",
    "\n",
    "## list"
   ]
  },
  {
   "cell_type": "code",
   "execution_count": 7,
   "id": "af90e8cd",
   "metadata": {},
   "outputs": [],
   "source": [
    "queue = [4,5,6]"
   ]
  },
  {
   "cell_type": "code",
   "execution_count": 8,
   "id": "fae18912",
   "metadata": {},
   "outputs": [],
   "source": [
    "queue.append(7)"
   ]
  },
  {
   "cell_type": "code",
   "execution_count": 9,
   "id": "ce0abb1f",
   "metadata": {},
   "outputs": [],
   "source": [
    "queue.append(8)"
   ]
  },
  {
   "cell_type": "code",
   "execution_count": 10,
   "id": "5843e57f",
   "metadata": {},
   "outputs": [
    {
     "data": {
      "text/plain": [
       "[4, 5, 6, 7, 8]"
      ]
     },
     "execution_count": 10,
     "metadata": {},
     "output_type": "execute_result"
    }
   ],
   "source": [
    "queue"
   ]
  },
  {
   "cell_type": "code",
   "execution_count": 11,
   "id": "012c7810",
   "metadata": {},
   "outputs": [
    {
     "data": {
      "text/plain": [
       "4"
      ]
     },
     "execution_count": 11,
     "metadata": {},
     "output_type": "execute_result"
    }
   ],
   "source": [
    "queue.pop(0)"
   ]
  },
  {
   "cell_type": "code",
   "execution_count": 13,
   "id": "47048552",
   "metadata": {},
   "outputs": [
    {
     "data": {
      "text/plain": [
       "5"
      ]
     },
     "execution_count": 13,
     "metadata": {},
     "output_type": "execute_result"
    }
   ],
   "source": [
    "queue.pop(0)"
   ]
  },
  {
   "cell_type": "code",
   "execution_count": 14,
   "id": "2adbce71",
   "metadata": {},
   "outputs": [],
   "source": [
    "queue.insert(0, 3)"
   ]
  },
  {
   "cell_type": "code",
   "execution_count": 15,
   "id": "79fd0b5f",
   "metadata": {},
   "outputs": [],
   "source": [
    "queue.insert(0, 2)"
   ]
  },
  {
   "cell_type": "code",
   "execution_count": 16,
   "id": "99ee1032",
   "metadata": {},
   "outputs": [
    {
     "data": {
      "text/plain": [
       "[2, 3, 6, 7, 8]"
      ]
     },
     "execution_count": 16,
     "metadata": {},
     "output_type": "execute_result"
    }
   ],
   "source": [
    "queue"
   ]
  },
  {
   "cell_type": "code",
   "execution_count": 17,
   "id": "0f75a414",
   "metadata": {},
   "outputs": [
    {
     "data": {
      "text/plain": [
       "8"
      ]
     },
     "execution_count": 17,
     "metadata": {},
     "output_type": "execute_result"
    }
   ],
   "source": [
    "queue.pop()"
   ]
  },
  {
   "cell_type": "code",
   "execution_count": 18,
   "id": "4b5a2d7b",
   "metadata": {},
   "outputs": [
    {
     "data": {
      "text/plain": [
       "7"
      ]
     },
     "execution_count": 18,
     "metadata": {},
     "output_type": "execute_result"
    }
   ],
   "source": [
    "queue.pop()"
   ]
  },
  {
   "cell_type": "code",
   "execution_count": 19,
   "id": "3775c4eb",
   "metadata": {},
   "outputs": [
    {
     "data": {
      "text/plain": [
       "[2, 3, 6]"
      ]
     },
     "execution_count": 19,
     "metadata": {},
     "output_type": "execute_result"
    }
   ],
   "source": [
    "queue"
   ]
  },
  {
   "cell_type": "markdown",
   "id": "65cc7412",
   "metadata": {},
   "source": [
    "# deque\n",
    "\n",
    "### popleft() 사용가능"
   ]
  },
  {
   "cell_type": "code",
   "execution_count": 27,
   "id": "7d7dc62d",
   "metadata": {},
   "outputs": [
    {
     "name": "stdout",
     "output_type": "stream",
     "text": [
      "4.242640687119285\n"
     ]
    }
   ],
   "source": [
    "import math\n",
    "\n",
    "def my_func(x1,y1,x2,y2):\n",
    "    return math.sqrt((x2-x1)**2 + (y2-y1)**2)\n",
    "\n",
    "print(my_func(2,2,5,5))"
   ]
  },
  {
   "cell_type": "code",
   "execution_count": null,
   "id": "29e9935c",
   "metadata": {},
   "outputs": [],
   "source": []
  }
 ],
 "metadata": {
  "kernelspec": {
   "display_name": "Python 3 (ipykernel)",
   "language": "python",
   "name": "python3"
  },
  "language_info": {
   "codemirror_mode": {
    "name": "ipython",
    "version": 3
   },
   "file_extension": ".py",
   "mimetype": "text/x-python",
   "name": "python",
   "nbconvert_exporter": "python",
   "pygments_lexer": "ipython3",
   "version": "3.10.9"
  }
 },
 "nbformat": 4,
 "nbformat_minor": 5
}
