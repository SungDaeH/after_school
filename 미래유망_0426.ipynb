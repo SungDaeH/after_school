{
 "cells": [
  {
   "cell_type": "code",
   "execution_count": 27,
   "id": "96ef350f",
   "metadata": {},
   "outputs": [
    {
     "name": "stdout",
     "output_type": "stream",
     "text": [
      "str : Iphone - {'color': 'White', 'price': 10000}\n",
      "str : Galaxy - {'color': 'Black', 'price': 8000}\n"
     ]
    },
    {
     "ename": "AttributeError",
     "evalue": "'Smartphone' object has no attribute 'information'",
     "output_type": "error",
     "traceback": [
      "\u001b[1;31m---------------------------------------------------------------------------\u001b[0m",
      "\u001b[1;31mAttributeError\u001b[0m                            Traceback (most recent call last)",
      "Cell \u001b[1;32mIn[27], line 49\u001b[0m\n\u001b[0;32m     46\u001b[0m \u001b[38;5;28mprint\u001b[39m(Smartphone1)\n\u001b[0;32m     47\u001b[0m \u001b[38;5;28mprint\u001b[39m(Smartphone2)\n\u001b[1;32m---> 49\u001b[0m \u001b[43mSmartphone1\u001b[49m\u001b[38;5;241;43m.\u001b[39;49m\u001b[43minformation\u001b[49m()\n\u001b[0;32m     50\u001b[0m Smartphone2\u001b[38;5;241m.\u001b[39minformation()\n\u001b[0;32m     52\u001b[0m \u001b[38;5;28mprint\u001b[39m(Smartphone1\u001b[38;5;241m.\u001b[39mget_price())\n",
      "\u001b[1;31mAttributeError\u001b[0m: 'Smartphone' object has no attribute 'information'"
     ]
    }
   ],
   "source": [
    "class Smartphone : \n",
    "    \"\"\"\n",
    "    Smartphone Class\n",
    "    \"\"\"\n",
    "    Smartphone_count = 0\n",
    "    \n",
    "    def __init__(self, brand, informations):\n",
    "        self._brand = brand\n",
    "        self._informations = informations\n",
    "        Smartphone.Smartphone_count += 1\n",
    "        \n",
    "    def __str__(self):\n",
    "        return f'str : {self._brand} - {self._informations}'\n",
    "    \n",
    "    def __repr__(self):\n",
    "        return f'repr : {self._brand} - {self._inforamtions}'\n",
    "    \n",
    "    def detail_info(self):\n",
    "        print(f'Current Id : {id(self)}')\n",
    "        print(f'Smartphone Detail Info : {self._brand} {self._informations.get(price)}')\n",
    "        \n",
    "    def get_price(self):\n",
    "        return f'Before Smartphone Price -> brand : {self._brand}, price : {self._informations.get(price)}'\n",
    "    \n",
    "    def get_price_culc(self):\n",
    "        return f'After Smartphone Price -> brand : {self._brand}, price : {self._informations.get(price) * Smartphone.price_per_raise}' \n",
    "    \n",
    "    @classmethod # 언어테이션, 데코레이션\n",
    "    def raise_price(cls, per):\n",
    "        if per <= 1:\n",
    "            print('Please Enter 1 or More')\n",
    "            return\n",
    "        cls.price_per_raise = per\n",
    "        return 'Succeed! price increased.'\n",
    "    \n",
    "    @staticmethod\n",
    "    def is_iphone(inst):\n",
    "        if inst._brand == 'Iphone' :\n",
    "            return f'OK! This Smartphone is {inst._brand}.'\n",
    "        return \"Sorry. This Smartphone is not Iphone.\"\n",
    "    \n",
    "Smartphone1 = Smartphone(\"Iphone\", {'color' : 'White', 'price' : 10000})\n",
    "Smartphone2 = Smartphone(\"Galaxy\", {'color' : 'Black', 'price' : 8000})\n",
    "    \n",
    "# 기본 정보\n",
    "print(Smartphone1)\n",
    "print(Smartphone2)\n",
    "\n",
    "Smartphone1.information()\n",
    "Smartphone2.information()\n",
    "\n",
    "print(Smartphone1.get_price())\n",
    "print(Smartphone2.get_price())\n",
    "\n",
    "# 가격 인상(클래스 메소드 미사용)\n",
    "\n",
    "Smartphone.raise_price(1.6)\n",
    "\n",
    "# 이렇게 직접 접근은 좋지 않아요\n",
    "Smartphone.price_per_raise = 1.2\n",
    "\n",
    "# 가격 정보\n",
    "print(Smartphone1.get_price_culc())\n",
    "print(Smartphone2.get_price_culc())\n",
    "\n",
    "def is_iphone(inst):\n",
    "    if inst._brand == 'Iphone':\n",
    "        return f'OK! This Smartphone is {inst._brand}.'\n",
    "    return 'Sorry. This Smartphone is not Iphone.'\n",
    "\n",
    "print(is_iphone(Smartphone2))\n",
    "    \n",
    "print('Static : ', Smartphone.is_iphone(Smartphone1))\n",
    "print('Static : ', Smartphone.is_iphone(Smartphone2))"
   ]
  },
  {
   "cell_type": "code",
   "execution_count": 61,
   "id": "8df220c0",
   "metadata": {},
   "outputs": [],
   "source": [
    "tems = pd.read_csv(\"./평균기온 (2000~2023).csv\", encoding = 'cp949')"
   ]
  },
  {
   "cell_type": "code",
   "execution_count": 62,
   "id": "06e0dc1b",
   "metadata": {},
   "outputs": [
    {
     "data": {
      "text/plain": [
       "-7.4"
      ]
     },
     "execution_count": 62,
     "metadata": {},
     "output_type": "execute_result"
    }
   ],
   "source": [
    "tems[\"평균최저기온(℃)\"].min()"
   ]
  },
  {
   "cell_type": "code",
   "execution_count": 63,
   "id": "bb6b7f44",
   "metadata": {},
   "outputs": [
    {
     "data": {
      "text/plain": [
       "30.6"
      ]
     },
     "execution_count": 63,
     "metadata": {},
     "output_type": "execute_result"
    }
   ],
   "source": [
    "tems[\"평균최고기온(℃)\"].max()"
   ]
  },
  {
   "cell_type": "code",
   "execution_count": 64,
   "id": "a0b7d08e",
   "metadata": {},
   "outputs": [
    {
     "data": {
      "text/html": [
       "<div>\n",
       "<style scoped>\n",
       "    .dataframe tbody tr th:only-of-type {\n",
       "        vertical-align: middle;\n",
       "    }\n",
       "\n",
       "    .dataframe tbody tr th {\n",
       "        vertical-align: top;\n",
       "    }\n",
       "\n",
       "    .dataframe thead th {\n",
       "        text-align: right;\n",
       "    }\n",
       "</style>\n",
       "<table border=\"1\" class=\"dataframe\">\n",
       "  <thead>\n",
       "    <tr style=\"text-align: right;\">\n",
       "      <th></th>\n",
       "      <th>년계절</th>\n",
       "      <th>지점</th>\n",
       "      <th>평균기온(℃)</th>\n",
       "      <th>평균최저기온(℃)</th>\n",
       "      <th>평균최고기온(℃)</th>\n",
       "    </tr>\n",
       "  </thead>\n",
       "  <tbody>\n",
       "    <tr>\n",
       "      <th>0</th>\n",
       "      <td>2000 봄</td>\n",
       "      <td>서울경기</td>\n",
       "      <td>11.1</td>\n",
       "      <td>6.5</td>\n",
       "      <td>16.4</td>\n",
       "    </tr>\n",
       "    <tr>\n",
       "      <th>1</th>\n",
       "      <td>\\t\\t\\t2000 여름</td>\n",
       "      <td>서울경기</td>\n",
       "      <td>24.8</td>\n",
       "      <td>21.3</td>\n",
       "      <td>29.3</td>\n",
       "    </tr>\n",
       "    <tr>\n",
       "      <th>2</th>\n",
       "      <td>\\t\\t\\t2000 가을</td>\n",
       "      <td>서울경기</td>\n",
       "      <td>13.7</td>\n",
       "      <td>9.5</td>\n",
       "      <td>18.5</td>\n",
       "    </tr>\n",
       "    <tr>\n",
       "      <th>3</th>\n",
       "      <td>\\t\\t\\t2000 겨울</td>\n",
       "      <td>서울경기</td>\n",
       "      <td>-1.6</td>\n",
       "      <td>-5.8</td>\n",
       "      <td>2.7</td>\n",
       "    </tr>\n",
       "    <tr>\n",
       "      <th>4</th>\n",
       "      <td>\\t\\t\\t2001 봄</td>\n",
       "      <td>서울경기</td>\n",
       "      <td>11.5</td>\n",
       "      <td>6.9</td>\n",
       "      <td>17.0</td>\n",
       "    </tr>\n",
       "    <tr>\n",
       "      <th>...</th>\n",
       "      <td>...</td>\n",
       "      <td>...</td>\n",
       "      <td>...</td>\n",
       "      <td>...</td>\n",
       "      <td>...</td>\n",
       "    </tr>\n",
       "    <tr>\n",
       "      <th>93</th>\n",
       "      <td>\\t\\t\\t2023 여름</td>\n",
       "      <td>서울경기</td>\n",
       "      <td>24.9</td>\n",
       "      <td>21.5</td>\n",
       "      <td>29.0</td>\n",
       "    </tr>\n",
       "    <tr>\n",
       "      <th>94</th>\n",
       "      <td>\\t\\t\\t2023 가을</td>\n",
       "      <td>서울경기</td>\n",
       "      <td>14.6</td>\n",
       "      <td>10.4</td>\n",
       "      <td>19.6</td>\n",
       "    </tr>\n",
       "    <tr>\n",
       "      <th>95</th>\n",
       "      <td>\\t\\t\\t2023 겨울</td>\n",
       "      <td>서울경기</td>\n",
       "      <td>1.0</td>\n",
       "      <td>-3.0</td>\n",
       "      <td>5.3</td>\n",
       "    </tr>\n",
       "    <tr>\n",
       "      <th>96</th>\n",
       "      <td>\\t\\t\\t2024 봄</td>\n",
       "      <td>서울경기</td>\n",
       "      <td>NaN</td>\n",
       "      <td>NaN</td>\n",
       "      <td>NaN</td>\n",
       "    </tr>\n",
       "    <tr>\n",
       "      <th>97</th>\n",
       "      <td>\\t\\t\\t</td>\n",
       "      <td>NaN</td>\n",
       "      <td>NaN</td>\n",
       "      <td>NaN</td>\n",
       "      <td>NaN</td>\n",
       "    </tr>\n",
       "  </tbody>\n",
       "</table>\n",
       "<p>98 rows × 5 columns</p>\n",
       "</div>"
      ],
      "text/plain": [
       "              년계절    지점  평균기온(℃)  평균최저기온(℃)  평균최고기온(℃)\n",
       "0          2000 봄  서울경기     11.1        6.5       16.4\n",
       "1   \\t\\t\\t2000 여름  서울경기     24.8       21.3       29.3\n",
       "2   \\t\\t\\t2000 가을  서울경기     13.7        9.5       18.5\n",
       "3   \\t\\t\\t2000 겨울  서울경기     -1.6       -5.8        2.7\n",
       "4    \\t\\t\\t2001 봄  서울경기     11.5        6.9       17.0\n",
       "..            ...   ...      ...        ...        ...\n",
       "93  \\t\\t\\t2023 여름  서울경기     24.9       21.5       29.0\n",
       "94  \\t\\t\\t2023 가을  서울경기     14.6       10.4       19.6\n",
       "95  \\t\\t\\t2023 겨울  서울경기      1.0       -3.0        5.3\n",
       "96   \\t\\t\\t2024 봄  서울경기      NaN        NaN        NaN\n",
       "97         \\t\\t\\t   NaN      NaN        NaN        NaN\n",
       "\n",
       "[98 rows x 5 columns]"
      ]
     },
     "execution_count": 64,
     "metadata": {},
     "output_type": "execute_result"
    }
   ],
   "source": [
    "tems"
   ]
  },
  {
   "cell_type": "code",
   "execution_count": null,
   "id": "bdf0cb84",
   "metadata": {},
   "outputs": [],
   "source": []
  }
 ],
 "metadata": {
  "kernelspec": {
   "display_name": "Python 3 (ipykernel)",
   "language": "python",
   "name": "python3"
  },
  "language_info": {
   "codemirror_mode": {
    "name": "ipython",
    "version": 3
   },
   "file_extension": ".py",
   "mimetype": "text/x-python",
   "name": "python",
   "nbconvert_exporter": "python",
   "pygments_lexer": "ipython3",
   "version": "3.10.9"
  }
 },
 "nbformat": 4,
 "nbformat_minor": 5
}
