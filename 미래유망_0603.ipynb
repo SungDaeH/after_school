{
 "cells": [
  {
   "cell_type": "code",
   "execution_count": 3,
   "id": "d0df814f",
   "metadata": {},
   "outputs": [
    {
     "name": "stdout",
     "output_type": "stream",
     "text": [
      "(1)push (2)pop (3)print (4)reverse (5)exit1\n",
      "푸쉬, 현재 인덱스: 0, 값을 입력하세요qwe\n",
      "(1)push (2)pop (3)print (4)reverse (5)exit1\n",
      "푸쉬, 현재 인덱스: 1, 값을 입력하세요twe\n",
      "(1)push (2)pop (3)print (4)reverse (5)exit1\n",
      "푸쉬, 현재 인덱스: 2, 값을 입력하세요cws\n",
      "(1)push (2)pop (3)print (4)reverse (5)exit2\n",
      "팝팝, 현재 인덱스 : 2, 값을 입력하세요 : \n",
      "(1)push (2)pop (3)print (4)reverse (5)exit3\n",
      "twe \n",
      "qwe \n",
      "(1)push (2)pop (3)print (4)reverse (5)exit1\n",
      "푸쉬, 현재 인덱스: 2, 값을 입력하세요143\n",
      "(1)push (2)pop (3)print (4)reverse (5)exit4\n",
      "스택이 반전되었습니다!\n",
      "{0: 'ewq', 1: 'ewt', 2: '341'}\n",
      "(1)push (2)pop (3)print (4)reverse (5)exit5\n"
     ]
    }
   ],
   "source": [
    "스택 = {}\n",
    "승현 = -1\n",
    "\n",
    "while True:\n",
    "    입력 = int(input(\"(1)push (2)pop (3)print (4)reverse (5)exit\"))\n",
    "\n",
    "    if 입력==1:         # push\n",
    "        승현+=1\n",
    "        스택[승현] = input(f\"푸쉬, 현재 인덱스: {승현}, 값을 입력하세요\")\n",
    "    elif 입력==2:       # pop\n",
    "        if 승현 >= 0:\n",
    "            print(f'팝팝, 현재 인덱스 : {승현}, 값을 입력하세요 : ')\n",
    "#             스택.pop()\n",
    "            승현 -= 1\n",
    "        else : \n",
    "            print(\"스택이 비어있습니다!\")\n",
    "    elif 입력==3:       # print\n",
    "        if 승현 >= 0:\n",
    "            for i in range(승현, -1, -1) :\n",
    "                print(스택[i]+\" \")\n",
    "        else :\n",
    "            print(\"스택이 비어있습니다!\")\n",
    "    elif 입력==4:\n",
    "        if 승현 >= 0:\n",
    "            for i in range(승현+1):\n",
    "                스택[i] = 스택[i][::-1]\n",
    "            print('스택이 반전되었습니다!')\n",
    "            print(스택)\n",
    "        else : \n",
    "            print(\"스택이 비어있습니다.\")\n",
    "    elif 입력 == 5:\n",
    "        break\n",
    "    else:\n",
    "        print(\"재미없어!!\")"
   ]
  },
  {
   "cell_type": "code",
   "execution_count": 33,
   "id": "af7cfe24",
   "metadata": {},
   "outputs": [],
   "source": [
    "data = {\"Name\" : [\"Alice\", \"Alice\", \"Bob\", \"Charlie\", \"David\", \"Eva\"], 'Age':[23, 25, 30, 38, 40, 45],\n",
    "       \"Score\" : [83,85,90,95,80,70]}"
   ]
  },
  {
   "cell_type": "code",
   "execution_count": 11,
   "id": "d5a6d893",
   "metadata": {},
   "outputs": [
    {
     "data": {
      "text/plain": [
       "[25, 30, 35, 40, 45]"
      ]
     },
     "execution_count": 11,
     "metadata": {},
     "output_type": "execute_result"
    }
   ],
   "source": [
    "data[\"Age\"]"
   ]
  },
  {
   "cell_type": "code",
   "execution_count": 34,
   "id": "23efa8de",
   "metadata": {},
   "outputs": [
    {
     "data": {
      "text/html": [
       "<div>\n",
       "<style scoped>\n",
       "    .dataframe tbody tr th:only-of-type {\n",
       "        vertical-align: middle;\n",
       "    }\n",
       "\n",
       "    .dataframe tbody tr th {\n",
       "        vertical-align: top;\n",
       "    }\n",
       "\n",
       "    .dataframe thead th {\n",
       "        text-align: right;\n",
       "    }\n",
       "</style>\n",
       "<table border=\"1\" class=\"dataframe\">\n",
       "  <thead>\n",
       "    <tr style=\"text-align: right;\">\n",
       "      <th></th>\n",
       "      <th>Age</th>\n",
       "      <th>Score</th>\n",
       "    </tr>\n",
       "  </thead>\n",
       "  <tbody>\n",
       "    <tr>\n",
       "      <th>count</th>\n",
       "      <td>6.000000</td>\n",
       "      <td>6.000000</td>\n",
       "    </tr>\n",
       "    <tr>\n",
       "      <th>mean</th>\n",
       "      <td>33.500000</td>\n",
       "      <td>83.833333</td>\n",
       "    </tr>\n",
       "    <tr>\n",
       "      <th>std</th>\n",
       "      <td>8.826098</td>\n",
       "      <td>8.612007</td>\n",
       "    </tr>\n",
       "    <tr>\n",
       "      <th>min</th>\n",
       "      <td>23.000000</td>\n",
       "      <td>70.000000</td>\n",
       "    </tr>\n",
       "    <tr>\n",
       "      <th>25%</th>\n",
       "      <td>26.250000</td>\n",
       "      <td>80.750000</td>\n",
       "    </tr>\n",
       "    <tr>\n",
       "      <th>50%</th>\n",
       "      <td>34.000000</td>\n",
       "      <td>84.000000</td>\n",
       "    </tr>\n",
       "    <tr>\n",
       "      <th>75%</th>\n",
       "      <td>39.500000</td>\n",
       "      <td>88.750000</td>\n",
       "    </tr>\n",
       "    <tr>\n",
       "      <th>max</th>\n",
       "      <td>45.000000</td>\n",
       "      <td>95.000000</td>\n",
       "    </tr>\n",
       "  </tbody>\n",
       "</table>\n",
       "</div>"
      ],
      "text/plain": [
       "             Age      Score\n",
       "count   6.000000   6.000000\n",
       "mean   33.500000  83.833333\n",
       "std     8.826098   8.612007\n",
       "min    23.000000  70.000000\n",
       "25%    26.250000  80.750000\n",
       "50%    34.000000  84.000000\n",
       "75%    39.500000  88.750000\n",
       "max    45.000000  95.000000"
      ]
     },
     "execution_count": 34,
     "metadata": {},
     "output_type": "execute_result"
    }
   ],
   "source": [
    "import pandas as pd\n",
    "\n",
    "#데이터 프레임 생성\n",
    "df = pd.DataFrame(data) \n",
    "# df.agg([\"mean\", \"median\",\"min\",\"max\",\"std\"])\n",
    "df.describe() # describe : 설명하다.\n",
    "# EDA (Exploratory Data Analysis)"
   ]
  },
  {
   "cell_type": "code",
   "execution_count": 26,
   "id": "de8fa49a",
   "metadata": {},
   "outputs": [
    {
     "name": "stdout",
     "output_type": "stream",
     "text": [
      "35.0\n",
      "35.0\n",
      "25\n",
      "45\n",
      "7.905694150420948\n"
     ]
    }
   ],
   "source": [
    "# 특정 열의 통계 계산 (예 : Age 열)\n",
    "\n",
    "print(df['Age'].mean())\n",
    "print(df['Age'].median())\n",
    "print(df['Age'].min())\n",
    "print(df['Age'].max())\n",
    "print(df['Age'].std())"
   ]
  },
  {
   "cell_type": "code",
   "execution_count": 35,
   "id": "711f8a43",
   "metadata": {},
   "outputs": [
    {
     "data": {
      "text/html": [
       "<div>\n",
       "<style scoped>\n",
       "    .dataframe tbody tr th:only-of-type {\n",
       "        vertical-align: middle;\n",
       "    }\n",
       "\n",
       "    .dataframe tbody tr th {\n",
       "        vertical-align: top;\n",
       "    }\n",
       "\n",
       "    .dataframe thead th {\n",
       "        text-align: right;\n",
       "    }\n",
       "</style>\n",
       "<table border=\"1\" class=\"dataframe\">\n",
       "  <thead>\n",
       "    <tr style=\"text-align: right;\">\n",
       "      <th></th>\n",
       "      <th>Age</th>\n",
       "      <th>Score</th>\n",
       "    </tr>\n",
       "    <tr>\n",
       "      <th>Name</th>\n",
       "      <th></th>\n",
       "      <th></th>\n",
       "    </tr>\n",
       "  </thead>\n",
       "  <tbody>\n",
       "    <tr>\n",
       "      <th>Alice</th>\n",
       "      <td>24.0</td>\n",
       "      <td>84.0</td>\n",
       "    </tr>\n",
       "    <tr>\n",
       "      <th>Bob</th>\n",
       "      <td>30.0</td>\n",
       "      <td>90.0</td>\n",
       "    </tr>\n",
       "    <tr>\n",
       "      <th>Charlie</th>\n",
       "      <td>38.0</td>\n",
       "      <td>95.0</td>\n",
       "    </tr>\n",
       "    <tr>\n",
       "      <th>David</th>\n",
       "      <td>40.0</td>\n",
       "      <td>80.0</td>\n",
       "    </tr>\n",
       "    <tr>\n",
       "      <th>Eva</th>\n",
       "      <td>45.0</td>\n",
       "      <td>70.0</td>\n",
       "    </tr>\n",
       "  </tbody>\n",
       "</table>\n",
       "</div>"
      ],
      "text/plain": [
       "          Age  Score\n",
       "Name                \n",
       "Alice    24.0   84.0\n",
       "Bob      30.0   90.0\n",
       "Charlie  38.0   95.0\n",
       "David    40.0   80.0\n",
       "Eva      45.0   70.0"
      ]
     },
     "execution_count": 35,
     "metadata": {},
     "output_type": "execute_result"
    }
   ],
   "source": [
    "df.groupby('Name').mean()"
   ]
  },
  {
   "cell_type": "code",
   "execution_count": 36,
   "id": "4d878dc1",
   "metadata": {},
   "outputs": [
    {
     "data": {
      "text/html": [
       "<div>\n",
       "<style scoped>\n",
       "    .dataframe tbody tr th:only-of-type {\n",
       "        vertical-align: middle;\n",
       "    }\n",
       "\n",
       "    .dataframe tbody tr th {\n",
       "        vertical-align: top;\n",
       "    }\n",
       "\n",
       "    .dataframe thead th {\n",
       "        text-align: right;\n",
       "    }\n",
       "</style>\n",
       "<table border=\"1\" class=\"dataframe\">\n",
       "  <thead>\n",
       "    <tr style=\"text-align: right;\">\n",
       "      <th></th>\n",
       "      <th>Age</th>\n",
       "      <th>Score</th>\n",
       "    </tr>\n",
       "    <tr>\n",
       "      <th>Name</th>\n",
       "      <th></th>\n",
       "      <th></th>\n",
       "    </tr>\n",
       "  </thead>\n",
       "  <tbody>\n",
       "    <tr>\n",
       "      <th>Alice</th>\n",
       "      <td>23</td>\n",
       "      <td>83</td>\n",
       "    </tr>\n",
       "    <tr>\n",
       "      <th>Bob</th>\n",
       "      <td>30</td>\n",
       "      <td>90</td>\n",
       "    </tr>\n",
       "    <tr>\n",
       "      <th>Charlie</th>\n",
       "      <td>38</td>\n",
       "      <td>95</td>\n",
       "    </tr>\n",
       "    <tr>\n",
       "      <th>David</th>\n",
       "      <td>40</td>\n",
       "      <td>80</td>\n",
       "    </tr>\n",
       "    <tr>\n",
       "      <th>Eva</th>\n",
       "      <td>45</td>\n",
       "      <td>70</td>\n",
       "    </tr>\n",
       "  </tbody>\n",
       "</table>\n",
       "</div>"
      ],
      "text/plain": [
       "         Age  Score\n",
       "Name               \n",
       "Alice     23     83\n",
       "Bob       30     90\n",
       "Charlie   38     95\n",
       "David     40     80\n",
       "Eva       45     70"
      ]
     },
     "execution_count": 36,
     "metadata": {},
     "output_type": "execute_result"
    }
   ],
   "source": [
    "df.groupby(\"Name\").min()"
   ]
  },
  {
   "cell_type": "code",
   "execution_count": 37,
   "id": "2dfb2068",
   "metadata": {},
   "outputs": [
    {
     "data": {
      "text/plain": [
       "<Axes: xlabel='Name'>"
      ]
     },
     "execution_count": 37,
     "metadata": {},
     "output_type": "execute_result"
    },
    {
     "data": {
      "image/png": "[encoded data removed]",
      "text/plain": [
       "<Figure size 640x480 with 1 Axes>"
      ]
     },
     "metadata": {},
     "output_type": "display_data"
    }
   ],
   "source": [
    "import pandas as pd\n",
    "import matplotlib.pyplot as plt\n",
    "import seaborn as sns\n",
    "\n",
    "df.groupby(\"Name\").mean().plot(kind = \"bar\")"
   ]
  },
  {
   "cell_type": "code",
   "execution_count": 38,
   "id": "767554fd",
   "metadata": {},
   "outputs": [
    {
     "data": {
      "text/plain": [
       "<BarContainer object of 6 artists>"
      ]
     },
     "execution_count": 38,
     "metadata": {},
     "output_type": "execute_result"
    },
    {
     "data": {
      "image/png": "[encoded data removed]",
      "text/plain": [
       "<Figure size 640x480 with 1 Axes>"
      ]
     },
     "metadata": {},
     "output_type": "display_data"
    }
   ],
   "source": [
    "plt.bar(df[\"Name\"], df[\"Age\"])"
   ]
  },
  {
   "cell_type": "code",
   "execution_count": 39,
   "id": "46032717",
   "metadata": {},
   "outputs": [
    {
     "data": {
      "text/plain": [
       "<BarContainer object of 6 artists>"
      ]
     },
     "execution_count": 39,
     "metadata": {},
     "output_type": "execute_result"
    },
    {
     "data": {
      "image/png": "[encoded data removed]",
      "text/plain": [
       "<Figure size 640x480 with 1 Axes>"
      ]
     },
     "metadata": {},
     "output_type": "display_data"
    }
   ],
   "source": [
    "plt.bar(df[\"Name\"], df[\"Score\"])"
   ]
  },
  {
   "cell_type": "code",
   "execution_count": 40,
   "id": "6b1fb16a",
   "metadata": {},
   "outputs": [
    {
     "data": {
      "image/png": "[encoded data removed]",
      "text/plain": [
       "<Figure size 640x480 with 1 Axes>"
      ]
     },
     "metadata": {},
     "output_type": "display_data"
    }
   ],
   "source": [
    "# 막대 그래프 만들기\n",
    "df.plot(kind = \"bar\", x= 'Name', y= 'Score', title = 'Scores by Name')\n",
    "plt.xlabel('Name')\n",
    "plt.ylabel(\"Score\")\n",
    "\n",
    "plt.show()"
   ]
  },
  {
   "cell_type": "code",
   "execution_count": 59,
   "id": "29e56c3e",
   "metadata": {},
   "outputs": [
    {
     "data": {
      "text/plain": [
       "<Axes: title={'center': 'Scores by Name'}, xlabel='Name'>"
      ]
     },
     "execution_count": 59,
     "metadata": {},
     "output_type": "execute_result"
    },
    {
     "data": {
      "image/png": "[encoded data removed]",
      "text/plain": [
       "<Figure size 640x480 with 1 Axes>"
      ]
     },
     "metadata": {},
     "output_type": "display_data"
    }
   ],
   "source": [
    "df.sort_values(\"Score\", ascending = True).plot(kind=\"bar\", x=\"Name\", y=\"Score\", title = \"Scores by Name\")"
   ]
  },
  {
   "cell_type": "code",
   "execution_count": 69,
   "id": "27b01d2d",
   "metadata": {},
   "outputs": [
    {
     "data": {
      "text/plain": [
       "<Axes: xlabel='Name'>"
      ]
     },
     "execution_count": 69,
     "metadata": {},
     "output_type": "execute_result"
    },
    {
     "data": {
      "image/png": "[encoded data removed]",
      "text/plain": [
       "<Figure size 640x480 with 1 Axes>"
      ]
     },
     "metadata": {},
     "output_type": "display_data"
    }
   ],
   "source": [
    "df.sort_values(by = [\"Score\", \"Age\"], ascending = True).plot(kind=\"bar\", x=\"Name\", y=[,\"Age\", \"Score\"])"
   ]
  },
  {
   "cell_type": "code",
   "execution_count": 71,
   "id": "8113f66d",
   "metadata": {},
   "outputs": [
    {
     "name": "stdout",
     "output_type": "stream",
     "text": [
      "\n",
      "DataFrame sorted by Score (descending) : \n",
      "      Name  Age  Score\n",
      "5      Eva   45     70\n",
      "4    David   40     80\n",
      "0    Alice   23     83\n",
      "1    Alice   25     85\n",
      "2      Bob   30     90\n",
      "3  Charlie   38     95\n"
     ]
    }
   ],
   "source": [
    "# Score 컬럼을 기준으로 내림차순 정렬\n",
    "df_sorted = df.sort_values(by=\"Score\", ascending =True)\n",
    "print(\"\\nDataFrame sorted by Score (descending) : \")\n",
    "print(df_sorted)"
   ]
  },
  {
   "cell_type": "code",
   "execution_count": 72,
   "id": "82cf5cc1",
   "metadata": {},
   "outputs": [
    {
     "name": "stdout",
     "output_type": "stream",
     "text": [
      "\n",
      "New DataFrame\n",
      "      Name  Age  Score\n",
      "0      Eva   45     70\n",
      "1    David   40     80\n",
      "2    Alice   23     83\n",
      "3    Alice   25     85\n",
      "4      Bob   30     90\n",
      "5  Charlie   38     95\n"
     ]
    }
   ],
   "source": [
    "# 새로운 데이터 프레임 생성\n",
    "\n",
    "new_df = df_sorted.reset_index(drop=True)\n",
    "print(\"\\nNew DataFrame\")\n",
    "print(new_df)"
   ]
  },
  {
   "cell_type": "code",
   "execution_count": null,
   "id": "cc600525",
   "metadata": {},
   "outputs": [],
   "source": []
  }
 ],
 "metadata": {
  "kernelspec": {
   "display_name": "Python 3 (ipykernel)",
   "language": "python",
   "name": "python3"
  },
  "language_info": {
   "codemirror_mode": {
    "name": "ipython",
    "version": 3
   },
   "file_extension": ".py",
   "mimetype": "text/x-python",
   "name": "python",
   "nbconvert_exporter": "python",
   "pygments_lexer": "ipython3",
   "version": "3.10.9"
  }
 },
 "nbformat": 4,
 "nbformat_minor": 5
}
