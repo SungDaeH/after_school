{
 "cells": [
  {
   "cell_type": "code",
   "execution_count": 3,
   "id": "af1396e4",
   "metadata": {},
   "outputs": [],
   "source": [
    "d = {\"안녕\" : \"Hello\", \"세계\" : \"World\", \"쑤\" : \"Ss\"}"
   ]
  },
  {
   "cell_type": "code",
   "execution_count": 14,
   "id": "2dfa63bb",
   "metadata": {
    "scrolled": true
   },
   "outputs": [
    {
     "data": {
      "text/plain": [
       "{'월': 'Mon',\n",
       " '화': 'Tue',\n",
       " '수': 'Wed',\n",
       " '목': 'Thu',\n",
       " '금': 'Fri',\n",
       " '토': 'Sat',\n",
       " '일': 'Sun'}"
      ]
     },
     "execution_count": 14,
     "metadata": {},
     "output_type": "execute_result"
    }
   ],
   "source": [
    "week = {\"월\":\"Mon\",\"화\":\"Tue\",\"수\":\"Wed\", \"목\":\"Thu\", \"금\":\"Fri\", \"토\":\"Sat\", \"일\":\"Sun\"}\n",
    "week"
   ]
  },
  {
   "cell_type": "code",
   "execution_count": 22,
   "id": "8a06765d",
   "metadata": {
    "scrolled": true
   },
   "outputs": [
    {
     "name": "stdout",
     "output_type": "stream",
     "text": [
      "학번을 입력하세요. : 30906\n",
      "이름을 입력하세요. : 박기수\n",
      "나이를 입력하세요. : 19\n",
      "성별을 입력하세요. : male\n"
     ]
    }
   ],
   "source": [
    "sn = int(input(\"학번을 입력하세요. : \"))\n",
    "\n",
    "name = input(\"이름을 입력하세요. : \")\n",
    "old = int(input(\"나이를 입력하세요. : \"))\n",
    "sex = input(\"성별을 입력하세요. : \")\n",
    "\n",
    "d = {sn : [name, old, sex]}\n"
   ]
  },
  {
   "cell_type": "code",
   "execution_count": 23,
   "id": "16130fef",
   "metadata": {},
   "outputs": [
    {
     "data": {
      "text/plain": [
       "['박기수', 19, 'male']"
      ]
     },
     "execution_count": 23,
     "metadata": {},
     "output_type": "execute_result"
    }
   ],
   "source": [
    "d[30906]"
   ]
  },
  {
   "cell_type": "code",
   "execution_count": 24,
   "id": "4638c084",
   "metadata": {},
   "outputs": [
    {
     "data": {
      "text/plain": [
       "dict"
      ]
     },
     "execution_count": 24,
     "metadata": {},
     "output_type": "execute_result"
    }
   ],
   "source": [
    "type(d)"
   ]
  },
  {
   "cell_type": "code",
   "execution_count": null,
   "id": "0aea481b",
   "metadata": {},
   "outputs": [],
   "source": [
    "s[\"30906\"]"
   ]
  },
  {
   "cell_type": "code",
   "execution_count": 28,
   "id": "bfaada55",
   "metadata": {},
   "outputs": [
    {
     "name": "stdout",
     "output_type": "stream",
     "text": [
      "[1, 2, 3, 4, 5]\n"
     ]
    }
   ],
   "source": [
    "import shelve\n",
    "\n",
    "def save(key, volue):\n",
    "    with shelve.open('shelve.dat') as d:\n",
    "        d[key] = volue\n",
    "        \n",
    "def get(key):\n",
    "    with shelve.open('shelve.dat') as d:\n",
    "        return d[key]\n",
    "\n",
    "# sn = int(input(\"학번을 입력하세요. : \"))\n",
    "\n",
    "# name = input(\"이름을 입력하세요. : \")\n",
    "# old = int(input(\"나이를 입력하세요. : \"))\n",
    "# sex = input(\"성별을 입력하세요. : \")\n",
    "\n",
    "save(\"number\", [1,2,3,4,5])\n",
    "print(get(\"number\"))"
   ]
  },
  {
   "cell_type": "code",
   "execution_count": 38,
   "id": "f00e8acc",
   "metadata": {},
   "outputs": [
    {
     "name": "stdout",
     "output_type": "stream",
     "text": [
      "학번을 입력하세요. : 30906\n",
      "이름을 입력하세요. : 김기수\n",
      "나이를 입력하세요. : 19\n",
      "성별을 입력하세요. : 남자\n",
      "['김기수', 19, '남자']\n"
     ]
    }
   ],
   "source": [
    "sn = input(\"학번을 입력하세요. : \")\n",
    "\n",
    "name = input(\"이름을 입력하세요. : \")\n",
    "old = int(input(\"나이를 입력하세요. : \"))\n",
    "sex = input(\"성별을 입력하세요. : \")\n",
    "\n",
    "save(sn, [name, old, sex])\n",
    "print(get(sn))"
   ]
  },
  {
   "cell_type": "code",
   "execution_count": 37,
   "id": "77977754",
   "metadata": {},
   "outputs": [
    {
     "name": "stdout",
     "output_type": "stream",
     "text": [
      "['황성댇', 19, 'male']\n"
     ]
    }
   ],
   "source": [
    "print(get(sn))"
   ]
  },
  {
   "cell_type": "code",
   "execution_count": 40,
   "id": "3386a435",
   "metadata": {},
   "outputs": [],
   "source": [
    "f = open(\"shelve.dat.dir\", \"r\")"
   ]
  },
  {
   "cell_type": "code",
   "execution_count": 41,
   "id": "4734a260",
   "metadata": {},
   "outputs": [
    {
     "data": {
      "text/plain": [
       "<_io.TextIOWrapper name='shelve.dat.dir' mode='r' encoding='cp949'>"
      ]
     },
     "execution_count": 41,
     "metadata": {},
     "output_type": "execute_result"
    }
   ],
   "source": [
    "f"
   ]
  },
  {
   "cell_type": "code",
   "execution_count": 43,
   "id": "2721b495",
   "metadata": {},
   "outputs": [
    {
     "ename": "IndexError",
     "evalue": "string index out of range",
     "output_type": "error",
     "traceback": [
      "\u001b[1;31m---------------------------------------------------------------------------\u001b[0m",
      "\u001b[1;31mIndexError\u001b[0m                                Traceback (most recent call last)",
      "Cell \u001b[1;32mIn[43], line 1\u001b[0m\n\u001b[1;32m----> 1\u001b[0m \u001b[38;5;28mprint\u001b[39m(\u001b[43msn\u001b[49m\u001b[43m[\u001b[49m\u001b[38;5;241;43m30918\u001b[39;49m\u001b[43m]\u001b[49m)\n",
      "\u001b[1;31mIndexError\u001b[0m: string index out of range"
     ]
    }
   ],
   "source": [
    "print(sn[30918])"
   ]
  },
  {
   "cell_type": "code",
   "execution_count": 44,
   "id": "56df92eb",
   "metadata": {},
   "outputs": [
    {
     "name": "stdout",
     "output_type": "stream",
     "text": [
      "\n",
      "1. 학생 정보 추가\n",
      "2. 학생 정보 검색\n",
      "3. 종료\n",
      "선택하세요 : 1\n",
      "학생 번호를 입력하세요 : 30918\n",
      "학생의 이름을 입력하세요 : 황성대\n",
      "학생 나이를 입력하세요 : 19\n",
      "학생 전공을 입력하세요 : 스마트웹콘텐츠과\n",
      "\n",
      "1. 학생 정보 추가\n",
      "2. 학생 정보 검색\n",
      "3. 종료\n",
      "선택하세요 : 2\n",
      "검색할 학생 번호를 입력하세요 : 30918\n",
      "학생 번호 : 30918, 이름 : 황성대, 나이 : 19, 전공 : 스마트웹콘텐츠과\n",
      "\n",
      "1. 학생 정보 추가\n",
      "2. 학생 정보 검색\n",
      "3. 종료\n",
      "선택하세요 : 3\n"
     ]
    }
   ],
   "source": [
    "def odd_student_info(student_dict):\n",
    "    # 학생 정보 입력 받기\n",
    "    student_number = input(\"학생 번호를 입력하세요 : \")\n",
    "    name = input(\"학생의 이름을 입력하세요 : \")\n",
    "    age = input(\"학생 나이를 입력하세요 : \")\n",
    "    major = input(\"학생 전공을 입력하세요 : \")\n",
    "    \n",
    "    # 학생 정보를 딕셔너리에 추가\n",
    "    student_dict[student_number] = {\"name\":name, \"age\":age, \"major\":major}\n",
    "\n",
    "def search_student_info(student_dict):\n",
    "    # 검색할 학생 번호 입력 받기\n",
    "    student_number = input(\"검색할 학생 번호를 입력하세요 : \")\n",
    "    \n",
    "    # 학생 정보 출력\n",
    "    if student_number in student_dict:\n",
    "        info = student_dict[student_number]\n",
    "        print(f'학생 번호 : {student_number}, 이름 : {info[\"name\"]}, 나이 : {info[\"age\"]}, 전공 : {info[\"major\"]}')\n",
    "    else :\n",
    "        print(\"해당하는 학생의 정보를 찾을 수 없습니다.\")\n",
    "        \n",
    "def main():\n",
    "    # shelve 파일 열기 (파일이 없으면 새로 생성됨)\n",
    "    with shelve.open(\"student_data\") as sheif:\n",
    "    # 저장된 학생 정보가 있는지 확인\n",
    "        if 'student' not in sheif:\n",
    "            sheif[\"students\"] = {}\n",
    "            \n",
    "        # 학생 정보 딕셔너리 가져오기\n",
    "        student_dict = sheif[\"students\"]\n",
    "        \n",
    "        while True:\n",
    "            print(\"\\n1. 학생 정보 추가\")\n",
    "            print(\"2. 학생 정보 검색\")\n",
    "            print(\"3. 종료\")\n",
    "            \n",
    "            choice = input(\"선택하세요 : \")\n",
    "            \n",
    "            if choice == \"1\":\n",
    "                odd_student_info(student_dict)\n",
    "            elif choice == \"2\":\n",
    "                search_student_info(student_dict)\n",
    "            elif choice == \"3\":\n",
    "                break\n",
    "            else :\n",
    "                print(\"올바른 선택이 아닙니다. 다시 선택해 주세요\")\n",
    "                \n",
    "        # 학생 정보 딕셔너리 저장\n",
    "        sheif[\"students\"] = student_dict\n",
    "if __name__ == \"__main__\":\n",
    "    main()"
   ]
  },
  {
   "cell_type": "code",
   "execution_count": null,
   "id": "a24a6be2",
   "metadata": {},
   "outputs": [],
   "source": []
  }
 ],
 "metadata": {
  "kernelspec": {
   "display_name": "Python 3 (ipykernel)",
   "language": "python",
   "name": "python3"
  },
  "language_info": {
   "codemirror_mode": {
    "name": "ipython",
    "version": 3
   },
   "file_extension": ".py",
   "mimetype": "text/x-python",
   "name": "python",
   "nbconvert_exporter": "python",
   "pygments_lexer": "ipython3",
   "version": "3.10.9"
  }
 },
 "nbformat": 4,
 "nbformat_minor": 5
}
