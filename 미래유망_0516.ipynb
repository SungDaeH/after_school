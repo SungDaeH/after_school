{
 "cells": [
  {
   "cell_type": "markdown",
   "id": "e3284f4c",
   "metadata": {},
   "source": [
    "### 다음 리스트에서 최댓값과 최솟값을 출력하라."
   ]
  },
  {
   "cell_type": "code",
   "execution_count": 2,
   "id": "6f52bb9e",
   "metadata": {},
   "outputs": [
    {
     "name": "stdout",
     "output_type": "stream",
     "text": [
      "최솟값은 : 1\n",
      "최댓값은 : 7\n"
     ]
    }
   ],
   "source": [
    "nums = [1,2,3,4,5,6,7]\n",
    "\n",
    "print(f'최솟값은 : {min(nums)}')\n",
    "print(f'최댓값은 : {max(nums)}')"
   ]
  },
  {
   "cell_type": "code",
   "execution_count": 83,
   "id": "3bdd24ca",
   "metadata": {},
   "outputs": [],
   "source": [
    "class Human :\n",
    "    def __init__(self, name, age): # Human 클래스의 생성자(constructor)\n",
    "        self.name = name\n",
    "        self.age = age\n",
    "        \n",
    "        print(f\"{self.name} 응애응애\")\n",
    "    def cry(self):\n",
    "        print(f\"{self.name} 으앙으앙\")\n",
    "    def iam(self):\n",
    "        \n",
    "        print(f\"{self.name} {self.age}\")\n",
    "\n",
    "    def n_a(self):\n",
    "        self.age = self.age + 1\n",
    "        print(f'1년후 {self.age}살')\n",
    "        \n",
    "    def new_name(self, new_name): # 인헤리턴스\n",
    "        self.name = new_name\n",
    "        print(f\"새로운 이름 {self.name}\")\n",
    "        \n",
    "#     def __del__(self): # 소멸자\n",
    "#         print(f\"죽었다\")"
   ]
  },
  {
   "cell_type": "code",
   "execution_count": 84,
   "id": "9107b11b",
   "metadata": {
    "scrolled": true
   },
   "outputs": [
    {
     "name": "stdout",
     "output_type": "stream",
     "text": [
      "홍길동 응애응애\n",
      "새로운 이름 황성대\n"
     ]
    }
   ],
   "source": [
    "kim = Human(\"홍길동\", 18)\n",
    "kim.new_name(\"황성대\")"
   ]
  },
  {
   "cell_type": "code",
   "execution_count": 61,
   "id": "a55017f5",
   "metadata": {},
   "outputs": [
    {
     "data": {
      "text/plain": [
       "__main__.Human"
      ]
     },
     "execution_count": 61,
     "metadata": {},
     "output_type": "execute_result"
    }
   ],
   "source": [
    "type(kim)"
   ]
  },
  {
   "cell_type": "code",
   "execution_count": 63,
   "id": "349d0da3",
   "metadata": {},
   "outputs": [
    {
     "ename": "SyntaxError",
     "evalue": "expected ':' (1899080301.py, line 1)",
     "output_type": "error",
     "traceback": [
      "\u001b[1;36m  Cell \u001b[1;32mIn[63], line 1\u001b[1;36m\u001b[0m\n\u001b[1;33m    def kim()\u001b[0m\n\u001b[1;37m             ^\u001b[0m\n\u001b[1;31mSyntaxError\u001b[0m\u001b[1;31m:\u001b[0m expected ':'\n"
     ]
    }
   ],
   "source": [
    "def kim"
   ]
  },
  {
   "cell_type": "code",
   "execution_count": 85,
   "id": "0ff9e19b",
   "metadata": {},
   "outputs": [],
   "source": [
    "class Student(Human):\n",
    "    pass"
   ]
  },
  {
   "cell_type": "code",
   "execution_count": 90,
   "id": "8c4cea77",
   "metadata": {},
   "outputs": [
    {
     "name": "stdout",
     "output_type": "stream",
     "text": [
      "최수혁 응애응애\n",
      "1년후 19살\n"
     ]
    }
   ],
   "source": [
    "s1 = Student(\"최수혁\", 18)\n",
    "s1.n_a()"
   ]
  },
  {
   "cell_type": "code",
   "execution_count": 92,
   "id": "d59ea037",
   "metadata": {},
   "outputs": [
    {
     "name": "stdout",
     "output_type": "stream",
     "text": [
      "정연택 응애응애\n",
      "1년후 37살\n"
     ]
    }
   ],
   "source": [
    "class Teacher(Human):\n",
    "    pass\n",
    "\n",
    "t1 = Teacher(\"정연택\", 36)\n",
    "t1.n_a()"
   ]
  },
  {
   "cell_type": "code",
   "execution_count": null,
   "id": "b6b4594d",
   "metadata": {},
   "outputs": [],
   "source": []
  }
 ],
 "metadata": {
  "kernelspec": {
   "display_name": "Python 3 (ipykernel)",
   "language": "python",
   "name": "python3"
  },
  "language_info": {
   "codemirror_mode": {
    "name": "ipython",
    "version": 3
   },
   "file_extension": ".py",
   "mimetype": "text/x-python",
   "name": "python",
   "nbconvert_exporter": "python",
   "pygments_lexer": "ipython3",
   "version": "3.10.9"
  }
 },
 "nbformat": 4,
 "nbformat_minor": 5
}
