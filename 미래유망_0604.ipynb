{
 "cells": [
  {
   "cell_type": "code",
   "execution_count": 41,
   "id": "5bbf3ae0",
   "metadata": {},
   "outputs": [],
   "source": [
    "def match(a):\n",
    "    for i in range(len(a)):\n",
    "        if a[i] == a[len(a)-i-1] :\n",
    "            print(\"똑같다.\")\n",
    "        else :\n",
    "            print(\"다르다.\")"
   ]
  },
  {
   "cell_type": "code",
   "execution_count": 45,
   "id": "fa3f92a4",
   "metadata": {},
   "outputs": [
    {
     "name": "stdout",
     "output_type": "stream",
     "text": [
      "똑같다.\n",
      "똑같다.\n",
      "똑같다.\n"
     ]
    }
   ],
   "source": [
    "match(\"\")"
   ]
  },
  {
   "cell_type": "code",
   "execution_count": 3,
   "id": "b15441b7",
   "metadata": {},
   "outputs": [
    {
     "data": {
      "text/plain": [
       "4"
      ]
     },
     "execution_count": 3,
     "metadata": {},
     "output_type": "execute_result"
    }
   ],
   "source": [
    "len(\"blue\")"
   ]
  },
  {
   "cell_type": "code",
   "execution_count": 56,
   "id": "6ec97760",
   "metadata": {},
   "outputs": [
    {
     "name": "stdout",
     "output_type": "stream",
     "text": [
      "같다\n",
      "같다\n",
      "같다\n",
      "같다\n",
      "같다\n"
     ]
    }
   ],
   "source": [
    "a = 'level'\n",
    "\n",
    "for i in range(len(a)):\n",
    "    if a[i] == a[len(a)-1-i]:\n",
    "        print('같다')\n",
    "    else : \n",
    "        print(\"다르다\")"
   ]
  },
  {
   "cell_type": "code",
   "execution_count": 24,
   "id": "5eb21ae7",
   "metadata": {},
   "outputs": [
    {
     "name": "stdout",
     "output_type": "stream",
     "text": [
      "level\n"
     ]
    },
    {
     "data": {
      "text/plain": [
       "'l'"
      ]
     },
     "execution_count": 24,
     "metadata": {},
     "output_type": "execute_result"
    }
   ],
   "source": [
    "d = input()\n",
    "d[0]"
   ]
  },
  {
   "cell_type": "code",
   "execution_count": 58,
   "id": "20909ace",
   "metadata": {},
   "outputs": [
    {
     "name": "stdout",
     "output_type": "stream",
     "text": [
      "단어를 입력하세요 : level\n",
      "True\n"
     ]
    }
   ],
   "source": [
    "word = input('단어를 입력하세요 : ')\n",
    "\n",
    "is_palindrome = True\n",
    "for i in range(len(word)//2):\n",
    "    if word[i] != word[-1-i]:\n",
    "        is_palindrome = False\n",
    "        break\n",
    "    \n",
    "print(is_palindrome)"
   ]
  },
  {
   "cell_type": "code",
   "execution_count": 59,
   "id": "bdaee096",
   "metadata": {},
   "outputs": [
    {
     "name": "stdout",
     "output_type": "stream",
     "text": [
      "단어를 입력하세요 : word\n",
      "word"
     ]
    }
   ],
   "source": [
    "word = input('단어를 입력하세요 : ')\n",
    "\n",
    "l = len(word)\n",
    "\n",
    "for i in range(l):\n",
    "    print(word[i], end='')"
   ]
  },
  {
   "cell_type": "code",
   "execution_count": 63,
   "id": "d29d3fc8",
   "metadata": {},
   "outputs": [
    {
     "name": "stdout",
     "output_type": "stream",
     "text": [
      "False\n"
     ]
    }
   ],
   "source": [
    "word = 'appel'\n",
    "\n",
    "if word == word[::-1] :\n",
    "    print(\"True\")\n",
    "else :\n",
    "    print('False')"
   ]
  },
  {
   "cell_type": "code",
   "execution_count": 61,
   "id": "5ddbe30a",
   "metadata": {},
   "outputs": [
    {
     "name": "stdout",
     "output_type": "stream",
     "text": [
      "True\n"
     ]
    }
   ],
   "source": [
    "word = 'level'\n",
    "\n",
    "if(list(word) == list(reversed(word))):\n",
    "    print(\"True\")\n",
    "else : \n",
    "    print(\"false\")"
   ]
  },
  {
   "cell_type": "code",
   "execution_count": 65,
   "id": "dccfb41a",
   "metadata": {},
   "outputs": [
    {
     "name": "stdout",
     "output_type": "stream",
     "text": [
      "2 4 6 8 10 12 14 16 18 20 22 24 26 28 30 32 34 36 38 40 42 44 46 48 50 52 54 56 58 60 62 64 66 68 70 72 74 76 78 80 82 84 86 88 90 92 94 96 98 100 "
     ]
    }
   ],
   "source": [
    "for i in range(1, 100+1):\n",
    "    if i % 2 == 0 :\n",
    "        print(i, end = \" \")"
   ]
  },
  {
   "cell_type": "code",
   "execution_count": 69,
   "id": "2bc6c16e",
   "metadata": {},
   "outputs": [
    {
     "name": "stdout",
     "output_type": "stream",
     "text": [
      "2 4 6 8 10 12 14 16 18 20 22 24 26 28 30 32 34 36 38 40 42 44 46 48 50 52 54 56 58 60 62 64 66 68 70 72 74 76 78 80 82 84 86 88 90 92 94 96 98 100 "
     ]
    }
   ],
   "source": [
    "for i in range(1, 100+1):\n",
    "    if i % 2 == 1:\n",
    "        continue\n",
    "    else :\n",
    "        print(i, end = ' ')"
   ]
  },
  {
   "cell_type": "code",
   "execution_count": null,
   "id": "65c580dd",
   "metadata": {},
   "outputs": [],
   "source": []
  }
 ],
 "metadata": {
  "kernelspec": {
   "display_name": "Python 3 (ipykernel)",
   "language": "python",
   "name": "python3"
  },
  "language_info": {
   "codemirror_mode": {
    "name": "ipython",
    "version": 3
   },
   "file_extension": ".py",
   "mimetype": "text/x-python",
   "name": "python",
   "nbconvert_exporter": "python",
   "pygments_lexer": "ipython3",
   "version": "3.10.9"
  }
 },
 "nbformat": 4,
 "nbformat_minor": 5
}
