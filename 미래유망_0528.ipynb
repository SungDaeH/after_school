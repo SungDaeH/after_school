{
 "cells": [
  {
   "cell_type": "code",
   "execution_count": 1,
   "id": "6e097e2d",
   "metadata": {},
   "outputs": [],
   "source": [
    "def my_func(n):\n",
    "    if n == 1:\n",
    "        return 1\n",
    "    else :\n",
    "        return n + my_func(n-1)"
   ]
  },
  {
   "cell_type": "code",
   "execution_count": 12,
   "id": "f4c2f4ce",
   "metadata": {},
   "outputs": [
    {
     "data": {
      "text/plain": [
       "78"
      ]
     },
     "execution_count": 12,
     "metadata": {},
     "output_type": "execute_result"
    }
   ],
   "source": [
    "my_func(12)"
   ]
  },
  {
   "cell_type": "code",
   "execution_count": 9,
   "id": "4476b147",
   "metadata": {},
   "outputs": [
    {
     "name": "stdout",
     "output_type": "stream",
     "text": [
      "10\n",
      "55\n"
     ]
    }
   ],
   "source": [
    "n = int(input())\n",
    "\n",
    "for i in range(n):\n",
    "    n += i\n",
    "print(n)"
   ]
  },
  {
   "cell_type": "code",
   "execution_count": 11,
   "id": "20db33ca",
   "metadata": {},
   "outputs": [
    {
     "name": "stdout",
     "output_type": "stream",
     "text": [
      "12\n",
      "78\n"
     ]
    }
   ],
   "source": [
    "n = int(input())\n",
    "\n",
    "for i in range(n):\n",
    "    n += i\n",
    "print(n)"
   ]
  },
  {
   "cell_type": "code",
   "execution_count": null,
   "id": "276f4a93",
   "metadata": {},
   "outputs": [],
   "source": [
    "c = int(input())\n",
    "\n",
    "sum = 0\n",
    "\n",
    "if c%2==0:\n",
    "    t = c//2\n",
    "    for i in range(t):\n",
    "        r = i + (c-i)\n",
    "        sum += r\n",
    "        print(i,(c-i),r)\n",
    "    sum = sum + t"
   ]
  },
  {
   "cell_type": "code",
   "execution_count": 15,
   "id": "2471063d",
   "metadata": {},
   "outputs": [
    {
     "name": "stdout",
     "output_type": "stream",
     "text": [
      "3\n",
      "res : 3\n",
      "sum : 6\n"
     ]
    }
   ],
   "source": [
    "c = int(input())\n",
    "\n",
    "sum = 0\n",
    "if c%2==0:\n",
    "    t = c//2\n",
    "    sum = c*t + t\n",
    "else : \n",
    "    t = c//2+1\n",
    "    sum = c*t\n",
    "\n",
    "print(f'res : {c}')\n",
    "print(f'sum : {sum}')"
   ]
  },
  {
   "cell_type": "code",
   "execution_count": 22,
   "id": "c903d5c2",
   "metadata": {},
   "outputs": [
    {
     "ename": "ZeroDivisionError",
     "evalue": "float division by zero",
     "output_type": "error",
     "traceback": [
      "\u001b[1;31m---------------------------------------------------------------------------\u001b[0m",
      "\u001b[1;31mZeroDivisionError\u001b[0m                         Traceback (most recent call last)",
      "Cell \u001b[1;32mIn[22], line 19\u001b[0m\n\u001b[0;32m     16\u001b[0m sum_xx\u001b[38;5;241m+\u001b[39m\u001b[38;5;241m=\u001b[39m(x[i]\u001b[38;5;241m-\u001b[39mmean_x)\u001b[38;5;241m*\u001b[39m\u001b[38;5;241m*\u001b[39m\u001b[38;5;241m2\u001b[39m\n\u001b[0;32m     17\u001b[0m sum_xy\u001b[38;5;241m+\u001b[39m\u001b[38;5;241m=\u001b[39m(x[i]\u001b[38;5;241m-\u001b[39mmean_x)\u001b[38;5;241m*\u001b[39m(y[i]\u001b[38;5;241m-\u001b[39mmean_y)\n\u001b[1;32m---> 19\u001b[0m beta \u001b[38;5;241m=\u001b[39m \u001b[43msum_xy\u001b[49m\u001b[38;5;241;43m/\u001b[39;49m\u001b[43msum_xx\u001b[49m\n\u001b[0;32m     20\u001b[0m alpha \u001b[38;5;241m=\u001b[39m mean_y \u001b[38;5;241m-\u001b[39m beta \u001b[38;5;241m*\u001b[39m mean_x\n\u001b[0;32m     21\u001b[0m alpha, beta\n",
      "\u001b[1;31mZeroDivisionError\u001b[0m: float division by zero"
     ]
    }
   ],
   "source": [
    "x = [1,2,3]\n",
    "y = [1,3,2]\n",
    "n=len(x)\n",
    "\n",
    "sum_x = sum_y = 0\n",
    "for i in range(n):\n",
    "    sum_x = x[i]\n",
    "    sum_y = y[i]\n",
    "    \n",
    "mean_x = sum_x/n\n",
    "mean_y = sum_y/n\n",
    "mean_x, mean_y\n",
    "sum_xx=sum_xy=0\n",
    "\n",
    "for i in range(n):\n",
    "    sum_xx+=(x[i]-mean_x)**2\n",
    "    sum_xy+=(x[i]-mean_x)*(y[i]-mean_y)\n",
    "    \n",
    "    beta = sum_xy/sum_xx\n",
    "    alpha = mean_y - beta * mean_x\n",
    "    alpha, beta\n",
    "    \n",
    "from matplotlib import pyplot as plt\n",
    "\n",
    "reg_X = [0,1,2,3,4,5]\n",
    "reg_Y = [(alpha+beta*x) for x in reg_x]\n",
    "\n",
    "plt.figure(figsize=(5,3))\n",
    "plt.grid()\n",
    "plt.scatter(x,y)\n",
    "plt.plot(reg_x, reg_y, \"r-\")\n",
    "plt.show()"
   ]
  },
  {
   "cell_type": "code",
   "execution_count": null,
   "id": "ead7b787",
   "metadata": {},
   "outputs": [],
   "source": []
  }
 ],
 "metadata": {
  "kernelspec": {
   "display_name": "Python 3 (ipykernel)",
   "language": "python",
   "name": "python3"
  },
  "language_info": {
   "codemirror_mode": {
    "name": "ipython",
    "version": 3
   },
   "file_extension": ".py",
   "mimetype": "text/x-python",
   "name": "python",
   "nbconvert_exporter": "python",
   "pygments_lexer": "ipython3",
   "version": "3.10.9"
  }
 },
 "nbformat": 4,
 "nbformat_minor": 5
}
