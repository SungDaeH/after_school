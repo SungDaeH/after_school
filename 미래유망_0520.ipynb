{
 "cells": [
  {
   "cell_type": "code",
   "execution_count": 67,
   "id": "53de2cc5",
   "metadata": {},
   "outputs": [
    {
     "ename": "TypeError",
     "evalue": "'int' object is not subscriptable",
     "output_type": "error",
     "traceback": [
      "\u001b[1;31m---------------------------------------------------------------------------\u001b[0m",
      "\u001b[1;31mTypeError\u001b[0m                                 Traceback (most recent call last)",
      "Cell \u001b[1;32mIn[67], line 18\u001b[0m\n\u001b[0;32m     15\u001b[0m                 \u001b[38;5;28;01mif\u001b[39;00m arr[i] \u001b[38;5;241m>\u001b[39m arr[i\u001b[38;5;241m+\u001b[39m\u001b[38;5;241m1\u001b[39m]:\n\u001b[0;32m     16\u001b[0m                     swat(arr[i], arr[i\u001b[38;5;241m+\u001b[39m\u001b[38;5;241m1\u001b[39m])\n\u001b[1;32m---> 18\u001b[0m \u001b[43msort\u001b[49m\u001b[43m(\u001b[49m\u001b[38;5;28;43mlen\u001b[39;49m\u001b[43m(\u001b[49m\u001b[43marr\u001b[49m\u001b[43m)\u001b[49m\u001b[43m)\u001b[49m\n",
      "Cell \u001b[1;32mIn[67], line 15\u001b[0m, in \u001b[0;36msort\u001b[1;34m(arr)\u001b[0m\n\u001b[0;32m     13\u001b[0m     \u001b[38;5;28mprint\u001b[39m(arr)\n\u001b[0;32m     14\u001b[0m \u001b[38;5;28;01melse\u001b[39;00m:\n\u001b[1;32m---> 15\u001b[0m     \u001b[38;5;28;01mif\u001b[39;00m \u001b[43marr\u001b[49m\u001b[43m[\u001b[49m\u001b[43mi\u001b[49m\u001b[43m]\u001b[49m \u001b[38;5;241m>\u001b[39m arr[i\u001b[38;5;241m+\u001b[39m\u001b[38;5;241m1\u001b[39m]:\n\u001b[0;32m     16\u001b[0m         swat(arr[i], arr[i\u001b[38;5;241m+\u001b[39m\u001b[38;5;241m1\u001b[39m])\n",
      "\u001b[1;31mTypeError\u001b[0m: 'int' object is not subscriptable"
     ]
    }
   ],
   "source": [
    "arr = [10,2,6,4,8,5]\n",
    "def swap(a, b):\n",
    "    temp = a\n",
    "    a = b\n",
    "    b = temp\n",
    "    return a, b\n",
    "    \n",
    "\n",
    "def sort(arr):\n",
    "    for i in range(arr):\n",
    "        for j in range(arr):\n",
    "            if i == 9:\n",
    "                print(arr)\n",
    "            else:\n",
    "                if arr[i] > arr[i+1]:\n",
    "                    swat(arr[i], arr[i+1])\n",
    "\n",
    "sort(len(arr))"
   ]
  },
  {
   "cell_type": "code",
   "execution_count": 62,
   "id": "e0852277",
   "metadata": {},
   "outputs": [
    {
     "name": "stdout",
     "output_type": "stream",
     "text": [
      "[1, 3, 4, 5, 6, 7, 9]\n"
     ]
    }
   ],
   "source": [
    "def bubble_sort(arr):\n",
    "    for i in range(len(arr)):\n",
    "        for j in range(len(arr)-i-1):\n",
    "            if arr[j] > arr[j+1]:\n",
    "                arr[j], arr[j+1] = swap(arr[j], arr[j+1])\n",
    "    return arr\n",
    "\n",
    "list1 = [1,3,5,6,7,4,9]\n",
    "sorted = bubble_sort(list1)\n",
    "print(sorted)"
   ]
  },
  {
   "cell_type": "code",
   "execution_count": 33,
   "id": "62ba8537",
   "metadata": {},
   "outputs": [
    {
     "name": "stdout",
     "output_type": "stream",
     "text": [
      "정렬 전:\n",
      "[3, 14, 7, 9, 7, 1, 6, 0, 2, 12]\n",
      "\n",
      "정렬 과정:\n",
      "\n",
      "시작 인덱스 1\n",
      "[3, 14, 7, 9, 7, 1, 6, 0, 2, 12]\n",
      "\n",
      "시작 인덱스 2\n",
      "[3, 14, 7, 9, 7, 1, 6, 0, 2, 12]\n",
      "[3, 7, 14, 9, 7, 1, 6, 0, 2, 12]\n",
      "\n",
      "시작 인덱스 3\n",
      "[3, 7, 14, 9, 7, 1, 6, 0, 2, 12]\n",
      "[3, 7, 9, 14, 7, 1, 6, 0, 2, 12]\n",
      "\n",
      "시작 인덱스 4\n",
      "[3, 7, 9, 14, 7, 1, 6, 0, 2, 12]\n",
      "[3, 7, 9, 7, 14, 1, 6, 0, 2, 12]\n",
      "[3, 7, 7, 9, 14, 1, 6, 0, 2, 12]\n",
      "\n",
      "시작 인덱스 5\n",
      "[3, 7, 7, 9, 14, 1, 6, 0, 2, 12]\n",
      "[3, 7, 7, 9, 1, 14, 6, 0, 2, 12]\n",
      "[3, 7, 7, 1, 9, 14, 6, 0, 2, 12]\n",
      "[3, 7, 1, 7, 9, 14, 6, 0, 2, 12]\n",
      "[3, 1, 7, 7, 9, 14, 6, 0, 2, 12]\n",
      "[1, 3, 7, 7, 9, 14, 6, 0, 2, 12]\n",
      "\n",
      "시작 인덱스 6\n",
      "[1, 3, 7, 7, 9, 14, 6, 0, 2, 12]\n",
      "[1, 3, 7, 7, 9, 6, 14, 0, 2, 12]\n",
      "[1, 3, 7, 7, 6, 9, 14, 0, 2, 12]\n",
      "[1, 3, 7, 6, 7, 9, 14, 0, 2, 12]\n",
      "[1, 3, 6, 7, 7, 9, 14, 0, 2, 12]\n",
      "\n",
      "시작 인덱스 7\n",
      "[1, 3, 6, 7, 7, 9, 14, 0, 2, 12]\n",
      "[1, 3, 6, 7, 7, 9, 0, 14, 2, 12]\n",
      "[1, 3, 6, 7, 7, 0, 9, 14, 2, 12]\n",
      "[1, 3, 6, 7, 0, 7, 9, 14, 2, 12]\n",
      "[1, 3, 6, 0, 7, 7, 9, 14, 2, 12]\n",
      "[1, 3, 0, 6, 7, 7, 9, 14, 2, 12]\n",
      "[1, 0, 3, 6, 7, 7, 9, 14, 2, 12]\n",
      "[0, 1, 3, 6, 7, 7, 9, 14, 2, 12]\n",
      "\n",
      "시작 인덱스 8\n",
      "[0, 1, 3, 6, 7, 7, 9, 14, 2, 12]\n",
      "[0, 1, 3, 6, 7, 7, 9, 2, 14, 12]\n",
      "[0, 1, 3, 6, 7, 7, 2, 9, 14, 12]\n",
      "[0, 1, 3, 6, 7, 2, 7, 9, 14, 12]\n",
      "[0, 1, 3, 6, 2, 7, 7, 9, 14, 12]\n",
      "[0, 1, 3, 2, 6, 7, 7, 9, 14, 12]\n",
      "[0, 1, 2, 3, 6, 7, 7, 9, 14, 12]\n",
      "\n",
      "시작 인덱스 9\n",
      "[0, 1, 2, 3, 6, 7, 7, 9, 14, 12]\n",
      "[0, 1, 2, 3, 6, 7, 7, 9, 12, 14]\n"
     ]
    }
   ],
   "source": [
    "import random\n",
    "\n",
    "\n",
    "def insertion_sort(arr):\n",
    "    \"\"\"arr을 오름차순으로 삽입정렬한다.\"\"\"\n",
    "    for i in range(1, len(arr)):\n",
    "        print(f\"\\n시작 인덱스 {i}\")\n",
    "        print(arr)\n",
    "        while i > 0 and arr[i] < arr[i - 1]:\n",
    "            arr[i], arr[ i - 1] = arr[i - 1], arr[i]\n",
    "            i -= 1\n",
    "            print(arr)\n",
    "\n",
    "\n",
    "my_list = []\n",
    "for _ in range(10):\n",
    "    my_list.append(random.randrange(15))\n",
    "\n",
    "print(\"정렬 전:\")\n",
    "print(my_list)\n",
    "print()\n",
    "print(\"정렬 과정:\")\n",
    "insertion_sort(my_list)"
   ]
  },
  {
   "cell_type": "code",
   "execution_count": null,
   "id": "e0a559f2",
   "metadata": {},
   "outputs": [],
   "source": []
  }
 ],
 "metadata": {
  "kernelspec": {
   "display_name": "Python 3 (ipykernel)",
   "language": "python",
   "name": "python3"
  },
  "language_info": {
   "codemirror_mode": {
    "name": "ipython",
    "version": 3
   },
   "file_extension": ".py",
   "mimetype": "text/x-python",
   "name": "python",
   "nbconvert_exporter": "python",
   "pygments_lexer": "ipython3",
   "version": "3.10.9"
  }
 },
 "nbformat": 4,
 "nbformat_minor": 5
}
