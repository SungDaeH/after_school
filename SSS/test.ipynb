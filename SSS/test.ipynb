{
 "cells": [
  {
   "cell_type": "code",
   "execution_count": 3,
   "metadata": {},
   "outputs": [],
   "source": [
    "from langchain_openai import ChatOpenAI\n",
    "from langchain_core.prompts import ChatPromptTemplate\n",
    "from langchain_core.callbacks import StreamingStdOutCallbackHandler"
   ]
  },
  {
   "cell_type": "code",
   "execution_count": 58,
   "metadata": {},
   "outputs": [],
   "source": [
    "translate = ChatPromptTemplate.from_messages(\n",
    "    [\n",
    "        (\n",
    "            \"system\", \n",
    "            \"Your an world-class professional translator, translate the recipe into Korean\"\n",
    "        ),\n",
    "        (\n",
    "            \"human\", \"{recipe}\"\n",
    "        )\n",
    "    ]\n",
    ")\n",
    "\n",
    "translate_chain = translate | chat"
   ]
  },
  {
   "cell_type": "code",
   "execution_count": 4,
   "metadata": {},
   "outputs": [],
   "source": [
    "chat = ChatOpenAI(\n",
    "    temperature = 0.1,\n",
    "    streaming = True,\n",
    "    callbacks=[\n",
    "        StreamingStdOutCallbackHandler(),\n",
    "    ]\n",
    ")\n",
    "from langchain_core.output_parsers import BaseOutputParser\n",
    "\n",
    "class CommaOutputParser(BaseOutputParser):\n",
    "    \n",
    "    def parse(self, text):\n",
    "        items = text.strip().split(',')\n",
    "        return list(map(str.strip, items))"
   ]
  },
  {
   "cell_type": "code",
   "execution_count": 55,
   "metadata": {},
   "outputs": [],
   "source": [
    "jwealary_diamond_prompt = ChatPromptTemplate.from_messages([\n",
    "    (\"system\", \"You are a very famous diamond craftsman.\"),\n",
    "    (\"human\", \"Teach me how to make diamond {jwealary}\")\n",
    "])"
   ]
  },
  {
   "cell_type": "code",
   "execution_count": 70,
   "metadata": {},
   "outputs": [],
   "source": [
    "diamond = jwealary_diamond_prompt | chat"
   ]
  },
  {
   "cell_type": "code",
   "execution_count": 71,
   "metadata": {},
   "outputs": [
    {
     "name": "stdout",
     "output_type": "stream",
     "text": [
      "To make diamond earrings, you will need the following materials and tools:\n",
      "\n",
      "Materials:\n",
      "1. Diamonds\n",
      "2. Metal for the earring setting (common choices include gold, silver, or platinum)\n",
      "3. Earring backs\n",
      "4. Jewelry solder\n",
      "\n",
      "Tools:\n",
      "1. Jewelry saw\n",
      "2. Jewelry file\n",
      "3. Jewelry pliers\n",
      "4. Jewelry torch\n",
      "5. Jewelry polishing tools\n",
      "\n",
      "Here is a general overview of the process to make diamond earrings:\n",
      "\n",
      "1. Design: Start by sketching out the design of the earrings you want to create. Consider the size and shape of the diamonds, as well as the overall style of the earrings.\n",
      "\n",
      "2. Prepare the metal: Cut the metal into the desired shape for the earring setting using a jewelry saw. File the edges to smooth them out.\n",
      "\n",
      "3. Set the diamonds: Using jewelry pliers, carefully set the diamonds into the metal setting. Make sure they are secure and positioned correctly.\n",
      "\n",
      "4. Solder the pieces: Use jewelry solder and a torch to solder the different components of the earrings together. Be sure to follow proper safety precautions when using a torch.\n",
      "\n",
      "5. Polish and finish: Once the earrings are assembled, use jewelry polishing tools to clean and polish the metal. This will give the earrings a shiny finish.\n",
      "\n",
      "6. Attach earring backs: Finally, attach the earring backs to the earrings to complete the piece.\n",
      "\n",
      "Remember, working with diamonds and precious metals requires skill and precision. If you are new to jewelry making, it may be helpful to take a class or seek guidance from an experienced jeweler."
     ]
    },
    {
     "data": {
      "text/plain": [
       "AIMessage(content='To make diamond earrings, you will need the following materials and tools:\\n\\nMaterials:\\n1. Diamonds\\n2. Metal for the earring setting (common choices include gold, silver, or platinum)\\n3. Earring backs\\n4. Jewelry solder\\n\\nTools:\\n1. Jewelry saw\\n2. Jewelry file\\n3. Jewelry pliers\\n4. Jewelry torch\\n5. Jewelry polishing tools\\n\\nHere is a general overview of the process to make diamond earrings:\\n\\n1. Design: Start by sketching out the design of the earrings you want to create. Consider the size and shape of the diamonds, as well as the overall style of the earrings.\\n\\n2. Prepare the metal: Cut the metal into the desired shape for the earring setting using a jewelry saw. File the edges to smooth them out.\\n\\n3. Set the diamonds: Using jewelry pliers, carefully set the diamonds into the metal setting. Make sure they are secure and positioned correctly.\\n\\n4. Solder the pieces: Use jewelry solder and a torch to solder the different components of the earrings together. Be sure to follow proper safety precautions when using a torch.\\n\\n5. Polish and finish: Once the earrings are assembled, use jewelry polishing tools to clean and polish the metal. This will give the earrings a shiny finish.\\n\\n6. Attach earring backs: Finally, attach the earring backs to the earrings to complete the piece.\\n\\nRemember, working with diamonds and precious metals requires skill and precision. If you are new to jewelry making, it may be helpful to take a class or seek guidance from an experienced jeweler.', response_metadata={'finish_reason': 'stop'}, id='run-baec2783-7367-4c77-96b8-13241c471497-0')"
      ]
     },
     "execution_count": 71,
     "metadata": {},
     "output_type": "execute_result"
    }
   ],
   "source": [
    "diamond.invoke({\n",
    "    \"jwealary\" : \"earring\"\n",
    "})"
   ]
  },
  {
   "cell_type": "code",
   "execution_count": 72,
   "metadata": {},
   "outputs": [],
   "source": [
    "jwealary_gold_prompt = ChatPromptTemplate.from_messages({\n",
    "    (\n",
    "        \"system\",\n",
    "        \"You are a world class goldsmith. You can make gold jewelry recipe very easily.\"\n",
    "    ),\n",
    "    (\n",
    "        \"human\", \"I want to {recipe}.\"\n",
    "    )\n",
    "})"
   ]
  },
  {
   "cell_type": "code",
   "execution_count": 77,
   "metadata": {},
   "outputs": [],
   "source": [
    "gold = jwealary_gold_prompt | chat"
   ]
  },
  {
   "cell_type": "code",
   "execution_count": 78,
   "metadata": {},
   "outputs": [
    {
     "name": "stdout",
     "output_type": "stream",
     "text": [
      "Sure! Here is a simple recipe for making a pair of gold earrings:\n",
      "\n",
      "Ingredients:\n",
      "- 2 pieces of 24 karat gold wire (length depending on desired earring size)\n",
      "- 2 gold earring hooks\n",
      "- Jewelry pliers\n",
      "- Jewelry cutter\n",
      "- Jewelry file\n",
      "\n",
      "Instructions:\n",
      "1. Cut the gold wire into two equal lengths using the jewelry cutter.\n",
      "2. Use the jewelry pliers to bend one end of each wire into a small loop.\n",
      "3. Shape the wire into your desired earring design using the pliers.\n",
      "4. Once you are happy with the shape, file any rough edges to smooth them out.\n",
      "5. Attach the earring hooks to the loops at the top of each earring.\n",
      "6. Your gold earrings are now ready to wear or gift!\n",
      "\n",
      "Feel free to customize the design by adding gemstones, beads, or other embellishments to make them unique to your style. Enjoy your beautiful new gold earrings!"
     ]
    },
    {
     "data": {
      "text/plain": [
       "AIMessage(content='Sure! Here is a simple recipe for making a pair of gold earrings:\\n\\nIngredients:\\n- 2 pieces of 24 karat gold wire (length depending on desired earring size)\\n- 2 gold earring hooks\\n- Jewelry pliers\\n- Jewelry cutter\\n- Jewelry file\\n\\nInstructions:\\n1. Cut the gold wire into two equal lengths using the jewelry cutter.\\n2. Use the jewelry pliers to bend one end of each wire into a small loop.\\n3. Shape the wire into your desired earring design using the pliers.\\n4. Once you are happy with the shape, file any rough edges to smooth them out.\\n5. Attach the earring hooks to the loops at the top of each earring.\\n6. Your gold earrings are now ready to wear or gift!\\n\\nFeel free to customize the design by adding gemstones, beads, or other embellishments to make them unique to your style. Enjoy your beautiful new gold earrings!', response_metadata={'finish_reason': 'stop'}, id='run-736d085d-7057-482b-a1be-30717226dbcd-0')"
      ]
     },
     "execution_count": 78,
     "metadata": {},
     "output_type": "execute_result"
    }
   ],
   "source": [
    "gold.invoke({\n",
    "    \"recipe\" : \"earring\",\n",
    "    # \"language\" : \"Korean\"\n",
    "})"
   ]
  },
  {
   "cell_type": "code",
   "execution_count": 84,
   "metadata": {},
   "outputs": [],
   "source": [
    "final = diamond | gold | translate_chain | CommaOutputParser()"
   ]
  },
  {
   "cell_type": "code",
   "execution_count": 85,
   "metadata": {},
   "outputs": [
    {
     "name": "stdout",
     "output_type": "stream",
     "text": [
      "To make diamond earrings, you will need the following materials and tools:\n",
      "\n",
      "Materials:\n",
      "1. Diamonds\n",
      "2. Metal for the setting (common choices include gold, silver, or platinum)\n",
      "3. Earring posts or hooks\n",
      "4. Earring backs\n",
      "\n",
      "Tools:\n",
      "1. Jeweler's saw\n",
      "2. Files\n",
      "3. Pliers\n",
      "4. Soldering torch\n",
      "5. Polishing tools\n",
      "\n",
      "Here is a general overview of the process:\n",
      "\n",
      "1. Design: Start by sketching out your design for the diamond earrings. Consider the size and shape of the diamonds, as well as the overall style of the earrings.\n",
      "\n",
      "2. Metalwork: Cut the metal for the earring settings using a jeweler's saw. Shape the metal to fit the diamonds and create the desired design. Use pliers to bend and shape the metal as needed.\n",
      "\n",
      "3. Setting the Diamonds: Once the metal settings are ready, carefully set the diamonds into place. This may require using prongs or other setting techniques to secure the diamonds in the earrings.\n",
      "\n",
      "4. Soldering: If your design requires multiple pieces of metal to be joined together, you will need to solder them using a soldering torch. Be sure to use the appropriate solder for the type of metal you are working with.\n",
      "\n",
      "5. Finishing: Once the diamonds are securely set and the metalwork is complete, use files and polishing tools to smooth out any rough edges and polish the earrings to a high shine.\n",
      "\n",
      "6. Attaching Earring Posts: Finally, attach the earring posts or hooks to the earrings. Make sure they are securely attached so that the earrings can be worn without any risk of coming loose.\n",
      "\n",
      "Remember, working with diamonds and precious metals requires skill and precision. If you are new to diamond crafting, it may be helpful to take a class or apprentice with an experienced jeweler to learn the techniques involved in making diamond earrings.As a world-class goldsmith, I can provide you with a detailed recipe for making gold diamond earrings:\n",
      "\n",
      "Materials:\n",
      "1. Diamonds\n",
      "2. Gold (preferably 18k or 14k for durability and beauty)\n",
      "3. Earring posts\n",
      "4. Earring backs\n",
      "5. Solder\n",
      "6. Flux\n",
      "7. Polishing compounds\n",
      "\n",
      "Tools:\n",
      "1. Jeweler's saw\n",
      "2. Files\n",
      "3. Pliers\n",
      "4. Soldering torch\n",
      "5. Polishing tools\n",
      "6. Jewelry hammer\n",
      "7. Jewelry tweezers\n",
      "8. Jewelry loupe\n",
      "\n",
      "Instructions:\n",
      "\n",
      "1. Design: Begin by sketching out your design for the gold diamond earrings. Consider the size and shape of the diamonds, as well as the style of the earrings you want to create.\n",
      "\n",
      "2. Metalwork: Cut the gold metal using a jeweler's saw to create the base for the earrings. Shape the metal to fit the diamonds and create the desired design. Use pliers to bend and shape the metal as needed.\n",
      "\n",
      "3. Setting the Diamonds: Once the gold base is ready, carefully set the diamonds into place. This may involve using prongs or other setting techniques to secure the diamonds in the earrings. Ensure that the diamonds are securely set.\n",
      "\n",
      "4. Soldering: If your design requires multiple pieces of gold to be joined together, you will need to solder them using a soldering torch. Apply flux to the joints, add solder, and use the torch to heat and bond the pieces together.\n",
      "\n",
      "5. Finishing: Once the diamonds are securely set and the metalwork is complete, use files and polishing tools to smooth out any rough edges and polish the earrings to a high shine. Take your time to ensure a flawless finish.\n",
      "\n",
      "6. Attaching Earring Posts: Finally, attach the earring posts to the earrings using solder. Make sure they are securely attached so that the earrings can be worn without any risk of coming loose.\n",
      "\n",
      "7. Final Touches: Use polishing compounds to give the earrings a final polish and shine. Inspect the earrings using a jewelry loupe to ensure that they meet your quality standards.\n",
      "\n",
      "Remember, working with gold and diamonds requires precision and attention to detail. If you are new to crafting gold jewelry, consider practicing on less expensive materials before working with precious metals and gemstones.\"세계적인 금장이로서, 금 다이아몬드 귀걸이를 만드는 상세한 레시피를 제공할 수 있습니다:\n",
      "\n",
      "재료:\n",
      "1. 다이아몬드\n",
      "2. 금 (내구성과 아름다움을 위해 18k 또는 14k를 선호)\n",
      "3. 귀걸이 포스트\n",
      "4. 귀걸이 백\n",
      "5. 솔더\n",
      "6. 플럭스\n",
      "7. 광택 연마제\n",
      "\n",
      "도구:\n",
      "1. 보석용 톱\n",
      "2. 파일\n",
      "3. 플라이어\n",
      "4. 솔더링 토치\n",
      "5. 광택 도구\n",
      "6. 보석 망치\n",
      "7. 보석 집게\n",
      "8. 보석 루프\n",
      "\n",
      "제작 방법:\n",
      "\n",
      "1. 디자인: 금 다이아몬드 귀걸이의 디자인을 스케치하여 시작하십시오. 다이아몬드의 크기와 모양, 그리고 만들고자 하는 귀걸이의 스타일을 고려하십시오.\n",
      "\n",
      "2. 금속 가공: 보석용 톱을 사용하여 금속을 잘라 귀걸이의 기반을 만듭니다. 다이아몬드에 맞게 금속을 모양을 만들고 원하는 디자인을 만듭니다. 필요에 따라 플라이어를 사용하여 금속을 구부리고 모양을 조정합니다.\n",
      "\n",
      "3. 다이아몬드 세팅: 금 베이스가 준비되면 다이아몬드를 신중하게 배치합니다. 다이아몬드를 귀걸이에 안전하게 고정하기 위해 프롱이나 다른 세팅 기술을 사용할 수 있습니다. 다이아몬드가 안전하게 고정되었는지 확인하십시오.\n",
      "\n",
      "4. 솔더링: 디자인에 따라 여러 조각의 금을 결합해야 하는 경우 솔더링 토치를 사용하여 솔더링해야 합니다. 접합부에 플럭스를 바르고 솔더를 추가한 후 토치를 사용하여 조각을 가열하고 결합합니다.\n",
      "\n",
      "5. 마무리: 다이아몬드가 안전하게 고정되고 금속 가공이 완료되면 파일과 광택 도구를 사용하여 거친 부분을 다듬고 귀걸이를 높은 광택으로 광택을 부여합니다. 완벽한 마무리를 위해 시간을 들여주세요.\n",
      "\n",
      "6. 귀걸이 포스트 부착: 마지막으로 솔더를 사용하여 귀걸이 포스트를 귀걸이에 부착합니다. 귀걸이가 떨어질 위험이 없도록 안전하게 부착되었는지 확인하십시오.\n",
      "\n",
      "7. 마지막 손질: 귀걸이에 최종 광택과 반짝임을 부여하기 위해 광택 연마제를 사용합니다. 보석 루프를 사용하여 귀걸이가 품질 기준을 충족하는지 확인하십시오.\n",
      "\n",
      "금과 다이아몬드로 작업하는 것은 정밀성과 세부 사항에 주의를 기울여야 합니다. 금 보석 제작에 익숙하지 않은 경우 귀중한 금속과 보석을 다루기 전에 가격이 비교적 저렴한 재료로 연습하는 것을 고려하십시오.\""
     ]
    },
    {
     "data": {
      "text/plain": [
       "['\"세계적인 금장이로서',\n",
       " '금 다이아몬드 귀걸이를 만드는 상세한 레시피를 제공할 수 있습니다:\\n\\n재료:\\n1. 다이아몬드\\n2. 금 (내구성과 아름다움을 위해 18k 또는 14k를 선호)\\n3. 귀걸이 포스트\\n4. 귀걸이 백\\n5. 솔더\\n6. 플럭스\\n7. 광택 연마제\\n\\n도구:\\n1. 보석용 톱\\n2. 파일\\n3. 플라이어\\n4. 솔더링 토치\\n5. 광택 도구\\n6. 보석 망치\\n7. 보석 집게\\n8. 보석 루프\\n\\n제작 방법:\\n\\n1. 디자인: 금 다이아몬드 귀걸이의 디자인을 스케치하여 시작하십시오. 다이아몬드의 크기와 모양',\n",
       " '그리고 만들고자 하는 귀걸이의 스타일을 고려하십시오.\\n\\n2. 금속 가공: 보석용 톱을 사용하여 금속을 잘라 귀걸이의 기반을 만듭니다. 다이아몬드에 맞게 금속을 모양을 만들고 원하는 디자인을 만듭니다. 필요에 따라 플라이어를 사용하여 금속을 구부리고 모양을 조정합니다.\\n\\n3. 다이아몬드 세팅: 금 베이스가 준비되면 다이아몬드를 신중하게 배치합니다. 다이아몬드를 귀걸이에 안전하게 고정하기 위해 프롱이나 다른 세팅 기술을 사용할 수 있습니다. 다이아몬드가 안전하게 고정되었는지 확인하십시오.\\n\\n4. 솔더링: 디자인에 따라 여러 조각의 금을 결합해야 하는 경우 솔더링 토치를 사용하여 솔더링해야 합니다. 접합부에 플럭스를 바르고 솔더를 추가한 후 토치를 사용하여 조각을 가열하고 결합합니다.\\n\\n5. 마무리: 다이아몬드가 안전하게 고정되고 금속 가공이 완료되면 파일과 광택 도구를 사용하여 거친 부분을 다듬고 귀걸이를 높은 광택으로 광택을 부여합니다. 완벽한 마무리를 위해 시간을 들여주세요.\\n\\n6. 귀걸이 포스트 부착: 마지막으로 솔더를 사용하여 귀걸이 포스트를 귀걸이에 부착합니다. 귀걸이가 떨어질 위험이 없도록 안전하게 부착되었는지 확인하십시오.\\n\\n7. 마지막 손질: 귀걸이에 최종 광택과 반짝임을 부여하기 위해 광택 연마제를 사용합니다. 보석 루프를 사용하여 귀걸이가 품질 기준을 충족하는지 확인하십시오.\\n\\n금과 다이아몬드로 작업하는 것은 정밀성과 세부 사항에 주의를 기울여야 합니다. 금 보석 제작에 익숙하지 않은 경우 귀중한 금속과 보석을 다루기 전에 가격이 비교적 저렴한 재료로 연습하는 것을 고려하십시오.\"']"
      ]
     },
     "execution_count": 85,
     "metadata": {},
     "output_type": "execute_result"
    }
   ],
   "source": [
    "final.invoke({\"jwealary\" : \"귀걸이\"})"
   ]
  },
  {
   "cell_type": "code",
   "execution_count": null,
   "metadata": {},
   "outputs": [],
   "source": []
  }
 ],
 "metadata": {
  "kernelspec": {
   "display_name": "env",
   "language": "python",
   "name": "python3"
  },
  "language_info": {
   "codemirror_mode": {
    "name": "ipython",
    "version": 3
   },
   "file_extension": ".py",
   "mimetype": "text/x-python",
   "name": "python",
   "nbconvert_exporter": "python",
   "pygments_lexer": "ipython3",
   "version": "3.12.2"
  }
 },
 "nbformat": 4,
 "nbformat_minor": 2
}
