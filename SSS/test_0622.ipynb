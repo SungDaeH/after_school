{
 "cells": [
  {
   "cell_type": "code",
   "execution_count": 15,
   "metadata": {},
   "outputs": [],
   "source": [
    "from langchain_openai import ChatOpenAI\n",
    "from langchain_core.prompts import FewShotPromptTemplate, PromptTemplate\n",
    "from langchain_core.prompts import FewShotChatMessagePromptTemplate, ChatPromptTemplate\n",
    "from langchain_core.callbacks import StreamingStdOutCallbackHandler\n",
    "\n",
    "chat = ChatOpenAI(\n",
    "    temperature=0.1,\n",
    "    streaming=True,\n",
    "    callbacks=[\n",
    "        StreamingStdOutCallbackHandler(),\n",
    "    ],\n",
    ")"
   ]
  },
  {
   "cell_type": "code",
   "execution_count": 16,
   "metadata": {},
   "outputs": [],
   "source": [
    "examples = [\n",
    "\n",
    "{\n",
    "        \"question\": \"What do you know about Valorant?\",\n",
    "        \"answer\": \"\"\"\n",
    "        Here is what I know:\n",
    "        Development : Riot games\n",
    "        Genre: action, hero shooting\n",
    "        Engine: Unreal Engine 4\n",
    "        Platform : PlayStation 5,  Xbox Series X|S, Microsoft Windows,  Android, IOS\n",
    "        \"\"\",\n",
    "    },\n",
    "    {\n",
    "        \"question\": \"What do you know about League Of Legend?\",\n",
    "        \"answer\": \"\"\"\n",
    "        Here is what I know:\n",
    "        Development : Riot games\n",
    "        Genre: MOBA, AOS\n",
    "        Engine: Self-developed engine\n",
    "        Platform : Windows, macOS, GeForce NOW\n",
    "        \"\"\",\n",
    "    },\n",
    "    {\n",
    "        \"question\": \"What do you know about Maple Story\",\n",
    "        \"answer\": \"\"\"\n",
    "        Here is what I know:\n",
    "        Development : Nexon\n",
    "        Genre: 2D side scrolling MMORPG\n",
    "        Engine: Self-developed engine\n",
    "        Platform : Windows\n",
    "        \"\"\",\n",
    "    },\n",
    "]"
   ]
  },
  {
   "cell_type": "code",
   "execution_count": 10,
   "metadata": {},
   "outputs": [],
   "source": [
    "example_prompt = PromptTemplate.from_template(\"Human : {question}\\n AI : {answer}\")"
   ]
  },
  {
   "cell_type": "code",
   "execution_count": 11,
   "metadata": {},
   "outputs": [],
   "source": [
    "prompt = FewShotPromptTemplate(\n",
    "    example_prompt=example_prompt,\n",
    "    examples= examples,\n",
    "    suffix = \"Human What do you know about {game}?\",\n",
    "    input_variables=[\"game\"],\n",
    ")"
   ]
  },
  {
   "cell_type": "code",
   "execution_count": 12,
   "metadata": {},
   "outputs": [],
   "source": [
    "FewShotPrompt_chain = prompt | chat"
   ]
  },
  {
   "cell_type": "code",
   "execution_count": 13,
   "metadata": {},
   "outputs": [
    {
     "name": "stdout",
     "output_type": "stream",
     "text": [
      "AI: \n",
      "        Here is what I know:\n",
      "        Development : Nexon\n",
      "        Genre: First-person shooter\n",
      "        Engine: Lithtech Jupiter\n",
      "        Platform : Microsoft Windows"
     ]
    },
    {
     "data": {
      "text/plain": [
       "AIMessage(content='AI: \\n        Here is what I know:\\n        Development : Nexon\\n        Genre: First-person shooter\\n        Engine: Lithtech Jupiter\\n        Platform : Microsoft Windows', response_metadata={'finish_reason': 'stop'}, id='run-13ee1ee7-f790-425a-8c87-da73aae6d7a4-0')"
      ]
     },
     "execution_count": 13,
     "metadata": {},
     "output_type": "execute_result"
    }
   ],
   "source": [
    "FewShotPrompt_chain.invoke(\n",
    "    {\n",
    "    \"game\" : \"Sudden Atteck\"\n",
    "    }\n",
    ")"
   ]
  },
  {
   "cell_type": "code",
   "execution_count": 14,
   "metadata": {},
   "outputs": [],
   "source": [
    "examples_2 = [\n",
    "\n",
    "{\n",
    "        \"game\": \"Valorant?\",\n",
    "        \"answer\": \"\"\"\n",
    "        Here is what I know:\n",
    "        Development : Riot games\n",
    "        Genre: action, hero shooting\n",
    "        Engine: Unreal Engine 4\n",
    "        Platform : PlayStation 5,  Xbox Series X|S, Microsoft Windows,  Android, IOS\n",
    "        \"\"\",\n",
    "    },\n",
    "    {\n",
    "        \"game\": \"League Of Legend?\",\n",
    "        \"answer\": \"\"\"\n",
    "        Here is what I know:\n",
    "        Development : Riot games\n",
    "        Genre: MOBA, AOS\n",
    "        Engine: Self-developed engine\n",
    "        Platform : Windows, macOS, GeForce NOW\n",
    "        \"\"\",\n",
    "    },\n",
    "    {\n",
    "        \"game\": \"Maple Story\",\n",
    "        \"answer\": \"\"\"\n",
    "        Here is what I know:\n",
    "        Development : Nexon\n",
    "        Genre: 2D side scrolling MMORPG\n",
    "        Engine: Self-developed engine\n",
    "        Platform : Windows\n",
    "        \"\"\",\n",
    "    },\n",
    "]"
   ]
  },
  {
   "cell_type": "code",
   "execution_count": 17,
   "metadata": {},
   "outputs": [],
   "source": [
    "example_prompt = ChatPromptTemplate.from_messages(\n",
    "    [\n",
    "        (\"human\", \"What do you about {game}?\"),\n",
    "        (\"ai\", \"{answer}\"),\n",
    "    ]\n",
    ")"
   ]
  },
  {
   "cell_type": "code",
   "execution_count": 18,
   "metadata": {},
   "outputs": [],
   "source": [
    "example_prompt = FewShotChatMessagePromptTemplate(\n",
    "    example_prompt=example_prompt,\n",
    "    examples=examples_2\n",
    ")"
   ]
  },
  {
   "cell_type": "code",
   "execution_count": 19,
   "metadata": {},
   "outputs": [],
   "source": [
    "final_prompt = ChatPromptTemplate.from_messages(\n",
    "    [\n",
    "        (\"system\", \"You are a game expert, you give short answer.\"),\n",
    "        example_prompt,\n",
    "        (\"human\", \"What do you about {game}?\")\n",
    "    ]\n",
    ")"
   ]
  },
  {
   "cell_type": "code",
   "execution_count": 20,
   "metadata": {},
   "outputs": [],
   "source": [
    "FewShotChatMessagePrompt_chain = final_prompt | chat"
   ]
  },
  {
   "cell_type": "code",
   "execution_count": 22,
   "metadata": {},
   "outputs": [
    {
     "name": "stdout",
     "output_type": "stream",
     "text": [
      "Here is what I know:\n",
      "Development: KOG Studios\n",
      "Genre: 2.5D side-scrolling MMORPG\n",
      "Engine: Gamebryo\n",
      "Platform: Windows"
     ]
    },
    {
     "data": {
      "text/plain": [
       "AIMessage(content='Here is what I know:\\nDevelopment: KOG Studios\\nGenre: 2.5D side-scrolling MMORPG\\nEngine: Gamebryo\\nPlatform: Windows', response_metadata={'finish_reason': 'stop'}, id='run-8154de3f-f90f-4c4b-a8d8-2331c110827a-0')"
      ]
     },
     "execution_count": 22,
     "metadata": {},
     "output_type": "execute_result"
    }
   ],
   "source": [
    "FewShotChatMessagePrompt_chain.invoke(\n",
    "    {\n",
    "        \"game\" : \"Elsword\"\n",
    "    }\n",
    ")"
   ]
  },
  {
   "cell_type": "code",
   "execution_count": null,
   "metadata": {},
   "outputs": [],
   "source": []
  }
 ],
 "metadata": {
  "kernelspec": {
   "display_name": "env",
   "language": "python",
   "name": "python3"
  },
  "language_info": {
   "codemirror_mode": {
    "name": "ipython",
    "version": 3
   },
   "file_extension": ".py",
   "mimetype": "text/x-python",
   "name": "python",
   "nbconvert_exporter": "python",
   "pygments_lexer": "ipython3",
   "version": "3.12.2"
  }
 },
 "nbformat": 4,
 "nbformat_minor": 2
}
