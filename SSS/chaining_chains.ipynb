{
 "cells": [
  {
   "cell_type": "code",
   "execution_count": 32,
   "metadata": {},
   "outputs": [],
   "source": [
    "from langchain_openai import ChatOpenAI\n",
    "from langchain_core.prompts import ChatPromptTemplate\n",
    "from langchain_core.callbacks import StreamingStdOutCallbackHandler\n",
    "\n",
    "chat = ChatOpenAI(\n",
    "    temperature = 0.1,\n",
    "    streaming = True,\n",
    "    callbacks=[\n",
    "        StreamingStdOutCallbackHandler(),\n",
    "    ]\n",
    ")\n",
    "\n",
    "chef_prompt = ChatPromptTemplate.from_messages(\n",
    "    [\n",
    "        (\n",
    "            \"system\",\n",
    "            \"You are a world-class international chef. You create easy to follow recipies for any type of cuisine with easy to find ingredients.\"\n",
    "        ),\n",
    "        (\n",
    "            \"human\", \"I want to cook {cuisine} food.\"\n",
    "        )\n",
    "    ]\n",
    ")\n",
    "\n",
    "chef_chain = chef_prompt | chat"
   ]
  },
  {
   "cell_type": "code",
   "execution_count": 33,
   "metadata": {},
   "outputs": [
    {
     "name": "stdout",
     "output_type": "stream",
     "text": [
      "Great choice! How about trying to make some delicious Chicken Teriyaki? Here's a simple recipe for you to follow:\n",
      "\n",
      "Ingredients:\n",
      "- 2 boneless, skinless chicken breasts\n",
      "- 1/4 cup soy sauce\n",
      "- 1/4 cup mirin (Japanese sweet rice wine)\n",
      "- 2 tablespoons sugar\n",
      "- 1 tablespoon vegetable oil\n",
      "- 1 clove garlic, minced\n",
      "- 1 teaspoon grated ginger\n",
      "- Sesame seeds and chopped green onions for garnish\n",
      "\n",
      "Instructions:\n",
      "1. Slice the chicken breasts into thin strips or bite-sized pieces.\n",
      "2. In a small bowl, mix together the soy sauce, mirin, and sugar until the sugar is dissolved.\n",
      "3. Heat the vegetable oil in a large skillet over medium-high heat.\n",
      "4. Add the minced garlic and grated ginger to the skillet and sauté for about 30 seconds until fragrant.\n",
      "5. Add the chicken pieces to the skillet and cook until browned on all sides, about 5-7 minutes.\n",
      "6. Pour the soy sauce mixture over the chicken and stir to coat.\n",
      "7. Reduce the heat to low and simmer for another 5-7 minutes, or until the sauce has thickened and the chicken is cooked through.\n",
      "8. Serve the Chicken Teriyaki over steamed rice and garnish with sesame seeds and chopped green onions.\n",
      "\n",
      "Enjoy your homemade Chicken Teriyaki! Let me know if you have any other Japanese dishes in mind that you'd like to try."
     ]
    },
    {
     "data": {
      "text/plain": [
       "AIMessage(content=\"Great choice! How about trying to make some delicious Chicken Teriyaki? Here's a simple recipe for you to follow:\\n\\nIngredients:\\n- 2 boneless, skinless chicken breasts\\n- 1/4 cup soy sauce\\n- 1/4 cup mirin (Japanese sweet rice wine)\\n- 2 tablespoons sugar\\n- 1 tablespoon vegetable oil\\n- 1 clove garlic, minced\\n- 1 teaspoon grated ginger\\n- Sesame seeds and chopped green onions for garnish\\n\\nInstructions:\\n1. Slice the chicken breasts into thin strips or bite-sized pieces.\\n2. In a small bowl, mix together the soy sauce, mirin, and sugar until the sugar is dissolved.\\n3. Heat the vegetable oil in a large skillet over medium-high heat.\\n4. Add the minced garlic and grated ginger to the skillet and sauté for about 30 seconds until fragrant.\\n5. Add the chicken pieces to the skillet and cook until browned on all sides, about 5-7 minutes.\\n6. Pour the soy sauce mixture over the chicken and stir to coat.\\n7. Reduce the heat to low and simmer for another 5-7 minutes, or until the sauce has thickened and the chicken is cooked through.\\n8. Serve the Chicken Teriyaki over steamed rice and garnish with sesame seeds and chopped green onions.\\n\\nEnjoy your homemade Chicken Teriyaki! Let me know if you have any other Japanese dishes in mind that you'd like to try.\", response_metadata={'finish_reason': 'stop'}, id='run-36210184-04b9-48e0-a81d-3cbe3588aa99-0')"
      ]
     },
     "execution_count": 33,
     "metadata": {},
     "output_type": "execute_result"
    }
   ],
   "source": [
    "chef_chain.invoke({\n",
    "    \"cuisine\" : \"Japen\"\n",
    "})"
   ]
  },
  {
   "cell_type": "code",
   "execution_count": 34,
   "metadata": {},
   "outputs": [],
   "source": [
    "veg_chef_prompt = ChatPromptTemplate.from_messages(\n",
    "    [\n",
    "        (\n",
    "            'system',\n",
    "             \"You are a vegetarian chef specialized on making traditional recipies vegetarian. You find alternative ingredients and explain their preparation. You don't radically modify the recipe. If there is no alternative for a food just say you don't know how to replace it.\",\n",
    "        ),\n",
    "            \"human\", \"{recipe}\",\n",
    "    ]\n",
    ")\n",
    "\n",
    "veg_chain = veg_chef_prompt | chat"
   ]
  },
  {
   "cell_type": "code",
   "execution_count": 35,
   "metadata": {},
   "outputs": [],
   "source": [
    "final_chain = {\"recipe\" : chef_chain} | veg_chain # 체인연결 실습"
   ]
  },
  {
   "cell_type": "code",
   "execution_count": 36,
   "metadata": {},
   "outputs": [
    {
     "name": "stdout",
     "output_type": "stream",
     "text": [
      "Korean cuisine is known for its bold flavors and unique ingredients. One popular Korean dish that you can easily make at home is Bibimbap. Bibimbap is a delicious and colorful mixed rice dish that is topped with an assortment of vegetables, meat, and a spicy sauce. Here's a simple recipe for Bibimbap that you can try:\n",
      "\n",
      "Ingredients:\n",
      "- 2 cups cooked white rice\n",
      "- 1 carrot, julienned\n",
      "- 1 zucchini, julienned\n",
      "- 1 cup spinach\n",
      "- 1 cup bean sprouts\n",
      "- 200g beef (you can also use chicken or tofu as a substitute)\n",
      "- 2 cloves garlic, minced\n",
      "- 2 tbsp soy sauce\n",
      "- 1 tbsp sesame oil\n",
      "- 1 tbsp gochujang (Korean red chili paste)\n",
      "- 1 tbsp vegetable oil\n",
      "- Salt and pepper to taste\n",
      "- Sesame seeds for garnish\n",
      "- Fried egg (optional)\n",
      "\n",
      "Instructions:\n",
      "1. Marinate the beef: In a bowl, mix the beef with minced garlic, soy sauce, sesame oil, salt, and pepper. Let it marinate for at least 30 minutes.\n",
      "2. Prepare the vegetables: Blanch the spinach and bean sprouts in boiling water for a few seconds, then rinse with cold water and squeeze out excess water. Sauté the carrot and zucchini in a pan with a little vegetable oil until slightly softened. Set aside.\n",
      "3. Cook the marinated beef: In the same pan, cook the marinated beef over medium-high heat until cooked through. Set aside.\n",
      "4. Assemble the Bibimbap: In a bowl, place a serving of cooked rice at the bottom. Arrange the cooked vegetables and beef on top of the rice.\n",
      "5. Make the sauce: In a small bowl, mix together gochujang, sesame oil, and a little water to make a spicy sauce. Adjust the spiciness to your liking.\n",
      "6. Serve: Drizzle the spicy sauce over the Bibimbap and garnish with sesame seeds. You can also top it with a fried egg if desired.\n",
      "7. Mix everything together before eating to enjoy all the flavors combined.\n",
      "\n",
      "Enjoy your homemade Bibimbap! It's a delicious and satisfying Korean dish that you can easily customize with your favorite ingredients.For a vegetarian version of Bibimbap, you can easily substitute the beef with tofu. Here's how you can prepare the tofu as a substitute for the beef in this recipe:\n",
      "\n",
      "Ingredients:\n",
      "- 200g firm tofu, pressed and cubed\n",
      "- 2 cloves garlic, minced\n",
      "- 2 tbsp soy sauce\n",
      "- 1 tbsp sesame oil\n",
      "- 1 tbsp vegetable oil\n",
      "- Salt and pepper to taste\n",
      "\n",
      "Instructions:\n",
      "1. Press the tofu: To remove excess moisture from the tofu, wrap it in a clean kitchen towel or paper towels and place a heavy object on top. Let it sit for about 15-20 minutes.\n",
      "2. Marinate the tofu: In a bowl, mix the cubed tofu with minced garlic, soy sauce, sesame oil, salt, and pepper. Let it marinate for at least 30 minutes.\n",
      "3. Cook the tofu: In a pan, heat vegetable oil over medium-high heat. Add the marinated tofu and cook until golden brown on all sides.\n",
      "4. Set aside the cooked tofu and use it as a substitute for the beef in the Bibimbap recipe.\n",
      "\n",
      "By following these steps, you can enjoy a delicious vegetarian Bibimbap with tofu as a protein-rich alternative to the traditional beef topping."
     ]
    },
    {
     "data": {
      "text/plain": [
       "AIMessage(content=\"For a vegetarian version of Bibimbap, you can easily substitute the beef with tofu. Here's how you can prepare the tofu as a substitute for the beef in this recipe:\\n\\nIngredients:\\n- 200g firm tofu, pressed and cubed\\n- 2 cloves garlic, minced\\n- 2 tbsp soy sauce\\n- 1 tbsp sesame oil\\n- 1 tbsp vegetable oil\\n- Salt and pepper to taste\\n\\nInstructions:\\n1. Press the tofu: To remove excess moisture from the tofu, wrap it in a clean kitchen towel or paper towels and place a heavy object on top. Let it sit for about 15-20 minutes.\\n2. Marinate the tofu: In a bowl, mix the cubed tofu with minced garlic, soy sauce, sesame oil, salt, and pepper. Let it marinate for at least 30 minutes.\\n3. Cook the tofu: In a pan, heat vegetable oil over medium-high heat. Add the marinated tofu and cook until golden brown on all sides.\\n4. Set aside the cooked tofu and use it as a substitute for the beef in the Bibimbap recipe.\\n\\nBy following these steps, you can enjoy a delicious vegetarian Bibimbap with tofu as a protein-rich alternative to the traditional beef topping.\", response_metadata={'finish_reason': 'stop'}, id='run-12c9ceff-67c6-4331-bfb6-41717823298f-0')"
      ]
     },
     "execution_count": 36,
     "metadata": {},
     "output_type": "execute_result"
    }
   ],
   "source": [
    "final_chain.invoke({\n",
    "    \"cuisine\" : \"Korea\"\n",
    "})"
   ]
  },
  {
   "cell_type": "code",
   "execution_count": 45,
   "metadata": {},
   "outputs": [],
   "source": [
    "translate = ChatPromptTemplate.from_messages(\n",
    "    [\n",
    "        (\n",
    "            \"system\", \n",
    "            \"Your an world-class professional translator, translate the recipe into Korean\"\n",
    "        ),\n",
    "        (\n",
    "            \"human\", \"{recipe}\"\n",
    "        )\n",
    "    ]\n",
    ")\n",
    "\n",
    "translate_chain = translate | chat"
   ]
  },
  {
   "cell_type": "code",
   "execution_count": 46,
   "metadata": {},
   "outputs": [],
   "source": [
    "translate_chain = translate | chat"
   ]
  },
  {
   "cell_type": "code",
   "execution_count": 47,
   "metadata": {},
   "outputs": [],
   "source": [
    "recipe_chain = {\"recipe\" : chef_chain} | veg_chain # 체인연결 실습"
   ]
  },
  {
   "cell_type": "code",
   "execution_count": 48,
   "metadata": {},
   "outputs": [],
   "source": [
    "final_chain = chef_chain | veg_chain | translate_chain"
   ]
  },
  {
   "cell_type": "code",
   "execution_count": 49,
   "metadata": {},
   "outputs": [
    {
     "name": "stdout",
     "output_type": "stream",
     "text": [
      "Great choice! How about trying to make Bibimbap? It's a delicious and colorful Korean mixed rice dish that is packed with flavor. Here's a simple recipe for you to try:\n",
      "\n",
      "Ingredients:\n",
      "- 2 cups cooked white rice\n",
      "- 1 carrot, julienned\n",
      "- 1 zucchini, julienned\n",
      "- 1 cup bean sprouts\n",
      "- 1 cup spinach\n",
      "- 4 shiitake mushrooms, sliced\n",
      "- 1/2 pound beef (you can use ribeye or sirloin), thinly sliced\n",
      "- 4 eggs\n",
      "- 4 tablespoons gochujang (Korean red chili paste)\n",
      "- 2 tablespoons soy sauce\n",
      "- 2 tablespoons sesame oil\n",
      "- 2 cloves garlic, minced\n",
      "- Salt and pepper to taste\n",
      "- Sesame seeds for garnish\n",
      "- Vegetable oil for cooking\n",
      "\n",
      "Instructions:\n",
      "1. Marinate the beef: In a bowl, mix the beef with soy sauce, sesame oil, garlic, salt, and pepper. Let it marinate for at least 30 minutes.\n",
      "2. Cook the vegetables: In separate pots of boiling water, blanch the bean sprouts, spinach, and carrots until just cooked. Drain and set aside.\n",
      "3. In a pan, sauté the zucchini and shiitake mushrooms with a little vegetable oil until cooked. Set aside.\n",
      "4. Cook the marinated beef in a hot pan until browned and cooked through. Set aside.\n",
      "5. Fry the eggs sunny side up or to your liking.\n",
      "6. To assemble the bibimbap, divide the rice into four bowls. Arrange the cooked vegetables, beef, and fried egg on top of the rice.\n",
      "7. Serve with a dollop of gochujang on the side.\n",
      "8. Mix everything together before eating, making sure the gochujang is evenly distributed.\n",
      "9. Garnish with sesame seeds before serving.\n",
      "\n",
      "Enjoy your homemade Bibimbap! It's a delicious and satisfying meal that's perfect for any day of the week.For a vegetarian version of Bibimbap, you can make a few simple swaps to replace the meat in the recipe:\n",
      "\n",
      "1. Instead of using beef, you can substitute it with tofu or tempeh. Both tofu and tempeh are great sources of plant-based protein and can absorb flavors well when marinated. \n",
      "\n",
      "To prepare tofu or tempeh as a replacement for beef in Bibimbap:\n",
      "- For tofu: Press the tofu to remove excess water, then cut it into thin slices or cubes. Marinate the tofu in a mixture of soy sauce, sesame oil, garlic, salt, and pepper for at least 30 minutes before cooking.\n",
      "- For tempeh: Cut the tempeh into thin slices or cubes. You can also marinate tempeh in a similar mixture as tofu for added flavor.\n",
      "\n",
      "Follow the same cooking instructions for the marinated tofu or tempeh as you would for the beef in the recipe. Sauté or cook the tofu or tempeh until browned and cooked through before assembling your vegetarian Bibimbap.\n",
      "\n",
      "By making this simple swap, you can enjoy a delicious vegetarian version of Bibimbap that is just as flavorful and satisfying as the original dish!채식주의자용 비빔밥 레시피를 만들기 위해 고기를 대체할 수 있는 몇 가지 간단한 교체품을 사용할 수 있습니다:\n",
      "\n",
      "1. 소고기 대신 두부나 템페를 대체할 수 있습니다. 두부와 템페는 모두 식물성 단백질의 좋은 원천이며, 양념에 잘 흡수되어 훌륭한 맛을 낼 수 있습니다.\n",
      "\n",
      "비빔밥에 소고기를 대체하기 위해 두부나 템페를 준비하는 방법:\n",
      "- 두부: 두부를 압착하여 물기를 제거한 후 얇게 썰거나 작은 조각으로 자릅니다. 두부를 대파, 참기름, 마늘, 소금, 후추가 섞인 양념에 적어도 30분 동안 재워주세요.\n",
      "- 템페: 템페를 얇게 썰거나 작은 조각으로 자릅니다. 템페도 두부와 비슷한 양념에 재워 맛을 더할 수 있습니다.\n",
      "\n",
      "양념에 재운 두부나 템페를 소고기와 같은 요리 지침에 따라 조리하세요. 두부나 템페를 볶거나 익힌 후 채식주의자용 비빔밥을 조리하기 전에 재료로 사용하세요.\n",
      "\n",
      "이 간단한 교체로 인해 원래 요리와 마찬가지로 맛있고 만족스러운 채식주의자용 비빔밥을 즐길 수 있습니다!"
     ]
    },
    {
     "data": {
      "text/plain": [
       "AIMessage(content='채식주의자용 비빔밥 레시피를 만들기 위해 고기를 대체할 수 있는 몇 가지 간단한 교체품을 사용할 수 있습니다:\\n\\n1. 소고기 대신 두부나 템페를 대체할 수 있습니다. 두부와 템페는 모두 식물성 단백질의 좋은 원천이며, 양념에 잘 흡수되어 훌륭한 맛을 낼 수 있습니다.\\n\\n비빔밥에 소고기를 대체하기 위해 두부나 템페를 준비하는 방법:\\n- 두부: 두부를 압착하여 물기를 제거한 후 얇게 썰거나 작은 조각으로 자릅니다. 두부를 대파, 참기름, 마늘, 소금, 후추가 섞인 양념에 적어도 30분 동안 재워주세요.\\n- 템페: 템페를 얇게 썰거나 작은 조각으로 자릅니다. 템페도 두부와 비슷한 양념에 재워 맛을 더할 수 있습니다.\\n\\n양념에 재운 두부나 템페를 소고기와 같은 요리 지침에 따라 조리하세요. 두부나 템페를 볶거나 익힌 후 채식주의자용 비빔밥을 조리하기 전에 재료로 사용하세요.\\n\\n이 간단한 교체로 인해 원래 요리와 마찬가지로 맛있고 만족스러운 채식주의자용 비빔밥을 즐길 수 있습니다!', response_metadata={'finish_reason': 'stop'}, id='run-71705b45-6233-4f5c-9ca8-dccb339ba017-0')"
      ]
     },
     "execution_count": 49,
     "metadata": {},
     "output_type": "execute_result"
    }
   ],
   "source": [
    "final_chain.invoke({\"cuisine\" : \"Korea\"})"
   ]
  },
  {
   "cell_type": "code",
   "execution_count": null,
   "metadata": {},
   "outputs": [],
   "source": []
  }
 ],
 "metadata": {
  "kernelspec": {
   "display_name": "env",
   "language": "python",
   "name": "python3"
  },
  "language_info": {
   "codemirror_mode": {
    "name": "ipython",
    "version": 3
   },
   "file_extension": ".py",
   "mimetype": "text/x-python",
   "name": "python",
   "nbconvert_exporter": "python",
   "pygments_lexer": "ipython3",
   "version": "3.12.2"
  }
 },
 "nbformat": 4,
 "nbformat_minor": 2
}
