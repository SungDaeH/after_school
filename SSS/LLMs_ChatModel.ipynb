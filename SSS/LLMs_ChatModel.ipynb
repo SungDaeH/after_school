{
 "cells": [
  {
   "cell_type": "code",
   "execution_count": 5,
   "metadata": {},
   "outputs": [],
   "source": [
    "from langchain_openai import OpenAI\n",
    "from langchain_openai import ChatOpenAI"
   ]
  },
  {
   "cell_type": "code",
   "execution_count": 13,
   "metadata": {},
   "outputs": [],
   "source": [
    "llm = OpenAI(temperature = 0.1) # text-davinch-003 = LLM\n",
    "chat = ChatOpenAI(temperature= 0.1) # gpt-3.5-turbo = ChatModel\n",
    "chat_4 = ChatOpenAI(temperature=0.1, model = \"gpt-4\") # gpt-4 = ChatModel"
   ]
  },
  {
   "cell_type": "code",
   "execution_count": 15,
   "metadata": {},
   "outputs": [],
   "source": [
    "a = llm.predict(\"How many planets are there?\")\n",
    "b = chat.predict(\"How many planets are there?\")\n",
    "c = chat_4.predict(\"How many planets are there?\")"
   ]
  },
  {
   "cell_type": "code",
   "execution_count": 16,
   "metadata": {},
   "outputs": [
    {
     "name": "stdout",
     "output_type": "stream",
     "text": [
      "\n",
      "\n",
      "As of 2021, there are eight planets in our solar system: Mercury, Venus, Earth, Mars, Jupiter, Saturn, Uranus, and Neptune. However, there may be more planets in other solar systems beyond our own.\n",
      "There are eight planets in our solar system: Mercury, Venus, Earth, Mars, Jupiter, Saturn, Uranus, and Neptune.\n",
      "As of current understanding, there are 8 planets in our solar system.\n"
     ]
    }
   ],
   "source": [
    "print(a)\n",
    "print(b)\n",
    "print(c)"
   ]
  },
  {
   "cell_type": "code",
   "execution_count": null,
   "metadata": {},
   "outputs": [],
   "source": [
    "m"
   ]
  },
  {
   "cell_type": "code",
   "execution_count": null,
   "metadata": {},
   "outputs": [],
   "source": [
    "m"
   ]
  },
  {
   "cell_type": "markdown",
   "metadata": {},
   "source": [
    "# predict message"
   ]
  },
  {
   "cell_type": "code",
   "execution_count": 33,
   "metadata": {},
   "outputs": [
    {
     "data": {
      "text/plain": [
       "'What is the distance between Seoul and New York. Also, what is your name?'"
      ]
     },
     "execution_count": 33,
     "metadata": {},
     "output_type": "execute_result"
    }
   ],
   "source": [
    "from langchain_openai import ChatOpenAI\n",
    "from langchain_core.prompts import PromptTemplate, ChatPromptTemplate\n",
    "\n",
    "# PromptTemplate : from string\n",
    "# ChatPromptTemplate : from message\n",
    "\n",
    "template = PromptTemplate.from_template(\"What is the distance between {capital_a} and {capital_b}. Also, what is your name?\")\n",
    "\n",
    "\n",
    "chat = ChatOpenAI(temperature=0.1, model = 'gpt-3.5-turbo')\n",
    "template.format(capital_a = \"Seoul\", capital_b = \"New York\")"
   ]
  },
  {
   "cell_type": "code",
   "execution_count": 18,
   "metadata": {},
   "outputs": [],
   "source": [
    "# from langchain_core.messages import HumanMessage, AIMessage, SystemMessage"
   ]
  },
  {
   "cell_type": "code",
   "execution_count": 42,
   "metadata": {},
   "outputs": [],
   "source": [
    "template = ChatPromptTemplate.from_messages([\n",
    "    (\"system\", \"You are a geography expert. And you only reply in {language}.\"),\n",
    "    (\"ai\", \"안녕 내 이름은 {name}!\"),\n",
    "    (\"human\", \"What is the distance between {capital_a} and {capital_b}. Also, what is your name?\"),\n",
    "])\n"
   ]
  },
  {
   "cell_type": "code",
   "execution_count": 49,
   "metadata": {},
   "outputs": [],
   "source": [
    "# chat.predict_messages(message)\n",
    "\n",
    "prompt = template.format_messages(\n",
    "    language = \"Korean\",\n",
    "    name = \"Sungdae\",\n",
    "    capital_a = \"busan\",\n",
    "    capital_b = \"Seoul\"\n",
    ")"
   ]
  },
  {
   "cell_type": "code",
   "execution_count": 50,
   "metadata": {},
   "outputs": [
    {
     "data": {
      "text/plain": [
       "AIMessage(content='부산과 서울 사이의 거리는 약 325km입니다. 제 이름은 성대입니다.', response_metadata={'token_usage': {'completion_tokens': 28, 'prompt_tokens': 55, 'total_tokens': 83}, 'model_name': 'gpt-3.5-turbo', 'system_fingerprint': None, 'finish_reason': 'stop', 'logprobs': None}, id='run-5c1d8c1c-5587-49c2-922f-764cb8c3a95d-0', usage_metadata={'input_tokens': 55, 'output_tokens': 28, 'total_tokens': 83})"
      ]
     },
     "execution_count": 50,
     "metadata": {},
     "output_type": "execute_result"
    }
   ],
   "source": [
    "chat.predict_messages(prompt)"
   ]
  },
  {
   "cell_type": "code",
   "execution_count": 23,
   "metadata": {},
   "outputs": [],
   "source": [
    "from langchain_core.messages import HumanMessage, AIMessage, SystemMessage\n",
    "\n",
    "messages = [\n",
    "    SystemMessage(content=\"You are a geography expert. And you only reply in Korean.\"),\n",
    "    AIMessage(content=\"Hi, my name is jack\"),\n",
    "    HumanMessage(content=\"What is the distance between Seoul and New York. Also, what is your name?\"),\n",
    "]"
   ]
  },
  {
   "cell_type": "code",
   "execution_count": 24,
   "metadata": {},
   "outputs": [
    {
     "data": {
      "text/plain": [
       "AIMessage(content='서울과 뉴욕 사이의 거리는 약 11,000km입니다. 저는 지리 전문가로, 이름은 공개되지 않습니다. 어떤 다른 질문이 있나요?', response_metadata={'token_usage': {'completion_tokens': 60, 'prompt_tokens': 51, 'total_tokens': 111}, 'model_name': 'gpt-3.5-turbo', 'system_fingerprint': None, 'finish_reason': 'stop', 'logprobs': None}, id='run-0ddc1092-43a0-40eb-bf56-23c88a5e390b-0', usage_metadata={'input_tokens': 51, 'output_tokens': 60, 'total_tokens': 111})"
      ]
     },
     "execution_count": 24,
     "metadata": {},
     "output_type": "execute_result"
    }
   ],
   "source": [
    "chat.predict_messages(messages)"
   ]
  },
  {
   "cell_type": "code",
   "execution_count": null,
   "metadata": {},
   "outputs": [],
   "source": []
  }
 ],
 "metadata": {
  "kernelspec": {
   "display_name": "env",
   "language": "python",
   "name": "python3"
  },
  "language_info": {
   "codemirror_mode": {
    "name": "ipython",
    "version": 3
   },
   "file_extension": ".py",
   "mimetype": "text/x-python",
   "name": "python",
   "nbconvert_exporter": "python",
   "pygments_lexer": "ipython3",
   "version": "3.12.2"
  }
 },
 "nbformat": 4,
 "nbformat_minor": 2
}
