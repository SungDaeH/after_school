{
 "cells": [
  {
   "cell_type": "code",
   "execution_count": 14,
   "metadata": {},
   "outputs": [],
   "source": [
    "# 시험 예정\n",
    "\n",
    "from langchain_openai import ChatOpenAI\n",
    "from langchain_core.prompts import ChatPromptTemplate\n",
    "from langchain_core.callbacks import  StreamingStdOutCallbackHandler\n",
    "\n",
    "chat = ChatOpenAI(\n",
    "    temperature=0.1,\n",
    "    # model=\"gpt-3.5\",\n",
    "    streaming= True,\n",
    "    callbacks=[\n",
    "        StreamingStdOutCallbackHandler(),\n",
    "    ]\n",
    ")\n",
    "\n",
    "chef_prompt = ChatPromptTemplate.from_messages(\n",
    "    [\n",
    "        (\n",
    "            \"system\",\n",
    "            \"You are a world-class international chef. You create easy to follow recipies for any type of cuisine with easy to find ingredients.\",\n",
    "        ),\n",
    "        (\n",
    "            \"human\", \"I want to cook {cuisine} food.\",\n",
    "        )\n",
    "    ]\n",
    ")\n",
    "\n",
    "chef_chain = chef_prompt | chat"
   ]
  },
  {
   "cell_type": "code",
   "execution_count": 15,
   "metadata": {},
   "outputs": [
    {
     "name": "stdout",
     "output_type": "stream",
     "text": [
      "How about trying to make a delicious and comforting Korean dish called Japchae? Japchae is a popular Korean stir-fried noodle dish made with sweet potato starch noodles, vegetables, and meat. It's flavorful, colorful, and perfect for a satisfying meal. Here's a simple recipe for you to try at home:\n",
      "\n",
      "Ingredients:\n",
      "- 200g sweet potato starch noodles (also known as glass noodles)\n",
      "- 1 small onion, thinly sliced\n",
      "- 1 carrot, julienned\n",
      "- 1 red bell pepper, julienned\n",
      "- 2-3 shiitake mushrooms, sliced\n",
      "- 100g spinach\n",
      "- 200g beef (you can also use chicken, pork, or tofu as a substitute)\n",
      "- 2 cloves of garlic, minced\n",
      "- 2 tablespoons soy sauce\n",
      "- 1 tablespoon sesame oil\n",
      "- 1 tablespoon sugar\n",
      "- Salt and pepper to taste\n",
      "- Toasted sesame seeds for garnish\n",
      "- Vegetable oil for cooking\n",
      "\n",
      "Instructions:\n",
      "1. Cook the sweet potato starch noodles according to the package instructions. Drain and rinse the noodles under cold water to stop the cooking process. Set aside.\n",
      "2. In a small bowl, mix together the soy sauce, sesame oil, sugar, minced garlic, salt, and pepper. Marinate the beef in this mixture for about 15-20 minutes.\n",
      "3. Heat some vegetable oil in a large pan or wok over medium-high heat. Add the marinated beef and stir-fry until cooked through. Remove the beef from the pan and set aside.\n",
      "4. In the same pan, add a little more oil if needed and stir-fry the onion, carrot, bell pepper, and shiitake mushrooms until they are slightly softened.\n",
      "5. Add the spinach to the pan and cook until wilted. Return the cooked beef to the pan.\n",
      "6. Add the cooked noodles to the pan and pour the remaining marinade over the noodles and vegetables. Stir-fry everything together until well combined and heated through.\n",
      "7. Taste and adjust the seasoning if needed with more soy sauce, sugar, salt, or pepper.\n",
      "8. Remove the pan from the heat and transfer the Japchae to a serving dish.\n",
      "9. Garnish with toasted sesame seeds before serving.\n",
      "\n",
      "Enjoy your homemade Japchae! It's a versatile dish that you can customize with your favorite vegetables and protein."
     ]
    },
    {
     "data": {
      "text/plain": [
       "AIMessage(content=\"How about trying to make a delicious and comforting Korean dish called Japchae? Japchae is a popular Korean stir-fried noodle dish made with sweet potato starch noodles, vegetables, and meat. It's flavorful, colorful, and perfect for a satisfying meal. Here's a simple recipe for you to try at home:\\n\\nIngredients:\\n- 200g sweet potato starch noodles (also known as glass noodles)\\n- 1 small onion, thinly sliced\\n- 1 carrot, julienned\\n- 1 red bell pepper, julienned\\n- 2-3 shiitake mushrooms, sliced\\n- 100g spinach\\n- 200g beef (you can also use chicken, pork, or tofu as a substitute)\\n- 2 cloves of garlic, minced\\n- 2 tablespoons soy sauce\\n- 1 tablespoon sesame oil\\n- 1 tablespoon sugar\\n- Salt and pepper to taste\\n- Toasted sesame seeds for garnish\\n- Vegetable oil for cooking\\n\\nInstructions:\\n1. Cook the sweet potato starch noodles according to the package instructions. Drain and rinse the noodles under cold water to stop the cooking process. Set aside.\\n2. In a small bowl, mix together the soy sauce, sesame oil, sugar, minced garlic, salt, and pepper. Marinate the beef in this mixture for about 15-20 minutes.\\n3. Heat some vegetable oil in a large pan or wok over medium-high heat. Add the marinated beef and stir-fry until cooked through. Remove the beef from the pan and set aside.\\n4. In the same pan, add a little more oil if needed and stir-fry the onion, carrot, bell pepper, and shiitake mushrooms until they are slightly softened.\\n5. Add the spinach to the pan and cook until wilted. Return the cooked beef to the pan.\\n6. Add the cooked noodles to the pan and pour the remaining marinade over the noodles and vegetables. Stir-fry everything together until well combined and heated through.\\n7. Taste and adjust the seasoning if needed with more soy sauce, sugar, salt, or pepper.\\n8. Remove the pan from the heat and transfer the Japchae to a serving dish.\\n9. Garnish with toasted sesame seeds before serving.\\n\\nEnjoy your homemade Japchae! It's a versatile dish that you can customize with your favorite vegetables and protein.\", response_metadata={'finish_reason': 'stop'}, id='run-d82a3345-ac4a-4f90-8614-27d6c890a790-0')"
      ]
     },
     "execution_count": 15,
     "metadata": {},
     "output_type": "execute_result"
    }
   ],
   "source": [
    "chef_chain.invoke(\n",
    "    {\n",
    "        \"cuisine\" : \"Korea(not bibimbab)\"\n",
    "    }\n",
    ")"
   ]
  },
  {
   "cell_type": "code",
   "execution_count": 16,
   "metadata": {},
   "outputs": [],
   "source": [
    "veg_chef_prompt = ChatPromptTemplate.from_messages(\n",
    "    [\n",
    "        (\n",
    "            \"system\",\n",
    "            \"You are a vegetarian chef specialized on making traditional recipies vegetarian. You find alternative ingredients and explain their preparation. You don't radically modify the recipe. If there is no alternative for a food just say you don't know how to replace it.\",\n",
    "        ),\n",
    "        \"human\", \"{recipe}\",\n",
    "    ]\n",
    ")\n",
    "\n",
    "veg_chain = veg_chef_prompt | chat"
   ]
  },
  {
   "cell_type": "code",
   "execution_count": 17,
   "metadata": {},
   "outputs": [],
   "source": [
    "final_chain = {\"recipe\" : chef_chain} | veg_chain"
   ]
  },
  {
   "cell_type": "code",
   "execution_count": 18,
   "metadata": {},
   "outputs": [
    {
     "name": "stdout",
     "output_type": "stream",
     "text": [
      "How about trying to make a delicious and comforting Korean dish called Japchae? Japchae is a popular Korean stir-fried noodle dish made with sweet potato starch noodles, vegetables, and sometimes beef. It's flavorful, colorful, and perfect for a satisfying meal. Here's a simple recipe for you to try at home:\n",
      "\n",
      "Ingredients:\n",
      "- 200g sweet potato starch noodles (also known as glass noodles or dangmyeon)\n",
      "- 1 small carrot, julienned\n",
      "- 1 small onion, thinly sliced\n",
      "- 1 red bell pepper, julienned\n",
      "- 2-3 shiitake mushrooms, thinly sliced\n",
      "- 2 cloves garlic, minced\n",
      "- 200g beef (optional), thinly sliced\n",
      "- 2 tablespoons soy sauce\n",
      "- 1 tablespoon sesame oil\n",
      "- 1 tablespoon sugar\n",
      "- Salt and pepper, to taste\n",
      "- Vegetable oil, for cooking\n",
      "- Toasted sesame seeds, for garnish\n",
      "- Sliced green onions, for garnish\n",
      "\n",
      "Instructions:\n",
      "1. Cook the sweet potato starch noodles according to the package instructions. Drain and rinse the noodles under cold water to stop the cooking process. Set aside.\n",
      "\n",
      "2. In a small bowl, mix together the soy sauce, sesame oil, sugar, minced garlic, salt, and pepper. Marinate the beef (if using) in this mixture for about 15-20 minutes.\n",
      "\n",
      "3. Heat some vegetable oil in a large pan or wok over medium-high heat. Add the marinated beef and stir-fry until cooked through. Remove the beef from the pan and set aside.\n",
      "\n",
      "4. In the same pan, add a little more oil if needed. Stir-fry the onion, carrot, bell pepper, and shiitake mushrooms until they are slightly softened.\n",
      "\n",
      "5. Add the cooked noodles and the beef back into the pan. Pour the remaining marinade over the noodles and vegetables. Stir-fry everything together until well combined and heated through.\n",
      "\n",
      "6. Taste and adjust the seasoning if necessary. You can add more soy sauce, sugar, or sesame oil according to your preference.\n",
      "\n",
      "7. Remove the pan from the heat and transfer the Japchae to a serving dish. Garnish with toasted sesame seeds and sliced green onions.\n",
      "\n",
      "8. Serve the Japchae hot or at room temperature. Enjoy your delicious Korean stir-fried noodles!\n",
      "\n",
      "Feel free to customize this recipe by adding more vegetables or protein of your choice. Japchae makes a great meal on its own or as a side dish to complement other Korean dishes. Enjoy your cooking!For a vegetarian version of Japchae, you can simply omit the beef and make a few adjustments to enhance the flavors. Here are some alternative ingredients and preparation tips:\n",
      "\n",
      "1. **Alternative to Beef**: You can substitute the beef with tofu or tempeh. Both tofu and tempeh are great sources of plant-based protein and can absorb the flavors of the marinade well. Cut the tofu or tempeh into thin slices or cubes and marinate them in the soy sauce, sesame oil, garlic, sugar, salt, and pepper mixture for about 15-20 minutes before stir-frying.\n",
      "\n",
      "2. **Enhancing the Flavor**: Since you are omitting the beef, you may want to add some umami-rich ingredients to enhance the flavor profile of the dish. Consider adding a splash of vegetarian oyster sauce or a sprinkle of nutritional yeast to the marinade for that savory depth.\n",
      "\n",
      "3. **Vegetarian Oyster Sauce**: If you can't find vegetarian oyster sauce at your local store, you can make a homemade version by combining soy sauce, mushroom powder, sugar, and a touch of sesame oil. Adjust the quantities to taste.\n",
      "\n",
      "4. **Additional Vegetables**: Feel free to add more vegetables to the dish to make it even more colorful and nutritious. You can include vegetables like spinach, zucchini, snap peas, or kale. Just ensure they are thinly sliced or julienned for quick stir-frying.\n",
      "\n",
      "5. **Garnish**: Instead of garnishing with beef, you can top your Japchae with toasted sesame seeds, sliced green onions, and maybe some crushed peanuts for added texture.\n",
      "\n",
      "By making these simple swaps and additions, you can create a delicious vegetarian version of Japchae that is just as flavorful and satisfying as the traditional recipe. Enjoy your cooking!"
     ]
    },
    {
     "data": {
      "text/plain": [
       "AIMessage(content=\"For a vegetarian version of Japchae, you can simply omit the beef and make a few adjustments to enhance the flavors. Here are some alternative ingredients and preparation tips:\\n\\n1. **Alternative to Beef**: You can substitute the beef with tofu or tempeh. Both tofu and tempeh are great sources of plant-based protein and can absorb the flavors of the marinade well. Cut the tofu or tempeh into thin slices or cubes and marinate them in the soy sauce, sesame oil, garlic, sugar, salt, and pepper mixture for about 15-20 minutes before stir-frying.\\n\\n2. **Enhancing the Flavor**: Since you are omitting the beef, you may want to add some umami-rich ingredients to enhance the flavor profile of the dish. Consider adding a splash of vegetarian oyster sauce or a sprinkle of nutritional yeast to the marinade for that savory depth.\\n\\n3. **Vegetarian Oyster Sauce**: If you can't find vegetarian oyster sauce at your local store, you can make a homemade version by combining soy sauce, mushroom powder, sugar, and a touch of sesame oil. Adjust the quantities to taste.\\n\\n4. **Additional Vegetables**: Feel free to add more vegetables to the dish to make it even more colorful and nutritious. You can include vegetables like spinach, zucchini, snap peas, or kale. Just ensure they are thinly sliced or julienned for quick stir-frying.\\n\\n5. **Garnish**: Instead of garnishing with beef, you can top your Japchae with toasted sesame seeds, sliced green onions, and maybe some crushed peanuts for added texture.\\n\\nBy making these simple swaps and additions, you can create a delicious vegetarian version of Japchae that is just as flavorful and satisfying as the traditional recipe. Enjoy your cooking!\", response_metadata={'finish_reason': 'stop'}, id='run-41b251bc-3171-4533-ab1f-9014f003b3b0-0')"
      ]
     },
     "execution_count": 18,
     "metadata": {},
     "output_type": "execute_result"
    }
   ],
   "source": [
    "final_chain.invoke(\n",
    "    {\n",
    "        \"cuisine\" : \"Korea(not bibimbap)\",\n",
    "    }\n",
    ")"
   ]
  },
  {
   "cell_type": "code",
   "execution_count": null,
   "metadata": {},
   "outputs": [],
   "source": []
  },
  {
   "cell_type": "code",
   "execution_count": null,
   "metadata": {},
   "outputs": [],
   "source": []
  },
  {
   "cell_type": "code",
   "execution_count": null,
   "metadata": {},
   "outputs": [],
   "source": []
  }
 ],
 "metadata": {
  "kernelspec": {
   "display_name": "env",
   "language": "python",
   "name": "python3"
  },
  "language_info": {
   "codemirror_mode": {
    "name": "ipython",
    "version": 3
   },
   "file_extension": ".py",
   "mimetype": "text/x-python",
   "name": "python",
   "nbconvert_exporter": "python",
   "pygments_lexer": "ipython3",
   "version": "3.12.2"
  }
 },
 "nbformat": 4,
 "nbformat_minor": 2
}
