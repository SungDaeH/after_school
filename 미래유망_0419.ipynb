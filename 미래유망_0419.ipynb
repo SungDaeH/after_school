{
 "cells": [
  {
   "cell_type": "markdown",
   "id": "e9bc2fba",
   "metadata": {},
   "source": [
    "for문 사용"
   ]
  },
  {
   "cell_type": "code",
   "execution_count": 2,
   "id": "aad62d1a",
   "metadata": {},
   "outputs": [
    {
     "name": "stdout",
     "output_type": "stream",
     "text": [
      "1 2 3 4 5 6 7 8 9 10 "
     ]
    }
   ],
   "source": [
    "# 1번 문제\n",
    "\n",
    "for i in range(1, 10+1):\n",
    "    print(i, end=' ')"
   ]
  },
  {
   "cell_type": "code",
   "execution_count": 4,
   "id": "419bd780",
   "metadata": {},
   "outputs": [
    {
     "name": "stdout",
     "output_type": "stream",
     "text": [
      "2 4 6 8 10 "
     ]
    }
   ],
   "source": [
    "# 2번 문제\n",
    "\n",
    "for i in range(1, 11):\n",
    "    if i % 2 == 0 : \n",
    "        print(i, end = \" \")"
   ]
  },
  {
   "cell_type": "code",
   "execution_count": 5,
   "id": "77e1569c",
   "metadata": {
    "scrolled": true
   },
   "outputs": [
    {
     "name": "stdout",
     "output_type": "stream",
     "text": [
      "9\n",
      "9 x 1 = 9\n",
      "9 x 2 = 18\n",
      "9 x 3 = 27\n",
      "9 x 4 = 36\n",
      "9 x 5 = 45\n",
      "9 x 6 = 54\n",
      "9 x 7 = 63\n",
      "9 x 8 = 72\n",
      "9 x 9 = 81\n"
     ]
    }
   ],
   "source": [
    "# 3번 문제\n",
    "\n",
    "num = int(input())\n",
    "\n",
    "for i in range(1, 10):\n",
    "    print(f'{num} x {i} = {num*i}')"
   ]
  },
  {
   "cell_type": "code",
   "execution_count": 8,
   "id": "91a2c918",
   "metadata": {},
   "outputs": [
    {
     "name": "stdout",
     "output_type": "stream",
     "text": [
      "1683\n"
     ]
    }
   ],
   "source": [
    "# 4번 문제\n",
    "\n",
    "num = 0\n",
    "\n",
    "for i in range(1, 100):\n",
    "    if i % 3 == 0 :\n",
    "        num += i\n",
    "print(num)"
   ]
  },
  {
   "cell_type": "code",
   "execution_count": 34,
   "id": "d5329ec6",
   "metadata": {},
   "outputs": [
    {
     "name": "stdout",
     "output_type": "stream",
     "text": [
      "7\n",
      "7은(는) 소수입니다.\n"
     ]
    }
   ],
   "source": [
    "# 5번 문제\n",
    "num = int(input())\n",
    "\n",
    "if num > 1 :\n",
    "    for i in range(2, num // 2 + 1):\n",
    "        if (num%i) == 0:\n",
    "            print(f'{num}은(는) 소수가 아닙니다.')\n",
    "            break\n",
    "    else:\n",
    "        print(f'{num}은(는) 소수입니다.')\n",
    "else : \n",
    "    print(f'{num}은(는) 소수가 아닙니다.')"
   ]
  },
  {
   "cell_type": "markdown",
   "id": "2971ad46",
   "metadata": {},
   "source": [
    "while 문"
   ]
  },
  {
   "cell_type": "code",
   "execution_count": 23,
   "id": "4373589b",
   "metadata": {},
   "outputs": [
    {
     "name": "stdout",
     "output_type": "stream",
     "text": [
      "1 2 3 4 5 6 7 8 9 10 "
     ]
    }
   ],
   "source": [
    "# 1번 문제\n",
    "a = 1\n",
    "while a <= 10:\n",
    "    print(a, end=\" \")\n",
    "    a += 1"
   ]
  },
  {
   "cell_type": "code",
   "execution_count": 26,
   "id": "548dbdee",
   "metadata": {},
   "outputs": [
    {
     "name": "stdout",
     "output_type": "stream",
     "text": [
      "2 4 6 8 10 "
     ]
    }
   ],
   "source": [
    "# 2번 문제\n",
    "\n",
    "a = 1\n",
    "\n",
    "while a <= 10:\n",
    "    if a % 2 == 0 :\n",
    "        print(a, end = ' ')\n",
    "    a += 1"
   ]
  },
  {
   "cell_type": "code",
   "execution_count": null,
   "id": "2eebb4dd",
   "metadata": {},
   "outputs": [],
   "source": [
    "# 3번 문제 \n",
    "\n",
    "num = int(input())\n",
    "\n",
    "while "
   ]
  },
  {
   "cell_type": "code",
   "execution_count": null,
   "id": "f6b6eae1",
   "metadata": {},
   "outputs": [],
   "source": [
    "# 4번 문제\n",
    "\n",
    "num = 100\n",
    "\n",
    "while True:\n",
    "    if num % 3 == 0 :\n",
    "        "
   ]
  },
  {
   "cell_type": "code",
   "execution_count": 35,
   "id": "1d6d89ff",
   "metadata": {},
   "outputs": [
    {
     "data": {
      "text/plain": [
       "3"
      ]
     },
     "execution_count": 35,
     "metadata": {},
     "output_type": "execute_result"
    }
   ],
   "source": [
    "def add(a, b):\n",
    "    return a+b\n",
    "\n",
    "c = add(1,2)\n",
    "\n",
    "c"
   ]
  },
  {
   "cell_type": "code",
   "execution_count": 38,
   "id": "67117c99",
   "metadata": {},
   "outputs": [
    {
     "data": {
      "text/plain": [
       "-1"
      ]
     },
     "execution_count": 38,
     "metadata": {},
     "output_type": "execute_result"
    }
   ],
   "source": [
    "def sub(a,b):\n",
    "    return a - b\n",
    "\n",
    "c = sub(1, 2)\n",
    "c"
   ]
  },
  {
   "cell_type": "code",
   "execution_count": 39,
   "id": "ddc2a6b3",
   "metadata": {},
   "outputs": [
    {
     "data": {
      "text/plain": [
       "3"
      ]
     },
     "execution_count": 39,
     "metadata": {},
     "output_type": "execute_result"
    }
   ],
   "source": [
    "def add(a, b = 2): # b의 변수가 없으면 2를 자동 입력해라\n",
    "    return a+b\n",
    "\n",
    "c = add(1)\n",
    "\n",
    "c"
   ]
  },
  {
   "cell_type": "code",
   "execution_count": 41,
   "id": "839cc8d8",
   "metadata": {},
   "outputs": [
    {
     "data": {
      "text/plain": [
       "6"
      ]
     },
     "execution_count": 41,
     "metadata": {},
     "output_type": "execute_result"
    }
   ],
   "source": [
    "def add(a, b):\n",
    "    return a+b\n",
    "\n",
    "def add(a, b, c):\n",
    "    return a+b+c\n",
    "\n",
    "c = add(1,2,3)\n",
    "\n",
    "c"
   ]
  },
  {
   "cell_type": "code",
   "execution_count": 43,
   "id": "6fef8fc2",
   "metadata": {},
   "outputs": [
    {
     "data": {
      "text/plain": [
       "8"
      ]
     },
     "execution_count": 43,
     "metadata": {},
     "output_type": "execute_result"
    }
   ],
   "source": [
    "def cal(ca, a, b):\n",
    "    if ca == '+':\n",
    "        return a + b\n",
    "    elif ca == '-':\n",
    "        return a - b\n",
    "    else : \n",
    "        return False\n",
    "    \n",
    "cal(\"+\", 2, 6)"
   ]
  },
  {
   "cell_type": "code",
   "execution_count": 47,
   "id": "2c9a63fe",
   "metadata": {},
   "outputs": [
    {
     "data": {
      "text/plain": [
       "2"
      ]
     },
     "execution_count": 47,
     "metadata": {},
     "output_type": "execute_result"
    }
   ],
   "source": [
    "a = 1\n",
    "def vartest():\n",
    "    global a\n",
    "    a = a + 1\n",
    "    return a\n",
    "    \n",
    "c = vartest()\n",
    "c "
   ]
  },
  {
   "cell_type": "code",
   "execution_count": 49,
   "id": "7be5f9fc",
   "metadata": {},
   "outputs": [
    {
     "data": {
      "text/plain": [
       "7"
      ]
     },
     "execution_count": 49,
     "metadata": {},
     "output_type": "execute_result"
    }
   ],
   "source": [
    "add = lambda a,b : a+b # def와 비슷하지만 쉬운 함수만 만듦\n",
    "add(2, 5)"
   ]
  },
  {
   "cell_type": "code",
   "execution_count": 52,
   "id": "67d649a2",
   "metadata": {},
   "outputs": [],
   "source": [
    "f = open('hello.txt', 'w') # w = 쓰기 , r = 읽기, a = 앞에 추가하기, f = 뒤에 추가하기\n",
    "\n",
    "for i in range(1, 11):\n",
    "    data = f'%d lines \\n' % i\n",
    "    f.write(data)\n",
    "f.close()"
   ]
  },
  {
   "cell_type": "code",
   "execution_count": 54,
   "id": "66058803",
   "metadata": {},
   "outputs": [
    {
     "name": "stdout",
     "output_type": "stream",
     "text": [
      "1 lines \n",
      " 2 lines \n",
      " 3 lines \n",
      " 4 lines \n",
      " 5 lines \n",
      " 6 lines \n",
      " 7 lines \n",
      " 8 lines \n",
      " 9 lines \n",
      " 10 lines \n",
      " "
     ]
    }
   ],
   "source": [
    "f = open('hello.txt','r')\n",
    "\n",
    "while True : \n",
    "    l = f.readline()\n",
    "    if not l: break\n",
    "    print(l, end=\" \")\n",
    "f.close()"
   ]
  },
  {
   "cell_type": "code",
   "execution_count": 111,
   "id": "a62eef34",
   "metadata": {},
   "outputs": [],
   "source": [
    "class Calculator :\n",
    "    def __init__(self, sum): # 생성자 = 생성할 때 자동으로 생김\n",
    "        self.sum = sum\n",
    "        self.result = 0\n",
    "        \n",
    "    def add(self, num):\n",
    "        self.result += self.sum + num\n",
    "        return self.result\n",
    "    \n",
    "    def sub(self, minus):\n",
    "        self.result += self.sum - minus\n",
    "        return self.result\n",
    "    \n",
    "cal1 = Calculator(3) # 인스턴스 생성 여러가지 생성 가능\n",
    "cal2 = Calculator(4) \n",
    "cal3 = Calculator(100)"
   ]
  },
  {
   "cell_type": "code",
   "execution_count": 63,
   "id": "aff21f78",
   "metadata": {},
   "outputs": [],
   "source": [
    "r1 = cal1.add(3)"
   ]
  },
  {
   "cell_type": "code",
   "execution_count": 64,
   "id": "59ee002b",
   "metadata": {},
   "outputs": [
    {
     "data": {
      "text/plain": [
       "6"
      ]
     },
     "execution_count": 64,
     "metadata": {},
     "output_type": "execute_result"
    }
   ],
   "source": [
    "r1"
   ]
  },
  {
   "cell_type": "code",
   "execution_count": 68,
   "id": "dc26538a",
   "metadata": {},
   "outputs": [
    {
     "data": {
      "text/plain": [
       "32"
      ]
     },
     "execution_count": 68,
     "metadata": {},
     "output_type": "execute_result"
    }
   ],
   "source": [
    "r2 = cal2.add(4)\n",
    "r2"
   ]
  },
  {
   "cell_type": "code",
   "execution_count": 115,
   "id": "b04a6753",
   "metadata": {},
   "outputs": [
    {
     "data": {
      "text/plain": [
       "90"
      ]
     },
     "execution_count": 115,
     "metadata": {},
     "output_type": "execute_result"
    }
   ],
   "source": [
    "r3 = cal3.sub(150)\n",
    "r3"
   ]
  },
  {
   "cell_type": "code",
   "execution_count": null,
   "id": "c08e214a",
   "metadata": {},
   "outputs": [],
   "source": []
  },
  {
   "cell_type": "code",
   "execution_count": null,
   "id": "900c7a78",
   "metadata": {},
   "outputs": [],
   "source": []
  }
 ],
 "metadata": {
  "kernelspec": {
   "display_name": "Python 3 (ipykernel)",
   "language": "python",
   "name": "python3"
  },
  "language_info": {
   "codemirror_mode": {
    "name": "ipython",
    "version": 3
   },
   "file_extension": ".py",
   "mimetype": "text/x-python",
   "name": "python",
   "nbconvert_exporter": "python",
   "pygments_lexer": "ipython3",
   "version": "3.10.9"
  }
 },
 "nbformat": 4,
 "nbformat_minor": 5
}
