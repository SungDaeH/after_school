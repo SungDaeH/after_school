{
 "cells": [
  {
   "cell_type": "markdown",
   "id": "0493c047",
   "metadata": {},
   "source": [
    "자판기 프로그램"
   ]
  },
  {
   "cell_type": "code",
   "execution_count": 20,
   "id": "8572acc1",
   "metadata": {},
   "outputs": [
    {
     "name": "stdout",
     "output_type": "stream",
     "text": [
      "돈을 투입하세요 : 5000\n",
      "음료를 선택해주세요 : (레드불 , 콜라, 사이다, 물) 레드불\n",
      "레드불을/를 구입하셧습니다. 잔액은 1000\n",
      "더 구매하실건가요? : 예\n",
      "음료를 선택해주세요 : (레드불 , 콜라, 사이다, 물) 레드불\n",
      "레드불을/를 구입하셧습니다. 잔액은 -3000\n",
      "더 구매하실건가요? : 예\n"
     ]
    },
    {
     "name": "stderr",
     "output_type": "stream",
     "text": [
      "IOPub data rate exceeded.\n",
      "The notebook server will temporarily stop sending output\n",
      "to the client in order to avoid crashing it.\n",
      "To change this limit, set the config variable\n",
      "`--NotebookApp.iopub_data_rate_limit`.\n",
      "\n",
      "Current values:\n",
      "NotebookApp.iopub_data_rate_limit=1000000.0 (bytes/sec)\n",
      "NotebookApp.rate_limit_window=3.0 (secs)\n",
      "\n"
     ]
    },
    {
     "ename": "KeyboardInterrupt",
     "evalue": "",
     "output_type": "error",
     "traceback": [
      "\u001b[1;31m---------------------------------------------------------------------------\u001b[0m",
      "\u001b[1;31mKeyboardInterrupt\u001b[0m                         Traceback (most recent call last)",
      "Cell \u001b[1;32mIn[20], line 30\u001b[0m\n\u001b[0;32m     28\u001b[0m             \u001b[38;5;28;01mbreak\u001b[39;00m\n\u001b[0;32m     29\u001b[0m \u001b[38;5;28;01melse\u001b[39;00m :\n\u001b[1;32m---> 30\u001b[0m     \u001b[38;5;28;43mprint\u001b[39;49m\u001b[43m(\u001b[49m\u001b[38;5;124;43m\"\u001b[39;49m\u001b[38;5;124;43m잔액이 부족합니다.\u001b[39;49m\u001b[38;5;124;43m\"\u001b[39;49m\u001b[43m)\u001b[49m\n",
      "File \u001b[1;32m~\\anaconda3\\lib\\site-packages\\ipykernel\\iostream.py:563\u001b[0m, in \u001b[0;36mOutStream.write\u001b[1;34m(self, string)\u001b[0m\n\u001b[0;32m    561\u001b[0m         \u001b[38;5;28mself\u001b[39m\u001b[38;5;241m.\u001b[39mpub_thread\u001b[38;5;241m.\u001b[39mschedule(\u001b[38;5;28mself\u001b[39m\u001b[38;5;241m.\u001b[39m_flush)\n\u001b[0;32m    562\u001b[0m     \u001b[38;5;28;01melse\u001b[39;00m:\n\u001b[1;32m--> 563\u001b[0m         \u001b[38;5;28;43mself\u001b[39;49m\u001b[38;5;241;43m.\u001b[39;49m\u001b[43m_schedule_flush\u001b[49m\u001b[43m(\u001b[49m\u001b[43m)\u001b[49m\n\u001b[0;32m    565\u001b[0m \u001b[38;5;28;01mreturn\u001b[39;00m \u001b[38;5;28mlen\u001b[39m(string)\n",
      "\u001b[1;31mKeyboardInterrupt\u001b[0m: "
     ]
    }
   ],
   "source": [
    "machine = [\"레드불\", \"콜라\", \"사이다\", \"물\"]\n",
    "price = [4000, 3000, 2500, 1000]\n",
    "money = int(input(\"돈을 투입하세요 : \"))\n",
    "\n",
    "while True :\n",
    "    if money > 0 :\n",
    "        choice = input(\"음료를 선택해주세요 : (레드불 , 콜라, 사이다, 물) \")\n",
    "        if choice == \"물\":\n",
    "            money -= price[3]\n",
    "            print(f\"물을/를 구입하셧습니다. 잔액은 {money}\")\n",
    "        elif choice == \"사이다\":\n",
    "            money -= price[2]\n",
    "            print(f\"사이다을/를 구입하셧습니다. 잔액은 {money}\")\n",
    "        elif choice == \"콜라\":\n",
    "            money -= price[1]\n",
    "            print(f\"콜라을/를 구입하셧습니다. 잔액은 {money}\")\n",
    "        elif choice == \"레드불\":\n",
    "            money -= price[0]\n",
    "            print(f\"레드불을/를 구입하셧습니다. 잔액은 {money}\")\n",
    "        if money != 0 :\n",
    "            more = input(\"더 구매하실건가요? : \")\n",
    "            if more == \"예\":\n",
    "                if money != 0:\n",
    "                    continue\n",
    "                else :\n",
    "                    print(\"돈을 더 투입하시오\")\n",
    "            elif more == \"아니오\":\n",
    "                break\n",
    "    else :\n",
    "        print(\"잔액이 부족합니다.\")"
   ]
  },
  {
   "cell_type": "code",
   "execution_count": null,
   "id": "f10f5438",
   "metadata": {},
   "outputs": [
    {
     "name": "stdout",
     "output_type": "stream",
     "text": [
      "돈을 투입하시오 : 0\n"
     ]
    },
    {
     "name": "stderr",
     "output_type": "stream",
     "text": [
      "IOPub data rate exceeded.\n",
      "The notebook server will temporarily stop sending output\n",
      "to the client in order to avoid crashing it.\n",
      "To change this limit, set the config variable\n",
      "`--NotebookApp.iopub_data_rate_limit`.\n",
      "\n",
      "Current values:\n",
      "NotebookApp.iopub_data_rate_limit=1000000.0 (bytes/sec)\n",
      "NotebookApp.rate_limit_window=3.0 (secs)\n",
      "\n"
     ]
    }
   ],
   "source": [
    "ls =  [\"1. coffee\", \"2. coke\", \"3. soda\", \"4. water\"]\n",
    "수량 = [3, 2, 3, 5]\n",
    "price = [1500, 3000, 3000, 1000]\n",
    "\n",
    "money = int(input(\"돈을 투입하시오 : \"))\n",
    "\n",
    "while True : \n",
    "    if money > 0 :\n",
    "        choise = int(input(f\"드실 음료를 선택하시오 : {ls}\"))\n",
    "        if choise == 1:\n",
    "            if money >= 1500:\n",
    "                print(\"커피가 나왔습니다. \")\n",
    "                money = money - price[0]\n",
    "                수량[0] -= 1\n",
    "                print(f\"커피의 남은 수량은 {수량[0]}개 입니다.\")\n",
    "                if 수량[0] == 0 :\n",
    "                    print(\"커피의 남은 수량이 없습니다.\\n다른음료를 선택해주세요.\")\n",
    "            else :\n",
    "                print(\"잔액이 부족합니다.\")\n",
    "        elif choise == 2:\n",
    "            if money >= 3000:\n",
    "                print(\"콜라가 나왔습니다. \")\n",
    "                money = money - price[1]\n",
    "                수량[1] -= 1\n",
    "                print(f\"콜라의 남은 수량은 {수량[1]}개 입니다.\")\n",
    "                if 수량[1] == 0 :\n",
    "                    print(\"콜라의 남은 수량이 없습니다.\\n다른음료를 선택해주세요.\")\n",
    "            else :\n",
    "                print(\"잔액이 부족합니다.\")\n",
    "        elif choise == 3:\n",
    "            if money >= 3000:\n",
    "                print(\"사이다가 나왔습니다. \")\n",
    "                money = money - price[2]\n",
    "                수량[2] -= 1\n",
    "                print(f\"사이다의 남은 수량은 {수량[2]}개 입니다.\")\n",
    "                if 수량[2] == 0 :\n",
    "                    print(\"사이다의 남은 수량이 없습니다.\\n다른음료를 선택해주세요.\")\n",
    "            else :\n",
    "                print(\"잔액이 부족합니다.\")\n",
    "        elif choise == 4:\n",
    "            if money >= 1000:\n",
    "                print(\"물이 나왔습니다. \")\n",
    "                money = money - price[3]\n",
    "                수량[3] -= 1\n",
    "                print(f\"물의 남은 수량은 {수량[3]}개 입니다.\")\n",
    "                if 수량[3] == 0 :\n",
    "                    print(\"물의 남은 수량이 없습니다.\\n다른음료를 선택해주세요.\")\n",
    "            else :\n",
    "                print(\"잔액이 부족합니다.\")\n",
    "        if money != 0 :\n",
    "            more = input(f\"더 고르시겠습니까? 남은 잔액 {money} : (예/아니요)\")\n",
    "            if more == \"예\":\n",
    "                continue\n",
    "            elif more == \"아니요\":\n",
    "                print(f\"거스름돈 {money}원 입니다. \\n이용해 주셔서 감사합니다.\")\n",
    "                break\n",
    "            else : \n",
    "                print(\"제대로 입력하세요\")\n",
    "    else :\n",
    "        print(\"잔액을 제대로 입력해주세요. \")"
   ]
  },
  {
   "cell_type": "markdown",
   "id": "c99fe8d5",
   "metadata": {},
   "source": [
    "x = x - 1"
   ]
  },
  {
   "cell_type": "code",
   "execution_count": 1,
   "id": "22d4771d",
   "metadata": {},
   "outputs": [
    {
     "data": {
      "text/plain": [
       "[1, 3, 3]"
      ]
     },
     "execution_count": 1,
     "metadata": {},
     "output_type": "execute_result"
    }
   ],
   "source": [
    "리스트 = [1, 4, 3]\n",
    "리스트[1] -= 1\n",
    "리스트"
   ]
  },
  {
   "cell_type": "code",
   "execution_count": null,
   "id": "9c8f9dc3",
   "metadata": {},
   "outputs": [],
   "source": [
    "# 커피 자동판매기 딕셔너리 정의\n",
    "coffee_info = {\n",
    "    1:{\"종류\" : \"밀크\", \"가격\":1500, \"수량\":200},\n",
    "    2:{\"종류\" : \"코코아\", \"가격\":1800, \"수량\":150},\n",
    "    3:{\"종류\" : \"블랙커피\", \"가격\":1200, \"수량\":250},\n",
    "}\n",
    "\n",
    "def select_menu():\n",
    "    coffee_type = int(input('위 메뉴를 보고 원하는 종류를 번호로 선택하세요 : '))\n",
    "    \n",
    "    if coffee_type == 9:\n",
    "        return coffee_type\n",
    "    if coffee_type not in coffee_info:\n",
    "        print(\"올바르지 않ㅇ은 커피 종류 입니다.\")\n",
    "        \n",
    "    return coffee_type()"
   ]
  },
  {
   "cell_type": "code",
   "execution_count": 36,
   "id": "94eddf54",
   "metadata": {},
   "outputs": [
    {
     "name": "stdout",
     "output_type": "stream",
     "text": [
      "     *\n",
      "    ***\n",
      "   *****\n",
      "  *******\n",
      " *********\n"
     ]
    }
   ],
   "source": [
    "for i in range(1,6):\n",
    "    blank = 6-i\n",
    "    stars = i*2-1\n",
    "    print(' '*blank, end=\"\")\n",
    "    print('*'*stars, end=\"\")\n",
    "    print('')"
   ]
  },
  {
   "cell_type": "code",
   "execution_count": 51,
   "id": "786cd953",
   "metadata": {},
   "outputs": [],
   "source": [
    "import tkinter as tk\n",
    "\n",
    "def callback():\n",
    "    button[\"text\"] = \"Hello!\"\n",
    "\n",
    "# 윈도우 생성\n",
    "window = tk.Tk()\n",
    "window.title(\"Tkintar Example\") # 윈도우 제목 설정\n",
    "\n",
    "#라인 생성\n",
    "label = tk.Label(window, text=\"Hello, Tkinter\", padx = 20, pady = 10,\n",
    "                width = 100, height=1)\n",
    "label.pack() # 라벨을 윈도우에 배치\n",
    "\n",
    "# 윈도우 표시\n",
    "\n",
    "button = tk.Button(window, text = \"버튼\", background = 'white', command = callback)\n",
    "button.pack()\n",
    "window.mainloop()"
   ]
  },
  {
   "cell_type": "code",
   "execution_count": 54,
   "id": "760fa6e2",
   "metadata": {},
   "outputs": [],
   "source": [
    "def change_label_text():\n",
    "    if label.cget(\"text\") == \"Hello, Tkinter!\":\n",
    "        label.config(text = \"Button clicked!\")\n",
    "    else :\n",
    "        label.config(text = \"Hello, Tkinter!\")\n",
    "        \n",
    "window = tk.Tk()\n",
    "window.title(\"Tkinter Example\") # 윈도우 제목 설정\n",
    "window.geometry(\"400x300\") # 너비 : 400 높이 : 300\n",
    "#라벨 생성\n",
    "label = tk.Label(window, text = \"Hello, Tkinter!\")\n",
    "label.pack()\n",
    "# 버튼 생성\n",
    "button = tk.Button(window, text=\"Click me!\", command = change_label_text)\n",
    "button.pack()\n",
    "# 윈도우 표시\n",
    "window.mainloop()"
   ]
  },
  {
   "cell_type": "code",
   "execution_count": null,
   "id": "f11b51b7",
   "metadata": {},
   "outputs": [],
   "source": []
  }
 ],
 "metadata": {
  "kernelspec": {
   "display_name": "Python 3 (ipykernel)",
   "language": "python",
   "name": "python3"
  },
  "language_info": {
   "codemirror_mode": {
    "name": "ipython",
    "version": 3
   },
   "file_extension": ".py",
   "mimetype": "text/x-python",
   "name": "python",
   "nbconvert_exporter": "python",
   "pygments_lexer": "ipython3",
   "version": "3.10.9"
  }
 },
 "nbformat": 4,
 "nbformat_minor": 5
}
