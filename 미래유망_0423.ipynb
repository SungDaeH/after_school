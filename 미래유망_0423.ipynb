{
 "cells": [
  {
   "cell_type": "code",
   "execution_count": 2,
   "id": "d8cdadac-ae17-499a-a984-5fac20ba7bf3",
   "metadata": {},
   "outputs": [
    {
     "ename": "SyntaxError",
     "evalue": "unterminated string literal (detected at line 76) (1442774919.py, line 76)",
     "output_type": "error",
     "traceback": [
      "\u001b[1;36m  Cell \u001b[1;32mIn[2], line 76\u001b[1;36m\u001b[0m\n\u001b[1;33m    print(\"현재 \",str(self.room_dict)\",의 교실이 있습니다.)\u001b[0m\n\u001b[1;37m                                   ^\u001b[0m\n\u001b[1;31mSyntaxError\u001b[0m\u001b[1;31m:\u001b[0m unterminated string literal (detected at line 76)\n"
     ]
    }
   ],
   "source": [
    "class student :\n",
    "    num = -1\n",
    "    name = \"\"\n",
    "\n",
    "    def __init__(self,num,name) :\n",
    "        self.num = num\n",
    "        self.name = name\n",
    "\n",
    "    def get_info(self) :\n",
    "    \treturn [self.num, self.name]\n",
    "\n",
    "class room :\n",
    "    num = -1\n",
    "\n",
    "    def __init__(self,num) :\n",
    "        self.num = num\n",
    "        self.stu_dict = dict()\n",
    "\n",
    "    def is_in_stu_num(self,num) :\n",
    "        if(num in self.stu_dict) :\n",
    "            return True\n",
    "        else :\n",
    "            return False\n",
    "\n",
    "    def get_stu_info(self,num) :\n",
    "        try :\n",
    "            return self.stu_dict[num]\n",
    "        except KeyError :\n",
    "            return \"\"\n",
    "\n",
    "    def add_stu(self, stu) :\n",
    "        self.stu_dict[stu.get_info()[0]] = stu.get_info()[1]\n",
    "\n",
    "    def del_stu(self, num) :\n",
    "        try :\n",
    "            del self.stu_dict[num]\n",
    "        except KeyError :\n",
    "            pass\n",
    "\n",
    "    def mod_stu(self, stu_num, stu_name) :\n",
    "        try :\n",
    "            self.stu_dict[stu_num] = stu_name\n",
    "        except KeyError :\n",
    "            pass\n",
    "\n",
    "class manager :\n",
    "\n",
    "    def __init__(self) :\n",
    "        self.room_dict = dict()\n",
    "\n",
    "    def add_room(self) :\n",
    "    \tself.room_dict[len(self.room_dict)+1] = room(len(self.room_dict)+1)\n",
    "\n",
    "    def add_stu(self, room_num, stu) :\n",
    "        try :\n",
    "            self.room_dict[room_num].add_stu(stu)\n",
    "        except KeyError :\n",
    "            print(\" 없는 교실입니다.\")\n",
    "\n",
    "    def del_stu(self, stu_num) :\n",
    "        for i in range(len(self.room_dict)) :\n",
    "            self.room_dict[i+1].del_stu(stu_num)\n",
    "\n",
    "    def mod_stu(self, stu_num, mod_name) :\n",
    "        for i in range(len(self.room_dict)) :\n",
    "            self.room_dict[i+1].mod_stu(stu_name)\n",
    "\n",
    "    def print_stu(self, stu_num) :\n",
    "        for i in range(len(self.room_dict)) :\n",
    "            value = self.room_dict[i+1].get_stu_info(stu_num)\n",
    "            if(len(value) != 0 ):\n",
    "                print(value)\n",
    "                break\n",
    "\n",
    "    def show_room(self) :\n",
    "        print(\"현재 \"+str(self.room_dict)\"+의 교실이 있습니다.)\n",
    "              \n",
    "\n"
   ]
  },
  {
   "cell_type": "code",
   "execution_count": 14,
   "id": "2f8f716d-5123-4173-a027-35122de02b9d",
   "metadata": {},
   "outputs": [],
   "source": [
    "class Student : \n",
    "    num = -1\n",
    "    name = \"\"\n",
    "    \n",
    "    def __init__(self, num, name):\n",
    "        self.num = num\n",
    "        self.name = name\n",
    "        \n",
    "    def get_info(self):\n",
    "        return(self.num, self.name)"
   ]
  },
  {
   "cell_type": "code",
   "execution_count": 24,
   "id": "53bb41ed-bfd5-42f8-a95a-6f5a1e0ba7b9",
   "metadata": {},
   "outputs": [],
   "source": [
    "class Room :\n",
    "    num = -1\n",
    "    \n",
    "    def __init__(self, num):\n",
    "        self.num = num\n",
    "        self.stu_dict = dict()\n",
    "        \n",
    "    def is_in_stu_num(self, num):\n",
    "        if(num in self.stu_dict):\n",
    "            return True\n",
    "        else :\n",
    "            return False\n",
    "    \n",
    "    def get_stu_info(self, num):\n",
    "        try :\n",
    "            return self.stu_dict[num]\n",
    "        except KeyError :\n",
    "            return \"\"\n",
    "        \n",
    "    def add_stu(self, stu):\n",
    "        self.stu_dict[stu.get_info()[0]] = stu.get_info()[1]\n",
    "        \n",
    "    def del_stu(self, num):\n",
    "        try:\n",
    "            del self.stu_dict[num]\n",
    "        except KeyError:\n",
    "            pass\n",
    "        \n",
    "    def mod_stu(self, stu_num, stu_name):\n",
    "        try : \n",
    "            self.stu_dict[stu_num] = stu_name\n",
    "        except KeyError :\n",
    "            pass"
   ]
  },
  {
   "cell_type": "code",
   "execution_count": 28,
   "id": "360f0a9e-033d-4c07-a2b9-5a50c25f12ca",
   "metadata": {},
   "outputs": [],
   "source": [
    "class manager:\n",
    "    def __init__(self):\n",
    "        self.room_dict = dict()\n",
    "        \n",
    "    def add_room(self):\n",
    "        self.room_dict[len(self.room_dict)+1] = room(len(self.room_dict)+1)\n",
    "        \n",
    "    def add_stu(self, room_num, stu):\n",
    "        try :\n",
    "            self.room_dict[room_num].add_stu(stu)\n",
    "        except KeyError :\n",
    "            print('없는 교실입니다.')\n",
    "        \n",
    "    def del_stu(self, stu_num):\n",
    "        for i in range(len(self.room_dict)) : \n",
    "            self.room_dict[i+1].del_stu(stu_num)\n",
    "    def mod_stu(self, stu_num):\n",
    "        for i in range(len(self.room_dict)) :\n",
    "            value = self.room_dict[i+1].get_stu_info(stu_num)\n",
    "            if(len(value) != 0):\n",
    "                print(value)\n",
    "                break\n",
    "    def show_room(self) :\n",
    "        print('현재 '+str(self.room_dict)+'의 교실이 있습니다.')"
   ]
  },
  {
   "cell_type": "code",
   "execution_count": 19,
   "id": "05685ab3-dd0d-4c72-92bd-3380c37ceffa",
   "metadata": {},
   "outputs": [
    {
     "name": "stdin",
     "output_type": "stream",
     "text": [
      "이름을 입력하세요:  황성대\n",
      "나이를 입력하세요 :  19\n",
      "도시를 입력하세요 :  광주\n"
     ]
    },
    {
     "name": "stdout",
     "output_type": "stream",
     "text": [
      "{'name': '황성대', 'age': 19, 'city': '광주'}\n"
     ]
    }
   ],
   "source": [
    "# 빈 딕셔너리 생성\n",
    "my_dict = {}\n",
    "\n",
    "# 사용자로부터 정보 입력 받기\n",
    "name = input(\"이름을 입력하세요: \")\n",
    "age = int(input(\"나이를 입력하세요 : \"))\n",
    "city = input(\"도시를 입력하세요 : \")\n",
    "\n",
    "# 입력 받은 정보로 딕셔너리 업데이트\n",
    "my_dict['name'] = name\n",
    "my_dict['age'] = age\n",
    "my_dict['city'] = city\n",
    "\n",
    "print(my_dict)"
   ]
  },
  {
   "cell_type": "code",
   "execution_count": 77,
   "id": "059124d8-82ef-48ca-b3ec-7452daa59263",
   "metadata": {},
   "outputs": [
    {
     "name": "stdin",
     "output_type": "stream",
     "text": [
      "1번 학생의 새 이름을 입력하세요:  아무개\n"
     ]
    },
    {
     "name": "stdout",
     "output_type": "stream",
     "text": [
      "반(id=1, 학생들=[])\n"
     ]
    }
   ],
   "source": [
    "student1 = Student(1, '홍길동')\n",
    "room1 = Room(1)\n",
    "manager1 = Manager()\n",
    "\n",
    "# 학생을 반에 추가\n",
    "room1.add_stu(student1)\n",
    "\n",
    "# 학생의 이름 수정\n",
    "room1.mod_stu(1, '이순신')\n",
    "\n",
    "# 반을 매니저에 추가\n",
    "manager1.add_room()\n",
    "\n",
    "# 모든 반에서 학생의 이름 수정\n",
    "manager1.mod_stu(1)\n",
    "\n",
    "# 반과 학생들 출력\n",
    "manager1.show_room()\n"
   ]
  },
  {
   "cell_type": "code",
   "execution_count": 76,
   "id": "593ec927-0691-4488-a43c-4ea456046dc0",
   "metadata": {},
   "outputs": [
    {
     "name": "stdin",
     "output_type": "stream",
     "text": [
      "1번 학생의 새 이름을 입력하세요:  3\n"
     ]
    },
    {
     "name": "stdout",
     "output_type": "stream",
     "text": [
      "반(id=1, 학생들=[])\n"
     ]
    }
   ],
   "source": [
    "class Student:\n",
    "    def __init__(self, student_id, name):\n",
    "        self.student_id = student_id\n",
    "        self.name = name\n",
    "\n",
    "    def __repr__(self):\n",
    "        return f\"학생(id={self.student_id}, 이름='{self.name}')\"\n",
    "\n",
    "\n",
    "class Room:\n",
    "    def __init__(self, room_id):\n",
    "        self.room_id = room_id\n",
    "        self.students = []\n",
    "\n",
    "    def add_stu(self, student):\n",
    "        self.students.append(student)\n",
    "\n",
    "    def mod_stu(self, student_id, new_name):\n",
    "        for student in self.students:\n",
    "            if student.student_id == student_id:\n",
    "                student.name = new_name\n",
    "                break\n",
    "\n",
    "    def __repr__(self):\n",
    "        return f\"반(id={self.room_id}, 학생들={self.students})\"\n",
    "\n",
    "\n",
    "class Manager:\n",
    "    def __init__(self):\n",
    "        self.rooms = []\n",
    "\n",
    "    def add_room(self):\n",
    "        room_id = len(self.rooms) + 1\n",
    "        room = Room(room_id)\n",
    "        self.rooms.append(room)\n",
    "\n",
    "    def mod_stu(self, student_id):\n",
    "        new_name = input(f\"{student_id}번 학생의 새 이름을 입력하세요: \")\n",
    "        for room in self.rooms:\n",
    "            room.mod_stu(student_id, new_name)\n",
    "\n",
    "    def show_room(self):\n",
    "        for room in self.rooms:\n",
    "            print(room)\n",
    "\n",
    "\n",
    "# 인스턴스 생성\n",
    "student1 = Student(1, '홍길동')\n",
    "room1 = Room(1)\n",
    "manager1 = Manager()\n",
    "\n",
    "# 학생을 반에 추가\n",
    "room1.add_stu(student1)\n",
    "\n",
    "# 학생의 이름 수정\n",
    "room1.mod_stu(1, '이순신')\n",
    "\n",
    "# 반을 매니저에 추가\n",
    "manager1.add_room()\n",
    "\n",
    "# 모든 반에서 학생의 이름 수정\n",
    "manager1.mod_stu(1)\n",
    "\n",
    "# 반과 학생들 출력\n",
    "manager1.show_room()\n"
   ]
  },
  {
   "cell_type": "code",
   "execution_count": null,
   "id": "19ea0b3c-2067-487b-97b0-5faf43411ef8",
   "metadata": {},
   "outputs": [],
   "source": []
  }
 ],
 "metadata": {
  "kernelspec": {
   "display_name": "Python 3 (ipykernel)",
   "language": "python",
   "name": "python3"
  },
  "language_info": {
   "codemirror_mode": {
    "name": "ipython",
    "version": 3
   },
   "file_extension": ".py",
   "mimetype": "text/x-python",
   "name": "python",
   "nbconvert_exporter": "python",
   "pygments_lexer": "ipython3",
   "version": "3.10.9"
  }
 },
 "nbformat": 4,
 "nbformat_minor": 5
}
